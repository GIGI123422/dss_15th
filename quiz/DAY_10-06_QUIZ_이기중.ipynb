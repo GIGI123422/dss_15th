{
 "cells": [
  {
   "cell_type": "markdown",
   "metadata": {},
   "source": [
    "### 1  (if,else)"
   ]
  },
  {
   "cell_type": "code",
   "execution_count": 8,
   "metadata": {},
   "outputs": [],
   "source": [
    "# (1<=  n <=100) 사이에 있는 양의 정수 n을 입력 받아서 \n",
    "\n",
    "# n이 홀수 일 때 WEIRD 라고 출력하고 \n",
    "# n이 짝수이면서 n의 숫자가  2~ 5 사이일 때는 NOT WEIRD 라고 출력하고\n",
    "# n이 짝수이면서 n의 숫자가  6~20 사이일 때는 WEIRD를 출력하고\n",
    "# n이 짝수이면서 n의 숫자가 20보다 클 때는  NOT WEIRD 출력하여라"
   ]
  },
  {
   "cell_type": "code",
   "execution_count": 8,
   "metadata": {},
   "outputs": [
    {
     "name": "stdout",
     "output_type": "stream",
     "text": [
      "양의 정수 :24\n",
      "NOT WEIRD\n"
     ]
    }
   ],
   "source": [
    "n = int(input(\"양의 정수 :\"))\n",
    "if (1<=  n <=100):\n",
    "    if n % 2:\n",
    "        print(\"WEIRD\")\n",
    "    elif 2 <= n <= 5:\n",
    "        print(\"NOT WEIRD\")\n",
    "    elif 6 <= n <= 20:\n",
    "        print(\"WEIRD\")\n",
    "    elif n > 20:\n",
    "        print(\"NOT WEIRD\")"
   ]
  },
  {
   "cell_type": "markdown",
   "metadata": {},
   "source": [
    "### 2 (while)"
   ]
  },
  {
   "cell_type": "code",
   "execution_count": 10,
   "metadata": {},
   "outputs": [],
   "source": [
    "# while 문을 이용하여서 양의 정수 1 부터 100까지의 숫자 합을 구하시요!\n"
   ]
  },
  {
   "cell_type": "code",
   "execution_count": 11,
   "metadata": {},
   "outputs": [
    {
     "name": "stdout",
     "output_type": "stream",
     "text": [
      "5050\n"
     ]
    }
   ],
   "source": [
    "num = 1\n",
    "sum = 0\n",
    "while num < 101:\n",
    "    sum += num\n",
    "    num += 1\n",
    "print(sum)"
   ]
  },
  {
   "cell_type": "markdown",
   "metadata": {},
   "source": [
    "### 3 (while)"
   ]
  },
  {
   "cell_type": "code",
   "execution_count": 12,
   "metadata": {},
   "outputs": [],
   "source": [
    "# 0에서 6까지의 숫자중에서 \n",
    "# while 문을 이용하여서 \n",
    "# 0 1 2 4 5 만 출력하여라\n"
   ]
  },
  {
   "cell_type": "code",
   "execution_count": 26,
   "metadata": {},
   "outputs": [
    {
     "name": "stdout",
     "output_type": "stream",
     "text": [
      "0 1 2 4 5 "
     ]
    }
   ],
   "source": [
    "ls = [num1 for num1 in range(0,6)]\n",
    "num = 0\n",
    "while num < 6:\n",
    "    ls[num]\n",
    "    if ls[num] == 0 or ls[num] % 3:\n",
    "        print(ls[num], end = \" \")\n",
    "    num += 1  "
   ]
  },
  {
   "cell_type": "markdown",
   "metadata": {},
   "source": [
    "### 4 (function)"
   ]
  },
  {
   "cell_type": "code",
   "execution_count": null,
   "metadata": {},
   "outputs": [],
   "source": [
    "# 함수(def)를 이용하여서 \n",
    "# (8,2,3,-1,7)의 곱을 구하여라"
   ]
  },
  {
   "cell_type": "code",
   "execution_count": 2,
   "metadata": {},
   "outputs": [
    {
     "name": "stdout",
     "output_type": "stream",
     "text": [
      "(8, 2, 3, -1, 7) <class 'tuple'>\n",
      "-336\n"
     ]
    }
   ],
   "source": [
    "data = [8,2,3,-1,7]\n",
    "\n",
    "def duplication(ls2):\n",
    "    count = 0 \n",
    "    result = 1\n",
    "    while count < 5:\n",
    "        result *= ls2[count]\n",
    "        count += 1\n",
    "    print(result)\n",
    "def dd(*num):\n",
    "    print(num, type(num))\n",
    "dd(8,2,3,-1,7)\n",
    "duplication( data )"
   ]
  },
  {
   "cell_type": "markdown",
   "metadata": {},
   "source": [
    "### 5 (lambda) "
   ]
  },
  {
   "cell_type": "code",
   "execution_count": 14,
   "metadata": {},
   "outputs": [],
   "source": [
    "# 다음 리스트의 주어진 숫자들을 양의 정수와 음의 정수로 구분하여라 !\n",
    "# array_nums = [-1, 2, -3, 5, 7, 8, 9, -10]\n",
    "# [-1, -3, -10, 2, 5, 7, 8, 9] 이렇게 분리 되어야 함"
   ]
  },
  {
   "cell_type": "code",
   "execution_count": 31,
   "metadata": {},
   "outputs": [
    {
     "name": "stdout",
     "output_type": "stream",
     "text": [
      "[-1, -3, -10, 2, 5, 7, 8, 9]\n"
     ]
    }
   ],
   "source": [
    "array_nums = [-1, 2, -3, 5, 7, 8, 9, -10]\n",
    "puls_nums, minus_nums = [], []\n",
    " \n",
    "minus_nums = list(filter(lambda data: True if data < 0 else False, array_nums))\n",
    "plus_nums = list(filter(lambda data: True if data > 0 else False, array_nums))\n",
    "\n",
    "result = minus_nums+plus_nums \n",
    "\n",
    "print(result)"
   ]
  },
  {
   "cell_type": "code",
   "execution_count": null,
   "metadata": {},
   "outputs": [],
   "source": []
  }
 ],
 "metadata": {
  "kernelspec": {
   "display_name": "Python 3",
   "language": "python",
   "name": "python3"
  },
  "language_info": {
   "codemirror_mode": {
    "name": "ipython",
    "version": 3
   },
   "file_extension": ".py",
   "mimetype": "text/x-python",
   "name": "python",
   "nbconvert_exporter": "python",
   "pygments_lexer": "ipython3",
   "version": "3.8.3"
  }
 },
 "nbformat": 4,
 "nbformat_minor": 4
}
