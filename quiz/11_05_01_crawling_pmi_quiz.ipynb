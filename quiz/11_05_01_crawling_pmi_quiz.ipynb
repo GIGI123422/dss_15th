{
 "cells": [
  {
   "cell_type": "markdown",
   "metadata": {
    "slideshow": {
     "slide_type": "slide"
    }
   },
   "source": [
    "### HTML 웹 크롤링 실습\n",
    "- 제조업 PMI 데이터 수집\n",
    "    - tradingeconomics 웹 서비스에서 아시아의 제조업 PMI 데이터를 수집하여 PMI 지표가 상승한 국가의 데이터를 출력\n",
    "    - `https://ko.tradingeconomics.com/`\n",
    "    - 지표 -> 사업 -> 제조업 PMI -> 아시아"
   ]
  },
  {
   "cell_type": "code",
   "execution_count": 1,
   "metadata": {},
   "outputs": [],
   "source": [
    "import requests\n",
    "from bs4 import BeautifulSoup"
   ]
  },
  {
   "cell_type": "markdown",
   "metadata": {},
   "source": [
    "1. 아시아 국가별 PMI 지수 데이터 수집"
   ]
  },
  {
   "cell_type": "code",
   "execution_count": 3,
   "metadata": {},
   "outputs": [
    {
     "data": {
      "text/plain": [
       "<Response [200]>"
      ]
     },
     "execution_count": 3,
     "metadata": {},
     "output_type": "execute_result"
    }
   ],
   "source": [
    "url = 'https://ko.tradingeconomics.com/country-list/manufacturing-pmi?continent=asia'\n",
    "response = requests.get(url)\n",
    "response"
   ]
  },
  {
   "cell_type": "code",
   "execution_count": 70,
   "metadata": {},
   "outputs": [
    {
     "data": {
      "text/plain": [
       "20"
      ]
     },
     "execution_count": 70,
     "metadata": {},
     "output_type": "execute_result"
    }
   ],
   "source": [
    "dom = BeautifulSoup(response.content, 'html.parser')\n",
    "elements = dom.select(\".table-responsive > table > tr\")\n",
    "#ctl00_ContentPlaceHolder1_ctl01_UpdatePanel1 > div > div.table-responsive > table > tbody > tr:nth-child(1)\n",
    "len(elements)"
   ]
  },
  {
   "cell_type": "code",
   "execution_count": 71,
   "metadata": {},
   "outputs": [
    {
     "data": {
      "text/plain": [
       "<tr class=\"datatable-row\">\n",
       "<td style=\"max-width: 120px; overflow: hidden; padding-left: 10px; text-align: left; font-weight: 600;\">\n",
       "<a href=\"/china/manufacturing-pmi\">\n",
       "                                        중국\n",
       "                                    </a></td>\n",
       "<td data-value=\"53.60\">\n",
       "                                    53.6\n",
       "                                </td>\n",
       "<td>53</td>\n",
       "<td class=\"hidden-xs\"><span>2020-10</span></td>\n",
       "<td class=\"hidden-sm hidden-xs\">\n",
       "                                    포인트\n",
       "                                </td>\n",
       "</tr>"
      ]
     },
     "execution_count": 71,
     "metadata": {},
     "output_type": "execute_result"
    }
   ],
   "source": [
    "elements[0]\n"
   ]
  },
  {
   "cell_type": "code",
   "execution_count": 84,
   "metadata": {},
   "outputs": [
    {
     "data": {
      "text/plain": [
       "[{'country': '중국', 'last': '53.6', 'before': '53', 'date': '2020-10'},\n",
       " {'country': '홍콩', 'last': '49.8', 'before': '47.7', 'date': '2020-10'},\n",
       " {'country': '인도', 'last': '58.9', 'before': '56.8', 'date': '2020-10'},\n",
       " {'country': '인도네시아', 'last': '47.8', 'before': '47.2', 'date': '2020-10'},\n",
       " {'country': '이스라엘', 'last': '53.5', 'before': '53.1', 'date': '2020-09'},\n",
       " {'country': '일본', 'last': '48.7', 'before': '47.7', 'date': '2020-10'},\n",
       " {'country': '카자흐스탄', 'last': '50.8', 'before': '52.6', 'date': '2020-10'},\n",
       " {'country': '레바논', 'last': '43.3', 'before': '42.1', 'date': '2020-10'},\n",
       " {'country': '말레이시아', 'last': '48.5', 'before': '49', 'date': '2020-10'},\n",
       " {'country': '미얀마', 'last': '30.6', 'before': '35.9', 'date': '2020-10'},\n",
       " {'country': '필리핀', 'last': '48.5', 'before': '50.1', 'date': '2020-10'},\n",
       " {'country': '카타르', 'last': '51.5', 'before': '51.4', 'date': '2020-10'},\n",
       " {'country': '사우디 아라비아', 'last': '51', 'before': '50.7', 'date': '2020-10'},\n",
       " {'country': '싱가포르', 'last': '50.5', 'before': '50.3', 'date': '2020-10'},\n",
       " {'country': '대한민국', 'last': '51.2', 'before': '49.8', 'date': '2020-10'},\n",
       " {'country': '스리랑카', 'last': '59.8', 'before': '57.9', 'date': '2020-09'},\n",
       " {'country': '대만', 'last': '55.1', 'before': '55.2', 'date': '2020-10'},\n",
       " {'country': '태국', 'last': '50.8', 'before': '49.9', 'date': '2020-10'},\n",
       " {'country': '아랍 에미리트', 'last': '49.5', 'before': '51', 'date': '2020-10'},\n",
       " {'country': '베트남', 'last': '51.8', 'before': '52.2', 'date': '2020-10'}]"
      ]
     },
     "execution_count": 84,
     "metadata": {},
     "output_type": "execute_result"
    }
   ],
   "source": [
    "datas_ls = []\n",
    "for element in elements:\n",
    "    datas = {}\n",
    "    datas[\"country\"] = element.select('td')[0].text.strip()\n",
    "    datas[\"last\"] = element.select('td')[1].text.strip()\n",
    "    datas[\"before\"] = element.select('td')[2].text.strip()\n",
    "    datas[\"date\"] = element.select('td')[3].text.strip()\n",
    "    datas_ls.append(datas)\n",
    "    \n",
    "datas_ls"
   ]
  },
  {
   "cell_type": "code",
   "execution_count": 85,
   "metadata": {},
   "outputs": [
    {
     "data": {
      "text/html": [
       "<div>\n",
       "<style scoped>\n",
       "    .dataframe tbody tr th:only-of-type {\n",
       "        vertical-align: middle;\n",
       "    }\n",
       "\n",
       "    .dataframe tbody tr th {\n",
       "        vertical-align: top;\n",
       "    }\n",
       "\n",
       "    .dataframe thead th {\n",
       "        text-align: right;\n",
       "    }\n",
       "</style>\n",
       "<table border=\"1\" class=\"dataframe\">\n",
       "  <thead>\n",
       "    <tr style=\"text-align: right;\">\n",
       "      <th></th>\n",
       "      <th>country</th>\n",
       "      <th>last</th>\n",
       "      <th>before</th>\n",
       "      <th>date</th>\n",
       "    </tr>\n",
       "  </thead>\n",
       "  <tbody>\n",
       "    <tr>\n",
       "      <th>15</th>\n",
       "      <td>스리랑카</td>\n",
       "      <td>59.8</td>\n",
       "      <td>57.9</td>\n",
       "      <td>2020-09</td>\n",
       "    </tr>\n",
       "    <tr>\n",
       "      <th>16</th>\n",
       "      <td>대만</td>\n",
       "      <td>55.1</td>\n",
       "      <td>55.2</td>\n",
       "      <td>2020-10</td>\n",
       "    </tr>\n",
       "    <tr>\n",
       "      <th>17</th>\n",
       "      <td>태국</td>\n",
       "      <td>50.8</td>\n",
       "      <td>49.9</td>\n",
       "      <td>2020-10</td>\n",
       "    </tr>\n",
       "    <tr>\n",
       "      <th>18</th>\n",
       "      <td>아랍 에미리트</td>\n",
       "      <td>49.5</td>\n",
       "      <td>51</td>\n",
       "      <td>2020-10</td>\n",
       "    </tr>\n",
       "    <tr>\n",
       "      <th>19</th>\n",
       "      <td>베트남</td>\n",
       "      <td>51.8</td>\n",
       "      <td>52.2</td>\n",
       "      <td>2020-10</td>\n",
       "    </tr>\n",
       "  </tbody>\n",
       "</table>\n",
       "</div>"
      ],
      "text/plain": [
       "    country  last before     date\n",
       "15     스리랑카  59.8   57.9  2020-09\n",
       "16       대만  55.1   55.2  2020-10\n",
       "17       태국  50.8   49.9  2020-10\n",
       "18  아랍 에미리트  49.5     51  2020-10\n",
       "19      베트남  51.8   52.2  2020-10"
      ]
     },
     "execution_count": 85,
     "metadata": {},
     "output_type": "execute_result"
    }
   ],
   "source": [
    "asia_pmi_df = pd.DataFrame(datas_ls)\n",
    "asia_pmi_df.tail(5)"
   ]
  },
  {
   "cell_type": "code",
   "execution_count": 3,
   "metadata": {
    "scrolled": true,
    "slideshow": {
     "slide_type": "slide"
    }
   },
   "outputs": [
    {
     "data": {
      "text/html": [
       "<div>\n",
       "<style scoped>\n",
       "    .dataframe tbody tr th:only-of-type {\n",
       "        vertical-align: middle;\n",
       "    }\n",
       "\n",
       "    .dataframe tbody tr th {\n",
       "        vertical-align: top;\n",
       "    }\n",
       "\n",
       "    .dataframe thead th {\n",
       "        text-align: right;\n",
       "    }\n",
       "</style>\n",
       "<table border=\"1\" class=\"dataframe\">\n",
       "  <thead>\n",
       "    <tr style=\"text-align: right;\">\n",
       "      <th></th>\n",
       "      <th>country</th>\n",
       "      <th>last</th>\n",
       "      <th>before</th>\n",
       "      <th>date</th>\n",
       "    </tr>\n",
       "  </thead>\n",
       "  <tbody>\n",
       "    <tr>\n",
       "      <th>15</th>\n",
       "      <td>스리랑카</td>\n",
       "      <td>64.6</td>\n",
       "      <td>67.3</td>\n",
       "      <td>2020-07</td>\n",
       "    </tr>\n",
       "    <tr>\n",
       "      <th>16</th>\n",
       "      <td>대만</td>\n",
       "      <td>50.6</td>\n",
       "      <td>46.2</td>\n",
       "      <td>2020-07</td>\n",
       "    </tr>\n",
       "    <tr>\n",
       "      <th>17</th>\n",
       "      <td>태국</td>\n",
       "      <td>45.9</td>\n",
       "      <td>43.5</td>\n",
       "      <td>2020-07</td>\n",
       "    </tr>\n",
       "    <tr>\n",
       "      <th>18</th>\n",
       "      <td>아랍 에미리트</td>\n",
       "      <td>50.8</td>\n",
       "      <td>50.4</td>\n",
       "      <td>2020-07</td>\n",
       "    </tr>\n",
       "    <tr>\n",
       "      <th>19</th>\n",
       "      <td>베트남</td>\n",
       "      <td>47.6</td>\n",
       "      <td>51.1</td>\n",
       "      <td>2020-07</td>\n",
       "    </tr>\n",
       "  </tbody>\n",
       "</table>\n",
       "</div>"
      ],
      "text/plain": [
       "    country  last before     date\n",
       "15     스리랑카  64.6   67.3  2020-07\n",
       "16       대만  50.6   46.2  2020-07\n",
       "17       태국  45.9   43.5  2020-07\n",
       "18  아랍 에미리트  50.8   50.4  2020-07\n",
       "19      베트남  47.6   51.1  2020-07"
      ]
     },
     "execution_count": 3,
     "metadata": {},
     "output_type": "execute_result"
    }
   ],
   "source": []
  },
  {
   "cell_type": "markdown",
   "metadata": {},
   "source": [
    "2. PMI 지수 변동률 컬럼 추가"
   ]
  },
  {
   "cell_type": "code",
   "execution_count": 86,
   "metadata": {},
   "outputs": [
    {
     "name": "stdout",
     "output_type": "stream",
     "text": [
      "<class 'pandas.core.frame.DataFrame'>\n",
      "RangeIndex: 20 entries, 0 to 19\n",
      "Data columns (total 4 columns):\n",
      " #   Column   Non-Null Count  Dtype  \n",
      "---  ------   --------------  -----  \n",
      " 0   country  20 non-null     object \n",
      " 1   last     20 non-null     float64\n",
      " 2   before   20 non-null     float64\n",
      " 3   date     20 non-null     object \n",
      "dtypes: float64(2), object(2)\n",
      "memory usage: 768.0+ bytes\n"
     ]
    }
   ],
   "source": [
    "asia_pmi_df[[\"last\", \"before\"]] = asia_pmi_df[[\"last\", \"before\"]].astype(\"float\")\n",
    "asia_pmi_df.info()"
   ]
  },
  {
   "cell_type": "code",
   "execution_count": 91,
   "metadata": {},
   "outputs": [
    {
     "data": {
      "text/html": [
       "<div>\n",
       "<style scoped>\n",
       "    .dataframe tbody tr th:only-of-type {\n",
       "        vertical-align: middle;\n",
       "    }\n",
       "\n",
       "    .dataframe tbody tr th {\n",
       "        vertical-align: top;\n",
       "    }\n",
       "\n",
       "    .dataframe thead th {\n",
       "        text-align: right;\n",
       "    }\n",
       "</style>\n",
       "<table border=\"1\" class=\"dataframe\">\n",
       "  <thead>\n",
       "    <tr style=\"text-align: right;\">\n",
       "      <th></th>\n",
       "      <th>country</th>\n",
       "      <th>last</th>\n",
       "      <th>before</th>\n",
       "      <th>date</th>\n",
       "      <th>change</th>\n",
       "    </tr>\n",
       "  </thead>\n",
       "  <tbody>\n",
       "    <tr>\n",
       "      <th>15</th>\n",
       "      <td>스리랑카</td>\n",
       "      <td>59.8</td>\n",
       "      <td>57.9</td>\n",
       "      <td>2020-09</td>\n",
       "      <td>1.9</td>\n",
       "    </tr>\n",
       "    <tr>\n",
       "      <th>16</th>\n",
       "      <td>대만</td>\n",
       "      <td>55.1</td>\n",
       "      <td>55.2</td>\n",
       "      <td>2020-10</td>\n",
       "      <td>-0.1</td>\n",
       "    </tr>\n",
       "    <tr>\n",
       "      <th>17</th>\n",
       "      <td>태국</td>\n",
       "      <td>50.8</td>\n",
       "      <td>49.9</td>\n",
       "      <td>2020-10</td>\n",
       "      <td>0.9</td>\n",
       "    </tr>\n",
       "    <tr>\n",
       "      <th>18</th>\n",
       "      <td>아랍 에미리트</td>\n",
       "      <td>49.5</td>\n",
       "      <td>51.0</td>\n",
       "      <td>2020-10</td>\n",
       "      <td>-1.5</td>\n",
       "    </tr>\n",
       "    <tr>\n",
       "      <th>19</th>\n",
       "      <td>베트남</td>\n",
       "      <td>51.8</td>\n",
       "      <td>52.2</td>\n",
       "      <td>2020-10</td>\n",
       "      <td>-0.4</td>\n",
       "    </tr>\n",
       "  </tbody>\n",
       "</table>\n",
       "</div>"
      ],
      "text/plain": [
       "    country  last  before     date  change\n",
       "15     스리랑카  59.8    57.9  2020-09     1.9\n",
       "16       대만  55.1    55.2  2020-10    -0.1\n",
       "17       태국  50.8    49.9  2020-10     0.9\n",
       "18  아랍 에미리트  49.5    51.0  2020-10    -1.5\n",
       "19      베트남  51.8    52.2  2020-10    -0.4"
      ]
     },
     "execution_count": 91,
     "metadata": {},
     "output_type": "execute_result"
    }
   ],
   "source": [
    "asia_pmi_df[\"change\"] = asia_pmi_df[\"last\"] - asia_pmi_df[\"before\"]\n",
    "asia_pmi_df.tail(5)"
   ]
  },
  {
   "cell_type": "code",
   "execution_count": 5,
   "metadata": {},
   "outputs": [
    {
     "data": {
      "text/html": [
       "<div>\n",
       "<style scoped>\n",
       "    .dataframe tbody tr th:only-of-type {\n",
       "        vertical-align: middle;\n",
       "    }\n",
       "\n",
       "    .dataframe tbody tr th {\n",
       "        vertical-align: top;\n",
       "    }\n",
       "\n",
       "    .dataframe thead th {\n",
       "        text-align: right;\n",
       "    }\n",
       "</style>\n",
       "<table border=\"1\" class=\"dataframe\">\n",
       "  <thead>\n",
       "    <tr style=\"text-align: right;\">\n",
       "      <th></th>\n",
       "      <th>country</th>\n",
       "      <th>last</th>\n",
       "      <th>before</th>\n",
       "      <th>date</th>\n",
       "      <th>change</th>\n",
       "    </tr>\n",
       "  </thead>\n",
       "  <tbody>\n",
       "    <tr>\n",
       "      <th>15</th>\n",
       "      <td>스리랑카</td>\n",
       "      <td>64.6</td>\n",
       "      <td>67.3</td>\n",
       "      <td>2020-07</td>\n",
       "      <td>-2.7</td>\n",
       "    </tr>\n",
       "    <tr>\n",
       "      <th>16</th>\n",
       "      <td>대만</td>\n",
       "      <td>50.6</td>\n",
       "      <td>46.2</td>\n",
       "      <td>2020-07</td>\n",
       "      <td>4.4</td>\n",
       "    </tr>\n",
       "    <tr>\n",
       "      <th>17</th>\n",
       "      <td>태국</td>\n",
       "      <td>45.9</td>\n",
       "      <td>43.5</td>\n",
       "      <td>2020-07</td>\n",
       "      <td>2.4</td>\n",
       "    </tr>\n",
       "    <tr>\n",
       "      <th>18</th>\n",
       "      <td>아랍 에미리트</td>\n",
       "      <td>50.8</td>\n",
       "      <td>50.4</td>\n",
       "      <td>2020-07</td>\n",
       "      <td>0.4</td>\n",
       "    </tr>\n",
       "    <tr>\n",
       "      <th>19</th>\n",
       "      <td>베트남</td>\n",
       "      <td>47.6</td>\n",
       "      <td>51.1</td>\n",
       "      <td>2020-07</td>\n",
       "      <td>-3.5</td>\n",
       "    </tr>\n",
       "  </tbody>\n",
       "</table>\n",
       "</div>"
      ],
      "text/plain": [
       "    country  last before     date  change\n",
       "15     스리랑카  64.6   67.3  2020-07    -2.7\n",
       "16       대만  50.6   46.2  2020-07     4.4\n",
       "17       태국  45.9   43.5  2020-07     2.4\n",
       "18  아랍 에미리트  50.8   50.4  2020-07     0.4\n",
       "19      베트남  47.6   51.1  2020-07    -3.5"
      ]
     },
     "execution_count": 5,
     "metadata": {},
     "output_type": "execute_result"
    }
   ],
   "source": []
  },
  {
   "cell_type": "markdown",
   "metadata": {},
   "source": [
    "3. 제조업 PMI가 이전 달보다 안 좋아진 국가리스트 출력"
   ]
  },
  {
   "cell_type": "code",
   "execution_count": 89,
   "metadata": {},
   "outputs": [
    {
     "data": {
      "text/html": [
       "<div>\n",
       "<style scoped>\n",
       "    .dataframe tbody tr th:only-of-type {\n",
       "        vertical-align: middle;\n",
       "    }\n",
       "\n",
       "    .dataframe tbody tr th {\n",
       "        vertical-align: top;\n",
       "    }\n",
       "\n",
       "    .dataframe thead th {\n",
       "        text-align: right;\n",
       "    }\n",
       "</style>\n",
       "<table border=\"1\" class=\"dataframe\">\n",
       "  <thead>\n",
       "    <tr style=\"text-align: right;\">\n",
       "      <th></th>\n",
       "      <th>country</th>\n",
       "      <th>last</th>\n",
       "      <th>before</th>\n",
       "      <th>date</th>\n",
       "      <th>change</th>\n",
       "    </tr>\n",
       "  </thead>\n",
       "  <tbody>\n",
       "    <tr>\n",
       "      <th>6</th>\n",
       "      <td>카자흐스탄</td>\n",
       "      <td>50.8</td>\n",
       "      <td>52.6</td>\n",
       "      <td>2020-10</td>\n",
       "      <td>-1.8</td>\n",
       "    </tr>\n",
       "    <tr>\n",
       "      <th>8</th>\n",
       "      <td>말레이시아</td>\n",
       "      <td>48.5</td>\n",
       "      <td>49.0</td>\n",
       "      <td>2020-10</td>\n",
       "      <td>-0.5</td>\n",
       "    </tr>\n",
       "    <tr>\n",
       "      <th>9</th>\n",
       "      <td>미얀마</td>\n",
       "      <td>30.6</td>\n",
       "      <td>35.9</td>\n",
       "      <td>2020-10</td>\n",
       "      <td>-5.3</td>\n",
       "    </tr>\n",
       "    <tr>\n",
       "      <th>10</th>\n",
       "      <td>필리핀</td>\n",
       "      <td>48.5</td>\n",
       "      <td>50.1</td>\n",
       "      <td>2020-10</td>\n",
       "      <td>-1.6</td>\n",
       "    </tr>\n",
       "    <tr>\n",
       "      <th>16</th>\n",
       "      <td>대만</td>\n",
       "      <td>55.1</td>\n",
       "      <td>55.2</td>\n",
       "      <td>2020-10</td>\n",
       "      <td>-0.1</td>\n",
       "    </tr>\n",
       "    <tr>\n",
       "      <th>18</th>\n",
       "      <td>아랍 에미리트</td>\n",
       "      <td>49.5</td>\n",
       "      <td>51.0</td>\n",
       "      <td>2020-10</td>\n",
       "      <td>-1.5</td>\n",
       "    </tr>\n",
       "    <tr>\n",
       "      <th>19</th>\n",
       "      <td>베트남</td>\n",
       "      <td>51.8</td>\n",
       "      <td>52.2</td>\n",
       "      <td>2020-10</td>\n",
       "      <td>-0.4</td>\n",
       "    </tr>\n",
       "  </tbody>\n",
       "</table>\n",
       "</div>"
      ],
      "text/plain": [
       "    country  last  before     date  change\n",
       "6     카자흐스탄  50.8    52.6  2020-10    -1.8\n",
       "8     말레이시아  48.5    49.0  2020-10    -0.5\n",
       "9       미얀마  30.6    35.9  2020-10    -5.3\n",
       "10      필리핀  48.5    50.1  2020-10    -1.6\n",
       "16       대만  55.1    55.2  2020-10    -0.1\n",
       "18  아랍 에미리트  49.5    51.0  2020-10    -1.5\n",
       "19      베트남  51.8    52.2  2020-10    -0.4"
      ]
     },
     "execution_count": 89,
     "metadata": {},
     "output_type": "execute_result"
    }
   ],
   "source": [
    "asia_pmi_df[asia_pmi_df[\"change\"]<0]"
   ]
  },
  {
   "cell_type": "code",
   "execution_count": 6,
   "metadata": {
    "slideshow": {
     "slide_type": "slide"
    }
   },
   "outputs": [
    {
     "data": {
      "text/html": [
       "<div>\n",
       "<style scoped>\n",
       "    .dataframe tbody tr th:only-of-type {\n",
       "        vertical-align: middle;\n",
       "    }\n",
       "\n",
       "    .dataframe tbody tr th {\n",
       "        vertical-align: top;\n",
       "    }\n",
       "\n",
       "    .dataframe thead th {\n",
       "        text-align: right;\n",
       "    }\n",
       "</style>\n",
       "<table border=\"1\" class=\"dataframe\">\n",
       "  <thead>\n",
       "    <tr style=\"text-align: right;\">\n",
       "      <th></th>\n",
       "      <th>country</th>\n",
       "      <th>last</th>\n",
       "      <th>before</th>\n",
       "      <th>date</th>\n",
       "      <th>change</th>\n",
       "    </tr>\n",
       "  </thead>\n",
       "  <tbody>\n",
       "    <tr>\n",
       "      <th>1</th>\n",
       "      <td>홍콩</td>\n",
       "      <td>44.5</td>\n",
       "      <td>49.6</td>\n",
       "      <td>2020-07</td>\n",
       "      <td>-5.1</td>\n",
       "    </tr>\n",
       "    <tr>\n",
       "      <th>2</th>\n",
       "      <td>인도</td>\n",
       "      <td>46</td>\n",
       "      <td>47.2</td>\n",
       "      <td>2020-07</td>\n",
       "      <td>-1.2</td>\n",
       "    </tr>\n",
       "    <tr>\n",
       "      <th>4</th>\n",
       "      <td>이스라엘</td>\n",
       "      <td>38.5</td>\n",
       "      <td>39.3</td>\n",
       "      <td>2020-05</td>\n",
       "      <td>-0.8</td>\n",
       "    </tr>\n",
       "    <tr>\n",
       "      <th>6</th>\n",
       "      <td>카자흐스탄</td>\n",
       "      <td>48</td>\n",
       "      <td>52.9</td>\n",
       "      <td>2020-07</td>\n",
       "      <td>-4.9</td>\n",
       "    </tr>\n",
       "    <tr>\n",
       "      <th>8</th>\n",
       "      <td>말레이시아</td>\n",
       "      <td>50</td>\n",
       "      <td>51</td>\n",
       "      <td>2020-07</td>\n",
       "      <td>-1.0</td>\n",
       "    </tr>\n",
       "    <tr>\n",
       "      <th>10</th>\n",
       "      <td>필리핀</td>\n",
       "      <td>48.4</td>\n",
       "      <td>49.7</td>\n",
       "      <td>2020-07</td>\n",
       "      <td>-1.3</td>\n",
       "    </tr>\n",
       "    <tr>\n",
       "      <th>15</th>\n",
       "      <td>스리랑카</td>\n",
       "      <td>64.6</td>\n",
       "      <td>67.3</td>\n",
       "      <td>2020-07</td>\n",
       "      <td>-2.7</td>\n",
       "    </tr>\n",
       "    <tr>\n",
       "      <th>19</th>\n",
       "      <td>베트남</td>\n",
       "      <td>47.6</td>\n",
       "      <td>51.1</td>\n",
       "      <td>2020-07</td>\n",
       "      <td>-3.5</td>\n",
       "    </tr>\n",
       "  </tbody>\n",
       "</table>\n",
       "</div>"
      ],
      "text/plain": [
       "   country  last before     date  change\n",
       "1       홍콩  44.5   49.6  2020-07    -5.1\n",
       "2       인도    46   47.2  2020-07    -1.2\n",
       "4     이스라엘  38.5   39.3  2020-05    -0.8\n",
       "6    카자흐스탄    48   52.9  2020-07    -4.9\n",
       "8    말레이시아    50     51  2020-07    -1.0\n",
       "10     필리핀  48.4   49.7  2020-07    -1.3\n",
       "15    스리랑카  64.6   67.3  2020-07    -2.7\n",
       "19     베트남  47.6   51.1  2020-07    -3.5"
      ]
     },
     "execution_count": 6,
     "metadata": {},
     "output_type": "execute_result"
    }
   ],
   "source": []
  }
 ],
 "metadata": {
  "kernelspec": {
   "display_name": "Python 3",
   "language": "python",
   "name": "python3"
  },
  "language_info": {
   "codemirror_mode": {
    "name": "ipython",
    "version": 3
   },
   "file_extension": ".py",
   "mimetype": "text/x-python",
   "name": "python",
   "nbconvert_exporter": "python",
   "pygments_lexer": "ipython3",
   "version": "3.8.3"
  }
 },
 "nbformat": 4,
 "nbformat_minor": 4
}
