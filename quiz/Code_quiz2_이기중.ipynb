{
 "cells": [
  {
   "cell_type": "markdown",
   "metadata": {},
   "source": [
    "# 문제 설명\n",
    "- 수포자는 수학을 포기한 사람의 준말입니다. 수포자 삼인방은 모의고사에 수학 문제를 전부 찍으려 합니다. \n",
    "- 수포자는 1번 문제부터 마지막 문제까지 다음과 같이 찍습니다.\n",
    "\n",
    "- 1번 수포자가 찍는 방식: 1, 2, 3, 4, 5, 1, 2, 3, 4, 5, ...\n",
    "- 2번 수포자가 찍는 방식: 2, 1, 2, 3, 2, 4, 2, 5, 2, 1, 2, 3, 2, 4, 2, 5, ...\n",
    "- 3번 수포자가 찍는 방식: 3, 3, 1, 1, 2, 2, 4, 4, 5, 5, 3, 3, 1, 1, 2, 2, 4, 4, 5, 5, ...\n",
    "\n",
    "- 1번 문제부터 마지막 문제까지의 정답이 순서대로 들은 배열 answers가 주어졌을 때, \n",
    "- 가장 많은 문제를 맞힌 사람이 누구인지 배열에 담아 return 하도록 solution 함수를 작성해주세요.\n",
    "\n",
    "- 제한 조건\n",
    "- 시험은 최대 10,000 문제로 구성되어있습니다.\n",
    "- 문제의 정답은 1, 2, 3, 4, 5중 하나입니다.\n",
    "- 가장 높은 점수를 받은 사람이 여럿일 경우, return하는 값을 오름차순 정렬해주세요."
   ]
  },
  {
   "cell_type": "code",
   "execution_count": 2,
   "metadata": {},
   "outputs": [],
   "source": [
    "# input output \n",
    "# if answers = [1,2,3,4,5]\n",
    "# output = [1]\n",
    "# if answers = [1,3,2,4,2]\n",
    "# output = [1,2,3]\n",
    "\n",
    "### answers 와 answer 을 잘 구별 해주세요!\n",
    "# answers : 정답\n",
    "# answer : 수포자가 정답 작성 방식 "
   ]
  },
  {
   "cell_type": "code",
   "execution_count": 104,
   "metadata": {},
   "outputs": [],
   "source": [
    "def solution(answers):\n",
    "    # math haters\n",
    "    mh1 = [1, 2, 3, 4, 5] # 5\n",
    "    mh2 = [2, 1, 2, 3, 2, 4, 2, 5] # 8\n",
    "    mh3 = [3, 3, 1, 1, 2, 2, 4, 4, 5, 5] # 10\n",
    "    haters_answer = [mh1, mh2, mh3]\n",
    "    \n",
    "    # 1. 정답지 길이 확인\n",
    "    more1 = (len(answers) // len(mh1))\n",
    "    more2 = (len(answers) // len(mh2))\n",
    "    more3 = (len(answers) // len(mh3))\n",
    "    \n",
    "    if(more1 > 0):\n",
    "        mh1 *= more1 + 1\n",
    "    if(more2 > 0):\n",
    "        mh2 *= more2 + 1\n",
    "    if(more3 > 0):\n",
    "        mh3 *= more3 + 1\n",
    "    \n",
    "    # 2. 답안지를 기준으로 채점\n",
    "    score = []\n",
    "    for i in range(3):\n",
    "        cnt = 0\n",
    "        for idx, answer in enumerate(answers):\n",
    "            if answer == haters_answer[i][idx]:\n",
    "                cnt += 1\n",
    "        score.append(cnt)\n",
    "    \n",
    "    answer = []\n",
    "    \n",
    "    # 3. 등수 확인\n",
    "    score_ = score\n",
    "    score_.sort()\n",
    "    \n",
    "    for i in range(3):\n",
    "        if score[i] == score_[-1]:\n",
    "            answer.append(i)\n",
    "    return answer"
   ]
  },
  {
   "cell_type": "code",
   "execution_count": 106,
   "metadata": {},
   "outputs": [
    {
     "name": "stdout",
     "output_type": "stream",
     "text": [
      "0 1 :: 1 = True\t0 2 :: 2 = True\t0 3 :: 3 = True\t0 4 :: 4 = True\t0 5 :: 5 = True\t0 1 :: 4 = False\t0 2 :: 2 = True\t0 3 :: 5 = False\t0 4 :: 2 = False\t0 5 :: 1 = False\t0 1 :: 2 = False\t0 2 :: 3 = False\t0 3 :: 3 = True\t0 4 :: 1 = False\t0 5 :: 1 = False\t0 1 :: 2 = False\t0 2 :: 2 = True\t0 3 :: 4 = False\t0 4 :: 4 = True\t0 5 :: 5 = True\t0 1 :: 5 = False\t10\n",
      "1 2 :: 1 = False\t1 1 :: 2 = False\t1 2 :: 3 = False\t1 3 :: 4 = False\t1 2 :: 5 = False\t1 4 :: 4 = True\t1 2 :: 2 = True\t1 5 :: 5 = True\t1 2 :: 2 = True\t1 1 :: 1 = True\t1 2 :: 2 = True\t1 3 :: 3 = True\t1 2 :: 3 = False\t1 4 :: 1 = False\t1 2 :: 1 = False\t1 5 :: 2 = False\t1 2 :: 2 = True\t1 1 :: 4 = False\t1 2 :: 4 = False\t1 3 :: 5 = False\t1 2 :: 5 = False\t8\n",
      "2 3 :: 1 = False\t2 3 :: 2 = False\t2 1 :: 3 = False\t2 1 :: 4 = False\t2 2 :: 5 = False\t2 2 :: 4 = False\t2 4 :: 2 = False\t2 4 :: 5 = False\t2 5 :: 2 = False\t2 5 :: 1 = False\t2 3 :: 2 = False\t2 3 :: 3 = True\t2 1 :: 3 = False\t2 1 :: 1 = True\t2 2 :: 1 = False\t2 2 :: 2 = True\t2 4 :: 2 = False\t2 4 :: 4 = True\t2 5 :: 4 = False\t2 5 :: 5 = True\t2 3 :: 5 = False\t5\n"
     ]
    },
    {
     "data": {
      "text/plain": [
       "[2]"
      ]
     },
     "execution_count": 106,
     "metadata": {},
     "output_type": "execute_result"
    }
   ],
   "source": [
    "answers = [1,2,3,4,5,4, 2, 5,2, 1,2,3, 3, 1, 1, 2, 2, 4, 4, 5, 5]\n",
    "solution(answers)"
   ]
  },
  {
   "cell_type": "code",
   "execution_count": null,
   "metadata": {},
   "outputs": [],
   "source": []
  }
 ],
 "metadata": {
  "kernelspec": {
   "display_name": "Python 3",
   "language": "python",
   "name": "python3"
  },
  "language_info": {
   "codemirror_mode": {
    "name": "ipython",
    "version": 3
   },
   "file_extension": ".py",
   "mimetype": "text/x-python",
   "name": "python",
   "nbconvert_exporter": "python",
   "pygments_lexer": "ipython3",
   "version": "3.8.3"
  }
 },
 "nbformat": 4,
 "nbformat_minor": 4
}
