{
 "cells": [
  {
   "cell_type": "markdown",
   "metadata": {
    "slideshow": {
     "slide_type": "skip"
    }
   },
   "source": [
    "#### Quiz 1\n",
    "- `input`을 이용하여 숫자를 입력받는 코드를 작성하시오.\n",
    "    - 문자가 입력되면 에러 메시지를 보내고 다시 숫자를 입력받도록 만들어 주세요.\n",
    "- while, try-except, input() 이용\n",
    "\n",
    "\n",
    "- 결과\n",
    "```\n",
    "insert number : python\n",
    "숫자를 입력해주세요.\n",
    "insert number : !!!\n",
    "숫자를 입력해주세요.\n",
    "insert number : 1234\n",
    "숫자가 입력되었습니다 :  1234\n",
    "```"
   ]
  },
  {
   "cell_type": "code",
   "execution_count": 1,
   "metadata": {
    "slideshow": {
     "slide_type": "skip"
    }
   },
   "outputs": [
    {
     "name": "stdout",
     "output_type": "stream",
     "text": [
      "insert number : python\n",
      "숫자를 입력해주세요.\n",
      "insert number : !!!\n",
      "숫자를 입력해주세요.\n",
      "insert number : 1234\n",
      "숫자가 입력되었습니다 : 1234\n"
     ]
    }
   ],
   "source": [
    "# TODO"
   ]
  },
  {
   "cell_type": "code",
   "execution_count": 4,
   "metadata": {},
   "outputs": [
    {
     "name": "stdout",
     "output_type": "stream",
     "text": [
      "insert number : python\n",
      "insert number : ddd\n",
      "숫자를 입력해주세요.\n",
      "insert number : 1234\n",
      "숫자가 입력되었습니다 : 1234\n"
     ]
    }
   ],
   "source": [
    "num = input(\"insert number : \")\n",
    "while(True):\n",
    "    try:\n",
    "        num = int(input(\"insert number : \"))\n",
    "        print(\"숫자가 입력되었습니다 : {}\".format(num))\n",
    "        break\n",
    "#     except:\n",
    "#         print(\"숫자를 입력해주세요.\")\n",
    "    except Exception as e:\n",
    "        print(\"숫자를 입력해주세요.\")\n",
    "#     if type(num) == 'int':\n",
    "#         print(\"숫자가 입력되었습니다 : {}\".format(num))\n",
    "#         break\n",
    "#     else:\n",
    "#         print(\"숫자를 입력해주세요.\") \n",
    "#         num = input(\"insert number : \")"
   ]
  },
  {
   "cell_type": "code",
   "execution_count": 4,
   "metadata": {},
   "outputs": [
    {
     "data": {
      "text/plain": [
       "type"
      ]
     },
     "execution_count": 4,
     "metadata": {},
     "output_type": "execute_result"
    }
   ],
   "source": [
    "a =123\n",
    "type(type(a))"
   ]
  },
  {
   "cell_type": "markdown",
   "metadata": {
    "slideshow": {
     "slide_type": "slide"
    }
   },
   "source": [
    "#### Quiz 2\n",
    "- 이자율을 입력 받을때 이자율이 3 ~ 10 사이로 입력되도록 Account 클래스를 작성해주세요.\n",
    "- 3% 미만의 이자율을 객체로 만들때 생성하면 \"이자율을 3% 이상으로 설정해주세요.\" 메시지와 함께 에러를 발생\n",
    "- 10% 초과의 이자율을 객체로 만들때 생성하면 \"이자율을 10% 이하로 설정해주세요.\" 메시지와 함께 에러를 발생\n",
    "- if, elif, raise, class, Exception, 비교연산자 사용\n",
    "\n",
    "\n",
    "- 결과\n",
    "\n",
    "```\n",
    "# 객체 생성 1\n",
    "account1 = Account(2)\n",
    "\n",
    "# 에러 발생 1\n",
    "LowInterest: 이자율을 1.03 이상으로 설정해주세요.\n",
    "\n",
    "# 객체 생성 2\n",
    "account2 = Account(13)\n",
    "\n",
    "# 에러 발생 2\n",
    "HighInterest: 이자율을 1.10 이하로 설정해주세요.\n",
    "\n",
    "# 객체 생성 3\n",
    "account1 = Account(7)\n",
    "account1.disp()\n",
    "\n",
    "# 결과 출력\n",
    "계좌에 설정된 이자율은 7.0% 입니다\n",
    "\n",
    "```"
   ]
  },
  {
   "cell_type": "code",
   "execution_count": 2,
   "metadata": {
    "slideshow": {
     "slide_type": "skip"
    }
   },
   "outputs": [],
   "source": [
    "# TODO"
   ]
  },
  {
   "cell_type": "code",
   "execution_count": 18,
   "metadata": {
    "slideshow": {
     "slide_type": "skip"
    }
   },
   "outputs": [],
   "source": [
    "class LowInterest(Exception):\n",
    "    def __str__(self):\n",
    "        return \"이자율을 3% 이상으로 설정해주세요.\"\n",
    "class HighInterest(Exception):\n",
    "    def __str__(self):\n",
    "        return \"이자율을 10% 이하로 설정해주세요.\"\n",
    "class Account:\n",
    "    def __init__(self, interest):\n",
    "        if(interest < 3):\n",
    "            raise LowInterest()\n",
    "        elif interest > 10:  \n",
    "            raise HighInterest()\n",
    "        else:\n",
    "            self.interest = float(interest)\n",
    "    def disp(self):\n",
    "        print(\"계좌에 설정된 이자율은 {}% 입니다\".format(self.interest))\n",
    "        \n",
    "            \n",
    "    # TODO\n",
    "\n",
    "    "
   ]
  },
  {
   "cell_type": "code",
   "execution_count": 4,
   "metadata": {
    "slideshow": {
     "slide_type": "skip"
    }
   },
   "outputs": [
    {
     "ename": "LowInterest",
     "evalue": "이자율을 3% 이상으로 설정해주세요.",
     "output_type": "error",
     "traceback": [
      "\u001b[0;31m---------------------------------------------------------------------------\u001b[0m",
      "\u001b[0;31mLowInterest\u001b[0m                               Traceback (most recent call last)",
      "\u001b[0;32m<ipython-input-4-4b6a76d9a6a1>\u001b[0m in \u001b[0;36m<module>\u001b[0;34m\u001b[0m\n\u001b[0;32m----> 1\u001b[0;31m \u001b[0maccount1\u001b[0m \u001b[0;34m=\u001b[0m \u001b[0mAccount\u001b[0m\u001b[0;34m(\u001b[0m\u001b[0;36m2\u001b[0m\u001b[0;34m)\u001b[0m\u001b[0;34m\u001b[0m\u001b[0;34m\u001b[0m\u001b[0m\n\u001b[0m",
      "\u001b[0;32m<ipython-input-3-b001011c357b>\u001b[0m in \u001b[0;36m__init__\u001b[0;34m(self, interest, asset)\u001b[0m\n\u001b[1;32m      3\u001b[0m     \u001b[0;32mdef\u001b[0m \u001b[0m__init__\u001b[0m\u001b[0;34m(\u001b[0m\u001b[0mself\u001b[0m\u001b[0;34m,\u001b[0m \u001b[0minterest\u001b[0m\u001b[0;34m,\u001b[0m \u001b[0masset\u001b[0m\u001b[0;34m=\u001b[0m\u001b[0;36m10000\u001b[0m\u001b[0;34m)\u001b[0m\u001b[0;34m:\u001b[0m\u001b[0;34m\u001b[0m\u001b[0;34m\u001b[0m\u001b[0m\n\u001b[1;32m      4\u001b[0m         \u001b[0;32mif\u001b[0m \u001b[0minterest\u001b[0m \u001b[0;34m<\u001b[0m \u001b[0;36m3\u001b[0m\u001b[0;34m:\u001b[0m\u001b[0;34m\u001b[0m\u001b[0;34m\u001b[0m\u001b[0m\n\u001b[0;32m----> 5\u001b[0;31m             \u001b[0;32mraise\u001b[0m \u001b[0mLowInterest\u001b[0m\u001b[0;34m(\u001b[0m\u001b[0;34m)\u001b[0m\u001b[0;34m\u001b[0m\u001b[0;34m\u001b[0m\u001b[0m\n\u001b[0m\u001b[1;32m      6\u001b[0m         \u001b[0;32melif\u001b[0m \u001b[0minterest\u001b[0m \u001b[0;34m>\u001b[0m \u001b[0;36m10\u001b[0m\u001b[0;34m:\u001b[0m\u001b[0;34m\u001b[0m\u001b[0;34m\u001b[0m\u001b[0m\n\u001b[1;32m      7\u001b[0m             \u001b[0;32mraise\u001b[0m \u001b[0mHighInterest\u001b[0m\u001b[0;34m(\u001b[0m\u001b[0;34m)\u001b[0m\u001b[0;34m\u001b[0m\u001b[0;34m\u001b[0m\u001b[0m\n",
      "\u001b[0;31mLowInterest\u001b[0m: 이자율을 3% 이상으로 설정해주세요."
     ]
    }
   ],
   "source": [
    "account1 = Account(2)"
   ]
  },
  {
   "cell_type": "code",
   "execution_count": 15,
   "metadata": {},
   "outputs": [
    {
     "ename": "LowInterest",
     "evalue": "이자율을 3% 이상으로 설정해주세요.",
     "output_type": "error",
     "traceback": [
      "\u001b[1;31m---------------------------------------------------------------------------\u001b[0m",
      "\u001b[1;31mLowInterest\u001b[0m                               Traceback (most recent call last)",
      "\u001b[1;32m<ipython-input-15-4b6a76d9a6a1>\u001b[0m in \u001b[0;36m<module>\u001b[1;34m\u001b[0m\n\u001b[1;32m----> 1\u001b[1;33m \u001b[0maccount1\u001b[0m \u001b[1;33m=\u001b[0m \u001b[0mAccount\u001b[0m\u001b[1;33m(\u001b[0m\u001b[1;36m2\u001b[0m\u001b[1;33m)\u001b[0m\u001b[1;33m\u001b[0m\u001b[1;33m\u001b[0m\u001b[0m\n\u001b[0m",
      "\u001b[1;32m<ipython-input-13-9256eb29f091>\u001b[0m in \u001b[0;36m__init__\u001b[1;34m(self, interest)\u001b[0m\n\u001b[0;32m      8\u001b[0m     \u001b[1;32mdef\u001b[0m \u001b[0m__init__\u001b[0m\u001b[1;33m(\u001b[0m\u001b[0mself\u001b[0m\u001b[1;33m,\u001b[0m \u001b[0minterest\u001b[0m\u001b[1;33m)\u001b[0m\u001b[1;33m:\u001b[0m\u001b[1;33m\u001b[0m\u001b[1;33m\u001b[0m\u001b[0m\n\u001b[0;32m      9\u001b[0m         \u001b[1;32mif\u001b[0m\u001b[1;33m(\u001b[0m\u001b[0minterest\u001b[0m \u001b[1;33m<\u001b[0m \u001b[1;36m3\u001b[0m\u001b[1;33m)\u001b[0m\u001b[1;33m:\u001b[0m\u001b[1;33m\u001b[0m\u001b[1;33m\u001b[0m\u001b[0m\n\u001b[1;32m---> 10\u001b[1;33m             \u001b[1;32mraise\u001b[0m \u001b[0mLowInterest\u001b[0m\u001b[1;33m(\u001b[0m\u001b[1;33m)\u001b[0m\u001b[1;33m\u001b[0m\u001b[1;33m\u001b[0m\u001b[0m\n\u001b[0m\u001b[0;32m     11\u001b[0m         \u001b[1;32melif\u001b[0m \u001b[0minterest\u001b[0m \u001b[1;33m>\u001b[0m \u001b[1;36m10\u001b[0m\u001b[1;33m:\u001b[0m\u001b[1;33m\u001b[0m\u001b[1;33m\u001b[0m\u001b[0m\n\u001b[0;32m     12\u001b[0m             \u001b[1;32mraise\u001b[0m \u001b[0mHighInterest\u001b[0m\u001b[1;33m(\u001b[0m\u001b[1;33m)\u001b[0m\u001b[1;33m\u001b[0m\u001b[1;33m\u001b[0m\u001b[0m\n",
      "\u001b[1;31mLowInterest\u001b[0m: 이자율을 3% 이상으로 설정해주세요."
     ]
    }
   ],
   "source": [
    "account1 = Account(2)"
   ]
  },
  {
   "cell_type": "code",
   "execution_count": 4,
   "metadata": {},
   "outputs": [
    {
     "ename": "HighInterest",
     "evalue": "이자율을 10% 이하로 설정해주세요.",
     "output_type": "error",
     "traceback": [
      "\u001b[0;31m---------------------------------------------------------------------------\u001b[0m",
      "\u001b[0;31mHighInterest\u001b[0m                              Traceback (most recent call last)",
      "\u001b[0;32m<ipython-input-4-fb00ec0fa9ab>\u001b[0m in \u001b[0;36m<module>\u001b[0;34m\u001b[0m\n\u001b[0;32m----> 1\u001b[0;31m \u001b[0maccount1\u001b[0m \u001b[0;34m=\u001b[0m \u001b[0mAccount\u001b[0m\u001b[0;34m(\u001b[0m\u001b[0;36m11\u001b[0m\u001b[0;34m)\u001b[0m\u001b[0;34m\u001b[0m\u001b[0;34m\u001b[0m\u001b[0m\n\u001b[0m",
      "\u001b[0;32m<ipython-input-2-b001011c357b>\u001b[0m in \u001b[0;36m__init__\u001b[0;34m(self, interest, asset)\u001b[0m\n\u001b[1;32m      5\u001b[0m             \u001b[0;32mraise\u001b[0m \u001b[0mLowInterest\u001b[0m\u001b[0;34m(\u001b[0m\u001b[0;34m)\u001b[0m\u001b[0;34m\u001b[0m\u001b[0;34m\u001b[0m\u001b[0m\n\u001b[1;32m      6\u001b[0m         \u001b[0;32melif\u001b[0m \u001b[0minterest\u001b[0m \u001b[0;34m>\u001b[0m \u001b[0;36m10\u001b[0m\u001b[0;34m:\u001b[0m\u001b[0;34m\u001b[0m\u001b[0;34m\u001b[0m\u001b[0m\n\u001b[0;32m----> 7\u001b[0;31m             \u001b[0;32mraise\u001b[0m \u001b[0mHighInterest\u001b[0m\u001b[0;34m(\u001b[0m\u001b[0;34m)\u001b[0m\u001b[0;34m\u001b[0m\u001b[0;34m\u001b[0m\u001b[0m\n\u001b[0m\u001b[1;32m      8\u001b[0m         \u001b[0;32melse\u001b[0m\u001b[0;34m:\u001b[0m\u001b[0;34m\u001b[0m\u001b[0;34m\u001b[0m\u001b[0m\n\u001b[1;32m      9\u001b[0m             \u001b[0mself\u001b[0m\u001b[0;34m.\u001b[0m\u001b[0minterest\u001b[0m \u001b[0;34m=\u001b[0m \u001b[0minterest\u001b[0m \u001b[0;34m/\u001b[0m \u001b[0;36m100\u001b[0m \u001b[0;34m+\u001b[0m \u001b[0;36m1\u001b[0m\u001b[0;34m\u001b[0m\u001b[0;34m\u001b[0m\u001b[0m\n",
      "\u001b[0;31mHighInterest\u001b[0m: 이자율을 10% 이하로 설정해주세요."
     ]
    }
   ],
   "source": [
    "account1 = Account(11)"
   ]
  },
  {
   "cell_type": "code",
   "execution_count": 9,
   "metadata": {},
   "outputs": [
    {
     "ename": "HighInterest",
     "evalue": "이자율을 10% 이하로 설정해주세요.",
     "output_type": "error",
     "traceback": [
      "\u001b[1;31m---------------------------------------------------------------------------\u001b[0m",
      "\u001b[1;31mHighInterest\u001b[0m                              Traceback (most recent call last)",
      "\u001b[1;32m<ipython-input-9-fb00ec0fa9ab>\u001b[0m in \u001b[0;36m<module>\u001b[1;34m\u001b[0m\n\u001b[1;32m----> 1\u001b[1;33m \u001b[0maccount1\u001b[0m \u001b[1;33m=\u001b[0m \u001b[0mAccount\u001b[0m\u001b[1;33m(\u001b[0m\u001b[1;36m11\u001b[0m\u001b[1;33m)\u001b[0m\u001b[1;33m\u001b[0m\u001b[1;33m\u001b[0m\u001b[0m\n\u001b[0m",
      "\u001b[1;32m<ipython-input-7-b8ca51282f95>\u001b[0m in \u001b[0;36m__init__\u001b[1;34m(self, interest)\u001b[0m\n\u001b[0;32m     10\u001b[0m             \u001b[1;32mraise\u001b[0m \u001b[0mLowInterest\u001b[0m\u001b[1;33m(\u001b[0m\u001b[1;33m)\u001b[0m\u001b[1;33m\u001b[0m\u001b[1;33m\u001b[0m\u001b[0m\n\u001b[0;32m     11\u001b[0m         \u001b[1;32melif\u001b[0m \u001b[0minterest\u001b[0m \u001b[1;33m>\u001b[0m \u001b[1;36m10\u001b[0m\u001b[1;33m:\u001b[0m\u001b[1;33m\u001b[0m\u001b[1;33m\u001b[0m\u001b[0m\n\u001b[1;32m---> 12\u001b[1;33m             \u001b[1;32mraise\u001b[0m \u001b[0mHighInterest\u001b[0m\u001b[1;33m(\u001b[0m\u001b[1;33m)\u001b[0m\u001b[1;33m\u001b[0m\u001b[1;33m\u001b[0m\u001b[0m\n\u001b[0m\u001b[0;32m     13\u001b[0m         \u001b[1;32melse\u001b[0m\u001b[1;33m:\u001b[0m\u001b[1;33m\u001b[0m\u001b[1;33m\u001b[0m\u001b[0m\n\u001b[0;32m     14\u001b[0m             \u001b[0mself\u001b[0m\u001b[1;33m.\u001b[0m\u001b[0minterst\u001b[0m \u001b[1;33m=\u001b[0m \u001b[0minterst\u001b[0m \u001b[1;33m/\u001b[0m \u001b[1;36m10\u001b[0m\u001b[1;33m\u001b[0m\u001b[1;33m\u001b[0m\u001b[0m\n",
      "\u001b[1;31mHighInterest\u001b[0m: 이자율을 10% 이하로 설정해주세요."
     ]
    }
   ],
   "source": [
    "account1 = Account(11)"
   ]
  },
  {
   "cell_type": "code",
   "execution_count": 5,
   "metadata": {
    "slideshow": {
     "slide_type": "skip"
    }
   },
   "outputs": [
    {
     "name": "stdout",
     "output_type": "stream",
     "text": [
      "이자율을 10% 이하로 설정해주세요.\n"
     ]
    }
   ],
   "source": [
    "try:\n",
    "    account1 = Account(15)\n",
    "except Exception as e:\n",
    "    print(e)"
   ]
  },
  {
   "cell_type": "code",
   "execution_count": 16,
   "metadata": {},
   "outputs": [
    {
     "name": "stdout",
     "output_type": "stream",
     "text": [
      "이자율을 10% 이하로 설정해주세요.\n"
     ]
    }
   ],
   "source": [
    "try:\n",
    "    account1 = Account(15)\n",
    "except Exception as e:\n",
    "    print(e)"
   ]
  },
  {
   "cell_type": "code",
   "execution_count": 6,
   "metadata": {
    "slideshow": {
     "slide_type": "skip"
    }
   },
   "outputs": [
    {
     "data": {
      "text/plain": [
       "'계좌에 설정된 이자율은 7.0% 입니다'"
      ]
     },
     "execution_count": 6,
     "metadata": {},
     "output_type": "execute_result"
    }
   ],
   "source": [
    "account1 = Account(7)\n",
    "account1.disp()"
   ]
  },
  {
   "cell_type": "code",
   "execution_count": 19,
   "metadata": {},
   "outputs": [
    {
     "name": "stdout",
     "output_type": "stream",
     "text": [
      "계좌에 설정된 이자율은 7.0% 입니다\n"
     ]
    }
   ],
   "source": [
    "account1 = Account(7)\n",
    "account1.disp()"
   ]
  },
  {
   "cell_type": "markdown",
   "metadata": {},
   "source": [
    "#### Quiz 3\n",
    "- 퍼즐 스트라이크 게임 만들기\n",
    "    - 0~9 까지의 숫자 세개를 랜덤으로 생성\n",
    "    - 랜덤으로 생성된 숫자는 중복되면 안됨\n",
    "    - 세개의 숫자를 입력받아 랜덤으로 생성된 세개의 숫자를 맞추는 게임\n",
    "    - 세개의 숫자를 맞출때까지 계속 숫자를 입력받음\n",
    "    - 세개의 숫자중에 자릿수와 숫자가 맞으면 strike\n",
    "    - 세개의 숫자중에 숫자는 맞지만 자리수가 안 맞으면 ball\n",
    "    - 아무것도 안 맞으면 out\n",
    "    - 모두 맞추면 입력한 횟수를 출력하고 반복문 종료\n",
    "\n",
    "    - 예시\n",
    "        - 랜덤한 숫자 : 6 2 8\n",
    "        - 입력 1 : 3 7 6\n",
    "            - 출력 : 0S 1B\n",
    "            - 설명 : 숫자 6이 있지만 자릿수가 틀림\n",
    "        - 입력 2 : 7 3 9\n",
    "            - 출력 : OUT\n",
    "            - 설명 : 입력한 모든 숫자가 없으므로 out\n",
    "        - 입력 3 : 6 8 2\n",
    "            - 출력 : 1S 2B \n",
    "            - 설명 : 숫자 6은 자릿수까지 맞으므로 1 strike\n",
    "            - 설명 : 숫자 8, 2는 자릿수가 틀리므로 2 ball\n",
    "        - 입력 4 : 6 2 8\n",
    "            - 출력 : 3S\n",
    "            - 설명 : 입력한 모든 숫자의 숫자와 자릿수가 맞으므로 3 strike"
   ]
  },
  {
   "cell_type": "markdown",
   "metadata": {},
   "source": [
    "<p style=\"text-align:center;\">랜덤한 숫자 : 6, 2, 8<p>\n",
    "\n",
    "|횟수|숫자1|숫자2|숫자3| 판정 |\n",
    "|----|-----|-----|-----|------|\n",
    "|  1 |  3  |  7  |  6  | 0S 1B| \n",
    "|  2 |  7  |  3  |  9  |  OUT | \n",
    "|  3 |  6  |  8  |  2  | 1S 2B| \n",
    "|  4 |  6  |  2  |  8  | 3S 0B| \n",
    "\n"
   ]
  },
  {
   "cell_type": "code",
   "execution_count": 18,
   "metadata": {},
   "outputs": [
    {
     "name": "stdout",
     "output_type": "stream",
     "text": [
      "[6, 8, 1]\n",
      "숫자 3개를 입력하세요(띄어쓰기로 구분) : 8 1 9\n",
      "0S 2B\n",
      "숫자 3개를 입력하세요(띄어쓰기로 구분) : 6 8 3\n",
      "2S 0B\n",
      "숫자 3개를 입력하세요(띄어쓰기로 구분) : 4 5 2\n",
      "OUT\n",
      "숫자 3개를 입력하세요(띄어쓰기로 구분) : 6 8 1\n",
      "3S 0B\n",
      "입력횟수 : 4\n"
     ]
    }
   ],
   "source": [
    "import random\n",
    "\n",
    "# TODO"
   ]
  },
  {
   "cell_type": "code",
   "execution_count": 5,
   "metadata": {},
   "outputs": [],
   "source": [
    "def play_baseball(answer, in_num): \n",
    "    st_cnt, bl_cnt = 0, 0\n",
    "    # 1. strike \n",
    "    for i in range(0,3):\n",
    "        if (str(answer[i]) == in_num[i]):\n",
    "                st_cnt += 1\n",
    "        for j in range(0,3): \n",
    "            if (i != j and str(answer[i]) == in_num[j]):\n",
    "                bl_cnt += 1\n",
    "    return st_cnt, bl_cnt"
   ]
  },
  {
   "cell_type": "code",
   "execution_count": 69,
   "metadata": {},
   "outputs": [],
   "source": [
    "# 중복된 숫자까지 허용된 모드\n",
    "def same_play_baseball(answer, in_num): \n",
    "    st_cnt, bl_cnt = 0, 0\n",
    "    chk = [False, False, False]\n",
    "    chk_nums = []\n",
    "    # 1. strike 자릿수 체크\n",
    "    for i in range(0,3):\n",
    "        if (str(answer[i]) == in_num[i]):\n",
    "            st_cnt += 1\n",
    "            chk[i] = True\n",
    "            chk_nums.append(answer[i])\n",
    "            \n",
    "    # 2. ball 체크\n",
    "        # 단, 정답에서 스트라이크 된 숫자 && 자리 제외\n",
    "        # 단, 제출 답에서 스트라이크 된 자리 제외 \n",
    "        # 단, 정답이 중복되었고, 제출에서 카운트가 없는 상황이라면?\n",
    "            # 정답: 5 4 5 / 제출: 3 5 7 >> 1B인가 2B 인가\n",
    "            # 반대의 경우) 정답: 1 3 5 / 제출: 3 6 3 >> 1B인가 2B 인가\n",
    "            # 1B일 경우 정답에서 ball도 체크해야 \n",
    "    print(chk_nums)\n",
    "    for j in range(0,3):\n",
    "        if ( (answer[j] in chk_nums) and (chk[j] == True) ):\n",
    "            continue\n",
    "        print(chk)\n",
    "        for k in range(0,3):\n",
    "            if ( in_num[k] in chk_nums ):\n",
    "                continue\n",
    "            if ( (str(answer[j]) == in_num[k]) and (j != k) and (chk[j] == False) ):\n",
    "                print(\"ball :\", j, k, answer[j], in_num[k], sep = '\\t')\n",
    "                bl_cnt += 1\n",
    "                chk_nums.append(in_num[k])\n",
    "    return st_cnt, bl_cnt"
   ]
  },
  {
   "cell_type": "code",
   "execution_count": null,
   "metadata": {},
   "outputs": [
    {
     "name": "stdout",
     "output_type": "stream",
     "text": [
      "랜덤한 숫자 : [1, 3, 7]\n",
      "숫자 3개를 입력하세요(띄어쓰기로 구분) :3 5 3\n",
      "[]\n",
      "[False, False, False]\n",
      "[False, False, False]\n",
      "ball :\t1\t0\t3\t3\n",
      "[False, False, False]\n",
      "0 S  1 B\n"
     ]
    }
   ],
   "source": [
    "# 정답 생성\n",
    "import random\n",
    "answer = []\n",
    "cnt = 0\n",
    "while(cnt < 3):\n",
    "    nn = random.randint(0,9)\n",
    "    if nn not in answer:\n",
    "        answer.append(nn)\n",
    "        cnt += 1\n",
    "answer = [1, 3, 7]\n",
    "print(\"랜덤한 숫자 : {}\".format(answer))\n",
    "\n",
    "# 경기\n",
    "play_cnt = 0\n",
    "while(True):\n",
    "    in_num = list(input(\"숫자 3개를 입력하세요(띄어쓰기로 구분) :\").split())\n",
    "    play_cnt += 1\n",
    "    # st_cnt, bl_cnt = play_baseball(answer, in_num)\n",
    "    st_cnt, bl_cnt = same_play_baseball(answer, in_num)\n",
    "    if(bl_cnt == 0 and st_cnt == 0):\n",
    "        print(\"OUT\")\n",
    "    elif(st_cnt == 3):\n",
    "        print(st_cnt, \"S \", bl_cnt, \"B\")\n",
    "        break\n",
    "    else:\n",
    "        print(st_cnt, \"S \", bl_cnt, \"B\")\n",
    "print(\"입력횟수: \", play_cnt)"
   ]
  },
  {
   "cell_type": "code",
   "execution_count": 4,
   "metadata": {},
   "outputs": [
    {
     "name": "stdout",
     "output_type": "stream",
     "text": [
      "숫자 3개를 입력하세요(띄어쓰기로 구분) :3 4 5\n"
     ]
    }
   ],
   "source": [
    "aaa = [5, 5, 5]\n",
    "in_num = list(input(\"숫자 3개를 입력하세요(띄어쓰기로 구분) :\").split())\n",
    "\n",
    "st_cnt, bl_cnt = 0, 0\n",
    "chk = [False, False, False]\n",
    "for i in range(0,3):\n",
    "    if (str(aaa[i]) == in_num[i]):\n",
    "            st_cnt += 1\n",
    "            chk[i] = True\n",
    "    for j in range(0,3): \n",
    "        if (i != j and str(aaa[i]) == in_num[j]):\n",
    "            if(chk[i] == True):\n",
    "                print(i, j, aaa[i], in_num[j], sep = '\\t')\n",
    "                continue\n",
    "            bl_cnt += 1"
   ]
  },
  {
   "cell_type": "markdown",
   "metadata": {},
   "source": [
    "## pandas!"
   ]
  },
  {
   "cell_type": "markdown",
   "metadata": {
    "slideshow": {
     "slide_type": "slide"
    }
   },
   "source": [
    "#### Quiz 1\n",
    "- 아래와 같이 데이터 프레임을 만드세요.\n",
    "- Column\n",
    "    - line(공장라인) : line1, line2, line3 중 하나의 데이터를 랜덤하게 저장\n",
    "    - good(양품) : 100 ~ 200 중 랜덤한 정수\n",
    "    - bad(불량) : 0 ~ 100 중 랜덤한 정수\n",
    "    - date(날짜) : 1 ~ 5 중 랜던한 정수\n",
    "- Row 데이터 : 10개"
   ]
  },
  {
   "cell_type": "code",
   "execution_count": 7,
   "metadata": {},
   "outputs": [
    {
     "data": {
      "text/html": [
       "<div>\n",
       "<style scoped>\n",
       "    .dataframe tbody tr th:only-of-type {\n",
       "        vertical-align: middle;\n",
       "    }\n",
       "\n",
       "    .dataframe tbody tr th {\n",
       "        vertical-align: top;\n",
       "    }\n",
       "\n",
       "    .dataframe thead th {\n",
       "        text-align: right;\n",
       "    }\n",
       "</style>\n",
       "<table border=\"1\" class=\"dataframe\">\n",
       "  <thead>\n",
       "    <tr style=\"text-align: right;\">\n",
       "      <th></th>\n",
       "      <th>line</th>\n",
       "      <th>good</th>\n",
       "      <th>bad</th>\n",
       "      <th>date</th>\n",
       "    </tr>\n",
       "  </thead>\n",
       "  <tbody>\n",
       "    <tr>\n",
       "      <th>0</th>\n",
       "      <td>line3</td>\n",
       "      <td>168</td>\n",
       "      <td>32</td>\n",
       "      <td>1</td>\n",
       "    </tr>\n",
       "    <tr>\n",
       "      <th>1</th>\n",
       "      <td>line2</td>\n",
       "      <td>116</td>\n",
       "      <td>41</td>\n",
       "      <td>4</td>\n",
       "    </tr>\n",
       "    <tr>\n",
       "      <th>2</th>\n",
       "      <td>line3</td>\n",
       "      <td>151</td>\n",
       "      <td>91</td>\n",
       "      <td>2</td>\n",
       "    </tr>\n",
       "    <tr>\n",
       "      <th>3</th>\n",
       "      <td>line3</td>\n",
       "      <td>131</td>\n",
       "      <td>89</td>\n",
       "      <td>1</td>\n",
       "    </tr>\n",
       "    <tr>\n",
       "      <th>4</th>\n",
       "      <td>line1</td>\n",
       "      <td>103</td>\n",
       "      <td>11</td>\n",
       "      <td>1</td>\n",
       "    </tr>\n",
       "    <tr>\n",
       "      <th>5</th>\n",
       "      <td>line3</td>\n",
       "      <td>125</td>\n",
       "      <td>2</td>\n",
       "      <td>4</td>\n",
       "    </tr>\n",
       "    <tr>\n",
       "      <th>6</th>\n",
       "      <td>line2</td>\n",
       "      <td>162</td>\n",
       "      <td>58</td>\n",
       "      <td>5</td>\n",
       "    </tr>\n",
       "    <tr>\n",
       "      <th>7</th>\n",
       "      <td>line2</td>\n",
       "      <td>144</td>\n",
       "      <td>21</td>\n",
       "      <td>4</td>\n",
       "    </tr>\n",
       "    <tr>\n",
       "      <th>8</th>\n",
       "      <td>line1</td>\n",
       "      <td>155</td>\n",
       "      <td>51</td>\n",
       "      <td>2</td>\n",
       "    </tr>\n",
       "    <tr>\n",
       "      <th>9</th>\n",
       "      <td>line3</td>\n",
       "      <td>140</td>\n",
       "      <td>82</td>\n",
       "      <td>5</td>\n",
       "    </tr>\n",
       "  </tbody>\n",
       "</table>\n",
       "</div>"
      ],
      "text/plain": [
       "    line  good  bad  date\n",
       "0  line3   168   32     1\n",
       "1  line2   116   41     4\n",
       "2  line3   151   91     2\n",
       "3  line3   131   89     1\n",
       "4  line1   103   11     1\n",
       "5  line3   125    2     4\n",
       "6  line2   162   58     5\n",
       "7  line2   144   21     4\n",
       "8  line1   155   51     2\n",
       "9  line3   140   82     5"
      ]
     },
     "execution_count": 7,
     "metadata": {},
     "output_type": "execute_result"
    }
   ],
   "source": [
    "# TODO"
   ]
  },
  {
   "cell_type": "code",
   "execution_count": 28,
   "metadata": {},
   "outputs": [
    {
     "data": {
      "text/html": [
       "<div>\n",
       "<style scoped>\n",
       "    .dataframe tbody tr th:only-of-type {\n",
       "        vertical-align: middle;\n",
       "    }\n",
       "\n",
       "    .dataframe tbody tr th {\n",
       "        vertical-align: top;\n",
       "    }\n",
       "\n",
       "    .dataframe thead th {\n",
       "        text-align: right;\n",
       "    }\n",
       "</style>\n",
       "<table border=\"1\" class=\"dataframe\">\n",
       "  <thead>\n",
       "    <tr style=\"text-align: right;\">\n",
       "      <th></th>\n",
       "      <th>line</th>\n",
       "      <th>good</th>\n",
       "      <th>bad</th>\n",
       "      <th>date</th>\n",
       "    </tr>\n",
       "  </thead>\n",
       "  <tbody>\n",
       "    <tr>\n",
       "      <th>0</th>\n",
       "      <td>line2</td>\n",
       "      <td>129</td>\n",
       "      <td>81</td>\n",
       "      <td>1</td>\n",
       "    </tr>\n",
       "    <tr>\n",
       "      <th>1</th>\n",
       "      <td>line2</td>\n",
       "      <td>123</td>\n",
       "      <td>5</td>\n",
       "      <td>4</td>\n",
       "    </tr>\n",
       "    <tr>\n",
       "      <th>2</th>\n",
       "      <td>line3</td>\n",
       "      <td>172</td>\n",
       "      <td>71</td>\n",
       "      <td>5</td>\n",
       "    </tr>\n",
       "    <tr>\n",
       "      <th>3</th>\n",
       "      <td>line1</td>\n",
       "      <td>125</td>\n",
       "      <td>18</td>\n",
       "      <td>5</td>\n",
       "    </tr>\n",
       "    <tr>\n",
       "      <th>4</th>\n",
       "      <td>line3</td>\n",
       "      <td>195</td>\n",
       "      <td>52</td>\n",
       "      <td>2</td>\n",
       "    </tr>\n",
       "    <tr>\n",
       "      <th>5</th>\n",
       "      <td>line3</td>\n",
       "      <td>123</td>\n",
       "      <td>99</td>\n",
       "      <td>3</td>\n",
       "    </tr>\n",
       "    <tr>\n",
       "      <th>6</th>\n",
       "      <td>line2</td>\n",
       "      <td>165</td>\n",
       "      <td>100</td>\n",
       "      <td>2</td>\n",
       "    </tr>\n",
       "    <tr>\n",
       "      <th>7</th>\n",
       "      <td>line2</td>\n",
       "      <td>200</td>\n",
       "      <td>26</td>\n",
       "      <td>3</td>\n",
       "    </tr>\n",
       "    <tr>\n",
       "      <th>8</th>\n",
       "      <td>line2</td>\n",
       "      <td>186</td>\n",
       "      <td>32</td>\n",
       "      <td>3</td>\n",
       "    </tr>\n",
       "    <tr>\n",
       "      <th>9</th>\n",
       "      <td>line2</td>\n",
       "      <td>104</td>\n",
       "      <td>97</td>\n",
       "      <td>2</td>\n",
       "    </tr>\n",
       "  </tbody>\n",
       "</table>\n",
       "</div>"
      ],
      "text/plain": [
       "    line  good  bad  date\n",
       "0  line2   129   81     1\n",
       "1  line2   123    5     4\n",
       "2  line3   172   71     5\n",
       "3  line1   125   18     5\n",
       "4  line3   195   52     2\n",
       "5  line3   123   99     3\n",
       "6  line2   165  100     2\n",
       "7  line2   200   26     3\n",
       "8  line2   186   32     3\n",
       "9  line2   104   97     2"
      ]
     },
     "execution_count": 28,
     "metadata": {},
     "output_type": "execute_result"
    }
   ],
   "source": [
    "import random\n",
    "ls = [\"line1\", \"line2\", \"line3\"]\n",
    "lines, good, bad, date = [], [], [], []\n",
    "for _ in range(0,10):\n",
    "    lines.append(random.choice(ls))\n",
    "    good.append(random.randint(100, 200))\n",
    "    bad.append(random.randint(0, 100))\n",
    "    date.append(random.randint(1, 5))\n",
    "\n",
    "params = {\n",
    "    \"line\": lines,\n",
    "    \"good\": good,\n",
    "    \"bad\": bad,\n",
    "    \"date\": date\n",
    "}\n",
    "line_df = pd.DataFrame(params)\n",
    "line_df"
   ]
  },
  {
   "cell_type": "markdown",
   "metadata": {
    "slideshow": {
     "slide_type": "slide"
    }
   },
   "source": [
    "#### Quiz 2\n",
    "- 위의 데이터 프레임에서 전체 양품수, 전체 불량수, 불량률을 소수 둘째 자리까지 출력하세요."
   ]
  },
  {
   "cell_type": "code",
   "execution_count": 8,
   "metadata": {},
   "outputs": [
    {
     "name": "stdout",
     "output_type": "stream",
     "text": [
      "전체 양품수 : 1873, 전체 불량수 : 478\n",
      "전체 불량률 : 25.52 %\n"
     ]
    }
   ],
   "source": [
    "# TODO\n",
    "\n",
    "print(\"전체 양품수 : {}, 전체 불량수 : {}\".format(total_items, bad_items))\n",
    "print(\"전체 불량률 : {} %\".format(bad_rate))"
   ]
  },
  {
   "cell_type": "code",
   "execution_count": 37,
   "metadata": {},
   "outputs": [
    {
     "name": "stdout",
     "output_type": "stream",
     "text": [
      "전체 양품수 : 2103, 전체 불량수 : 581\n",
      "전체 불량률 : 27.63 %\n"
     ]
    }
   ],
   "source": [
    "import numpy as np\n",
    "total_items = np.sum(line_df[\"good\"] + line_df[\"bad\"])\n",
    "bad_items = np.sum(line_df[\"bad\"])\n",
    "\n",
    "bad_rate = round((bad_items/total_items) * 100, 2)\n",
    "\n",
    "\n",
    "print(\"전체 양품수 : {}, 전체 불량수 : {}\".format(total_items, bad_items))\n",
    "print(\"전체 불량률 : {} %\".format(bad_rate))"
   ]
  },
  {
   "cell_type": "markdown",
   "metadata": {
    "slideshow": {
     "slide_type": "slide"
    }
   },
   "source": [
    "#### Quiz 3\n",
    "- 생산라인별 전체 good(양품), bad(불량) 수를 데이터 프레임으로 출력하세요.\n",
    "- groupby 사용"
   ]
  },
  {
   "cell_type": "code",
   "execution_count": 9,
   "metadata": {},
   "outputs": [
    {
     "data": {
      "text/html": [
       "<div>\n",
       "<style scoped>\n",
       "    .dataframe tbody tr th:only-of-type {\n",
       "        vertical-align: middle;\n",
       "    }\n",
       "\n",
       "    .dataframe tbody tr th {\n",
       "        vertical-align: top;\n",
       "    }\n",
       "\n",
       "    .dataframe thead th {\n",
       "        text-align: right;\n",
       "    }\n",
       "</style>\n",
       "<table border=\"1\" class=\"dataframe\">\n",
       "  <thead>\n",
       "    <tr style=\"text-align: right;\">\n",
       "      <th></th>\n",
       "      <th>line</th>\n",
       "      <th>good</th>\n",
       "      <th>bad</th>\n",
       "    </tr>\n",
       "  </thead>\n",
       "  <tbody>\n",
       "    <tr>\n",
       "      <th>0</th>\n",
       "      <td>line1</td>\n",
       "      <td>258</td>\n",
       "      <td>62</td>\n",
       "    </tr>\n",
       "    <tr>\n",
       "      <th>1</th>\n",
       "      <td>line2</td>\n",
       "      <td>422</td>\n",
       "      <td>120</td>\n",
       "    </tr>\n",
       "    <tr>\n",
       "      <th>2</th>\n",
       "      <td>line3</td>\n",
       "      <td>715</td>\n",
       "      <td>296</td>\n",
       "    </tr>\n",
       "  </tbody>\n",
       "</table>\n",
       "</div>"
      ],
      "text/plain": [
       "    line  good  bad\n",
       "0  line1   258   62\n",
       "1  line2   422  120\n",
       "2  line3   715  296"
      ]
     },
     "execution_count": 9,
     "metadata": {},
     "output_type": "execute_result"
    }
   ],
   "source": [
    "# TODO"
   ]
  },
  {
   "cell_type": "code",
   "execution_count": 9,
   "metadata": {},
   "outputs": [
    {
     "data": {
      "text/html": [
       "<div>\n",
       "<style scoped>\n",
       "    .dataframe tbody tr th:only-of-type {\n",
       "        vertical-align: middle;\n",
       "    }\n",
       "\n",
       "    .dataframe tbody tr th {\n",
       "        vertical-align: top;\n",
       "    }\n",
       "\n",
       "    .dataframe thead th {\n",
       "        text-align: right;\n",
       "    }\n",
       "</style>\n",
       "<table border=\"1\" class=\"dataframe\">\n",
       "  <thead>\n",
       "    <tr style=\"text-align: right;\">\n",
       "      <th></th>\n",
       "      <th>line</th>\n",
       "      <th>good</th>\n",
       "      <th>bad</th>\n",
       "    </tr>\n",
       "  </thead>\n",
       "  <tbody>\n",
       "    <tr>\n",
       "      <th>0</th>\n",
       "      <td>line1</td>\n",
       "      <td>594</td>\n",
       "      <td>174</td>\n",
       "    </tr>\n",
       "    <tr>\n",
       "      <th>1</th>\n",
       "      <td>line2</td>\n",
       "      <td>238</td>\n",
       "      <td>92</td>\n",
       "    </tr>\n",
       "    <tr>\n",
       "      <th>2</th>\n",
       "      <td>line3</td>\n",
       "      <td>590</td>\n",
       "      <td>197</td>\n",
       "    </tr>\n",
       "  </tbody>\n",
       "</table>\n",
       "</div>"
      ],
      "text/plain": [
       "    line  good  bad\n",
       "0  line1   594  174\n",
       "1  line2   238   92\n",
       "2  line3   590  197"
      ]
     },
     "execution_count": 9,
     "metadata": {},
     "output_type": "execute_result"
    }
   ],
   "source": [
    "line_df.groupby(\"line\").agg(sum).reset_index()[[\"line\", \"good\", \"bad\"]]"
   ]
  },
  {
   "cell_type": "markdown",
   "metadata": {
    "slideshow": {
     "slide_type": "slide"
    }
   },
   "source": [
    "#### Quiz 4\n",
    "- 생산 라인별 불량률을 출력하세요."
   ]
  },
  {
   "cell_type": "code",
   "execution_count": 10,
   "metadata": {},
   "outputs": [
    {
     "data": {
      "text/html": [
       "<div>\n",
       "<style scoped>\n",
       "    .dataframe tbody tr th:only-of-type {\n",
       "        vertical-align: middle;\n",
       "    }\n",
       "\n",
       "    .dataframe tbody tr th {\n",
       "        vertical-align: top;\n",
       "    }\n",
       "\n",
       "    .dataframe thead th {\n",
       "        text-align: right;\n",
       "    }\n",
       "</style>\n",
       "<table border=\"1\" class=\"dataframe\">\n",
       "  <thead>\n",
       "    <tr style=\"text-align: right;\">\n",
       "      <th></th>\n",
       "      <th>line</th>\n",
       "      <th>good</th>\n",
       "      <th>bad</th>\n",
       "      <th>date</th>\n",
       "      <th>bad_rate</th>\n",
       "    </tr>\n",
       "  </thead>\n",
       "  <tbody>\n",
       "    <tr>\n",
       "      <th>0</th>\n",
       "      <td>line1</td>\n",
       "      <td>258</td>\n",
       "      <td>62</td>\n",
       "      <td>3</td>\n",
       "      <td>19.38</td>\n",
       "    </tr>\n",
       "    <tr>\n",
       "      <th>1</th>\n",
       "      <td>line2</td>\n",
       "      <td>422</td>\n",
       "      <td>120</td>\n",
       "      <td>13</td>\n",
       "      <td>22.14</td>\n",
       "    </tr>\n",
       "    <tr>\n",
       "      <th>2</th>\n",
       "      <td>line3</td>\n",
       "      <td>715</td>\n",
       "      <td>296</td>\n",
       "      <td>13</td>\n",
       "      <td>29.28</td>\n",
       "    </tr>\n",
       "  </tbody>\n",
       "</table>\n",
       "</div>"
      ],
      "text/plain": [
       "    line  good  bad  date  bad_rate\n",
       "0  line1   258   62     3     19.38\n",
       "1  line2   422  120    13     22.14\n",
       "2  line3   715  296    13     29.28"
      ]
     },
     "execution_count": 10,
     "metadata": {},
     "output_type": "execute_result"
    }
   ],
   "source": [
    "# TODO"
   ]
  },
  {
   "cell_type": "code",
   "execution_count": 38,
   "metadata": {},
   "outputs": [
    {
     "data": {
      "text/html": [
       "<div>\n",
       "<style scoped>\n",
       "    .dataframe tbody tr th:only-of-type {\n",
       "        vertical-align: middle;\n",
       "    }\n",
       "\n",
       "    .dataframe tbody tr th {\n",
       "        vertical-align: top;\n",
       "    }\n",
       "\n",
       "    .dataframe thead th {\n",
       "        text-align: right;\n",
       "    }\n",
       "</style>\n",
       "<table border=\"1\" class=\"dataframe\">\n",
       "  <thead>\n",
       "    <tr style=\"text-align: right;\">\n",
       "      <th></th>\n",
       "      <th>line</th>\n",
       "      <th>good</th>\n",
       "      <th>bad</th>\n",
       "      <th>date</th>\n",
       "      <th>bad_rate</th>\n",
       "    </tr>\n",
       "  </thead>\n",
       "  <tbody>\n",
       "    <tr>\n",
       "      <th>0</th>\n",
       "      <td>line1</td>\n",
       "      <td>125</td>\n",
       "      <td>18</td>\n",
       "      <td>5</td>\n",
       "      <td>12.59</td>\n",
       "    </tr>\n",
       "    <tr>\n",
       "      <th>1</th>\n",
       "      <td>line2</td>\n",
       "      <td>907</td>\n",
       "      <td>341</td>\n",
       "      <td>15</td>\n",
       "      <td>27.32</td>\n",
       "    </tr>\n",
       "    <tr>\n",
       "      <th>2</th>\n",
       "      <td>line3</td>\n",
       "      <td>490</td>\n",
       "      <td>222</td>\n",
       "      <td>10</td>\n",
       "      <td>31.18</td>\n",
       "    </tr>\n",
       "  </tbody>\n",
       "</table>\n",
       "</div>"
      ],
      "text/plain": [
       "    line  good  bad  date  bad_rate\n",
       "0  line1   125   18     5     12.59\n",
       "1  line2   907  341    15     27.32\n",
       "2  line3   490  222    10     31.18"
      ]
     },
     "execution_count": 38,
     "metadata": {},
     "output_type": "execute_result"
    }
   ],
   "source": [
    "new_df = line_df.groupby(\"line\").agg(sum).reset_index()\n",
    "new_df[\"bad_rate\"] = round((new_df['bad']/(new_df[\"good\"] + new_df['bad']))* 100, 2)\n",
    "new_df"
   ]
  },
  {
   "cell_type": "markdown",
   "metadata": {
    "slideshow": {
     "slide_type": "slide"
    }
   },
   "source": [
    "#### Quiz 5\n",
    "- 날짜별 전체 good(양품), bad(불량) 수를 데이터 프레임으로 출력하세요.\n",
    "- groupby 사용"
   ]
  },
  {
   "cell_type": "code",
   "execution_count": 11,
   "metadata": {},
   "outputs": [
    {
     "data": {
      "text/html": [
       "<div>\n",
       "<style scoped>\n",
       "    .dataframe tbody tr th:only-of-type {\n",
       "        vertical-align: middle;\n",
       "    }\n",
       "\n",
       "    .dataframe tbody tr th {\n",
       "        vertical-align: top;\n",
       "    }\n",
       "\n",
       "    .dataframe thead th {\n",
       "        text-align: right;\n",
       "    }\n",
       "</style>\n",
       "<table border=\"1\" class=\"dataframe\">\n",
       "  <thead>\n",
       "    <tr style=\"text-align: right;\">\n",
       "      <th></th>\n",
       "      <th>date</th>\n",
       "      <th>good</th>\n",
       "      <th>bad</th>\n",
       "    </tr>\n",
       "  </thead>\n",
       "  <tbody>\n",
       "    <tr>\n",
       "      <th>0</th>\n",
       "      <td>1</td>\n",
       "      <td>402</td>\n",
       "      <td>132</td>\n",
       "    </tr>\n",
       "    <tr>\n",
       "      <th>1</th>\n",
       "      <td>2</td>\n",
       "      <td>306</td>\n",
       "      <td>142</td>\n",
       "    </tr>\n",
       "    <tr>\n",
       "      <th>2</th>\n",
       "      <td>4</td>\n",
       "      <td>385</td>\n",
       "      <td>64</td>\n",
       "    </tr>\n",
       "    <tr>\n",
       "      <th>3</th>\n",
       "      <td>5</td>\n",
       "      <td>302</td>\n",
       "      <td>140</td>\n",
       "    </tr>\n",
       "  </tbody>\n",
       "</table>\n",
       "</div>"
      ],
      "text/plain": [
       "   date  good  bad\n",
       "0     1   402  132\n",
       "1     2   306  142\n",
       "2     4   385   64\n",
       "3     5   302  140"
      ]
     },
     "execution_count": 11,
     "metadata": {},
     "output_type": "execute_result"
    }
   ],
   "source": [
    "# TODO"
   ]
  },
  {
   "cell_type": "code",
   "execution_count": 11,
   "metadata": {},
   "outputs": [
    {
     "data": {
      "text/html": [
       "<div>\n",
       "<style scoped>\n",
       "    .dataframe tbody tr th:only-of-type {\n",
       "        vertical-align: middle;\n",
       "    }\n",
       "\n",
       "    .dataframe tbody tr th {\n",
       "        vertical-align: top;\n",
       "    }\n",
       "\n",
       "    .dataframe thead th {\n",
       "        text-align: right;\n",
       "    }\n",
       "</style>\n",
       "<table border=\"1\" class=\"dataframe\">\n",
       "  <thead>\n",
       "    <tr style=\"text-align: right;\">\n",
       "      <th></th>\n",
       "      <th>date</th>\n",
       "      <th>good</th>\n",
       "      <th>bad</th>\n",
       "    </tr>\n",
       "  </thead>\n",
       "  <tbody>\n",
       "    <tr>\n",
       "      <th>0</th>\n",
       "      <td>1</td>\n",
       "      <td>296</td>\n",
       "      <td>51</td>\n",
       "    </tr>\n",
       "    <tr>\n",
       "      <th>1</th>\n",
       "      <td>2</td>\n",
       "      <td>274</td>\n",
       "      <td>123</td>\n",
       "    </tr>\n",
       "    <tr>\n",
       "      <th>2</th>\n",
       "      <td>3</td>\n",
       "      <td>219</td>\n",
       "      <td>93</td>\n",
       "    </tr>\n",
       "    <tr>\n",
       "      <th>3</th>\n",
       "      <td>4</td>\n",
       "      <td>450</td>\n",
       "      <td>101</td>\n",
       "    </tr>\n",
       "    <tr>\n",
       "      <th>4</th>\n",
       "      <td>5</td>\n",
       "      <td>183</td>\n",
       "      <td>95</td>\n",
       "    </tr>\n",
       "  </tbody>\n",
       "</table>\n",
       "</div>"
      ],
      "text/plain": [
       "   date  good  bad\n",
       "0     1   296   51\n",
       "1     2   274  123\n",
       "2     3   219   93\n",
       "3     4   450  101\n",
       "4     5   183   95"
      ]
     },
     "execution_count": 11,
     "metadata": {},
     "output_type": "execute_result"
    }
   ],
   "source": [
    "date_df = line_df.groupby(\"date\").agg(sum).reset_index()\n",
    "date_df"
   ]
  },
  {
   "cell_type": "markdown",
   "metadata": {
    "slideshow": {
     "slide_type": "slide"
    }
   },
   "source": [
    "#### Quiz 6\n",
    "- 날짜별 불량률을 출력하세요."
   ]
  },
  {
   "cell_type": "code",
   "execution_count": 12,
   "metadata": {},
   "outputs": [
    {
     "data": {
      "text/html": [
       "<div>\n",
       "<style scoped>\n",
       "    .dataframe tbody tr th:only-of-type {\n",
       "        vertical-align: middle;\n",
       "    }\n",
       "\n",
       "    .dataframe tbody tr th {\n",
       "        vertical-align: top;\n",
       "    }\n",
       "\n",
       "    .dataframe thead th {\n",
       "        text-align: right;\n",
       "    }\n",
       "</style>\n",
       "<table border=\"1\" class=\"dataframe\">\n",
       "  <thead>\n",
       "    <tr style=\"text-align: right;\">\n",
       "      <th></th>\n",
       "      <th>date</th>\n",
       "      <th>good</th>\n",
       "      <th>bad</th>\n",
       "      <th>bad_rate</th>\n",
       "    </tr>\n",
       "  </thead>\n",
       "  <tbody>\n",
       "    <tr>\n",
       "      <th>0</th>\n",
       "      <td>1</td>\n",
       "      <td>402</td>\n",
       "      <td>132</td>\n",
       "      <td>24.72</td>\n",
       "    </tr>\n",
       "    <tr>\n",
       "      <th>1</th>\n",
       "      <td>2</td>\n",
       "      <td>306</td>\n",
       "      <td>142</td>\n",
       "      <td>31.70</td>\n",
       "    </tr>\n",
       "    <tr>\n",
       "      <th>2</th>\n",
       "      <td>4</td>\n",
       "      <td>385</td>\n",
       "      <td>64</td>\n",
       "      <td>14.25</td>\n",
       "    </tr>\n",
       "    <tr>\n",
       "      <th>3</th>\n",
       "      <td>5</td>\n",
       "      <td>302</td>\n",
       "      <td>140</td>\n",
       "      <td>31.67</td>\n",
       "    </tr>\n",
       "  </tbody>\n",
       "</table>\n",
       "</div>"
      ],
      "text/plain": [
       "   date  good  bad  bad_rate\n",
       "0     1   402  132     24.72\n",
       "1     2   306  142     31.70\n",
       "2     4   385   64     14.25\n",
       "3     5   302  140     31.67"
      ]
     },
     "execution_count": 12,
     "metadata": {},
     "output_type": "execute_result"
    }
   ],
   "source": [
    "# TODO"
   ]
  },
  {
   "cell_type": "code",
   "execution_count": 36,
   "metadata": {},
   "outputs": [
    {
     "data": {
      "text/html": [
       "<div>\n",
       "<style scoped>\n",
       "    .dataframe tbody tr th:only-of-type {\n",
       "        vertical-align: middle;\n",
       "    }\n",
       "\n",
       "    .dataframe tbody tr th {\n",
       "        vertical-align: top;\n",
       "    }\n",
       "\n",
       "    .dataframe thead th {\n",
       "        text-align: right;\n",
       "    }\n",
       "</style>\n",
       "<table border=\"1\" class=\"dataframe\">\n",
       "  <thead>\n",
       "    <tr style=\"text-align: right;\">\n",
       "      <th></th>\n",
       "      <th>date</th>\n",
       "      <th>good</th>\n",
       "      <th>bad</th>\n",
       "      <th>bad_rate</th>\n",
       "    </tr>\n",
       "  </thead>\n",
       "  <tbody>\n",
       "    <tr>\n",
       "      <th>0</th>\n",
       "      <td>1</td>\n",
       "      <td>296</td>\n",
       "      <td>51</td>\n",
       "      <td>14.70</td>\n",
       "    </tr>\n",
       "    <tr>\n",
       "      <th>1</th>\n",
       "      <td>2</td>\n",
       "      <td>274</td>\n",
       "      <td>123</td>\n",
       "      <td>30.98</td>\n",
       "    </tr>\n",
       "    <tr>\n",
       "      <th>2</th>\n",
       "      <td>3</td>\n",
       "      <td>219</td>\n",
       "      <td>93</td>\n",
       "      <td>29.81</td>\n",
       "    </tr>\n",
       "    <tr>\n",
       "      <th>3</th>\n",
       "      <td>4</td>\n",
       "      <td>450</td>\n",
       "      <td>101</td>\n",
       "      <td>18.33</td>\n",
       "    </tr>\n",
       "    <tr>\n",
       "      <th>4</th>\n",
       "      <td>5</td>\n",
       "      <td>183</td>\n",
       "      <td>95</td>\n",
       "      <td>34.17</td>\n",
       "    </tr>\n",
       "  </tbody>\n",
       "</table>\n",
       "</div>"
      ],
      "text/plain": [
       "   date  good  bad  bad_rate\n",
       "0     1   296   51     14.70\n",
       "1     2   274  123     30.98\n",
       "2     3   219   93     29.81\n",
       "3     4   450  101     18.33\n",
       "4     5   183   95     34.17"
      ]
     },
     "execution_count": 36,
     "metadata": {},
     "output_type": "execute_result"
    }
   ],
   "source": [
    "date_df[\"bad_rate\"] = round((date_df['bad']/(date_df[\"good\"] + date_df['bad']))* 100, 2)\n",
    "date_df"
   ]
  },
  {
   "cell_type": "markdown",
   "metadata": {
    "slideshow": {
     "slide_type": "slide"
    }
   },
   "source": [
    "#### Quiz 7\n",
    "- 아래의 데이터를 pivot_table을 이용하여 출력하세요.\n",
    "    - 라인별, 날짜별, 양품수\n",
    "    - 라인별, 날짜별, 불량수\n",
    "    - 라인별, 날짜별, 불량률\n",
    "- NaN 데이터는 0으로 변경하세요.\n",
    "- pivot_table, fillna 사용"
   ]
  },
  {
   "cell_type": "code",
   "execution_count": 13,
   "metadata": {},
   "outputs": [
    {
     "data": {
      "text/html": [
       "<div>\n",
       "<style scoped>\n",
       "    .dataframe tbody tr th:only-of-type {\n",
       "        vertical-align: middle;\n",
       "    }\n",
       "\n",
       "    .dataframe tbody tr th {\n",
       "        vertical-align: top;\n",
       "    }\n",
       "\n",
       "    .dataframe thead th {\n",
       "        text-align: right;\n",
       "    }\n",
       "</style>\n",
       "<table border=\"1\" class=\"dataframe\">\n",
       "  <thead>\n",
       "    <tr style=\"text-align: right;\">\n",
       "      <th></th>\n",
       "      <th>1</th>\n",
       "      <th>2</th>\n",
       "      <th>4</th>\n",
       "      <th>5</th>\n",
       "    </tr>\n",
       "  </thead>\n",
       "  <tbody>\n",
       "    <tr>\n",
       "      <th>line1</th>\n",
       "      <td>103.0</td>\n",
       "      <td>155.0</td>\n",
       "      <td>0.0</td>\n",
       "      <td>0.0</td>\n",
       "    </tr>\n",
       "    <tr>\n",
       "      <th>line2</th>\n",
       "      <td>0.0</td>\n",
       "      <td>0.0</td>\n",
       "      <td>260.0</td>\n",
       "      <td>162.0</td>\n",
       "    </tr>\n",
       "    <tr>\n",
       "      <th>line3</th>\n",
       "      <td>299.0</td>\n",
       "      <td>151.0</td>\n",
       "      <td>125.0</td>\n",
       "      <td>140.0</td>\n",
       "    </tr>\n",
       "  </tbody>\n",
       "</table>\n",
       "</div>"
      ],
      "text/plain": [
       "           1      2      4      5\n",
       "line1  103.0  155.0    0.0    0.0\n",
       "line2    0.0    0.0  260.0  162.0\n",
       "line3  299.0  151.0  125.0  140.0"
      ]
     },
     "execution_count": 13,
     "metadata": {},
     "output_type": "execute_result"
    }
   ],
   "source": [
    "# 라인별, 날짜별, 양품수\n",
    "\n",
    "# TODO\n",
    "\n",
    "pivot_df_1"
   ]
  },
  {
   "cell_type": "code",
   "execution_count": 34,
   "metadata": {},
   "outputs": [
    {
     "data": {
      "text/html": [
       "<div>\n",
       "<style scoped>\n",
       "    .dataframe tbody tr th:only-of-type {\n",
       "        vertical-align: middle;\n",
       "    }\n",
       "\n",
       "    .dataframe tbody tr th {\n",
       "        vertical-align: top;\n",
       "    }\n",
       "\n",
       "    .dataframe thead th {\n",
       "        text-align: right;\n",
       "    }\n",
       "</style>\n",
       "<table border=\"1\" class=\"dataframe\">\n",
       "  <thead>\n",
       "    <tr style=\"text-align: right;\">\n",
       "      <th>date</th>\n",
       "      <th>1</th>\n",
       "      <th>2</th>\n",
       "      <th>3</th>\n",
       "      <th>4</th>\n",
       "      <th>5</th>\n",
       "    </tr>\n",
       "    <tr>\n",
       "      <th>line</th>\n",
       "      <th></th>\n",
       "      <th></th>\n",
       "      <th></th>\n",
       "      <th></th>\n",
       "      <th></th>\n",
       "    </tr>\n",
       "  </thead>\n",
       "  <tbody>\n",
       "    <tr>\n",
       "      <th>line1</th>\n",
       "      <td>0.0</td>\n",
       "      <td>0.0</td>\n",
       "      <td>0.0</td>\n",
       "      <td>0.0</td>\n",
       "      <td>125.0</td>\n",
       "    </tr>\n",
       "    <tr>\n",
       "      <th>line2</th>\n",
       "      <td>129.0</td>\n",
       "      <td>269.0</td>\n",
       "      <td>386.0</td>\n",
       "      <td>123.0</td>\n",
       "      <td>0.0</td>\n",
       "    </tr>\n",
       "    <tr>\n",
       "      <th>line3</th>\n",
       "      <td>0.0</td>\n",
       "      <td>195.0</td>\n",
       "      <td>123.0</td>\n",
       "      <td>0.0</td>\n",
       "      <td>172.0</td>\n",
       "    </tr>\n",
       "  </tbody>\n",
       "</table>\n",
       "</div>"
      ],
      "text/plain": [
       "date       1      2      3      4      5\n",
       "line                                    \n",
       "line1    0.0    0.0    0.0    0.0  125.0\n",
       "line2  129.0  269.0  386.0  123.0    0.0\n",
       "line3    0.0  195.0  123.0    0.0  172.0"
      ]
     },
     "execution_count": 34,
     "metadata": {},
     "output_type": "execute_result"
    }
   ],
   "source": [
    "pivot_df_1 = line_df.pivot_table(\"good\",index =[\"line\"],columns=[\"date\"], aggfunc=np.sum).fillna(0)\n",
    "#pivot_df_1[pivot_df_1.isnull()] = 0.0\n",
    "pivot_df_1"
   ]
  },
  {
   "cell_type": "code",
   "execution_count": 14,
   "metadata": {
    "slideshow": {
     "slide_type": "slide"
    }
   },
   "outputs": [
    {
     "data": {
      "text/html": [
       "<div>\n",
       "<style scoped>\n",
       "    .dataframe tbody tr th:only-of-type {\n",
       "        vertical-align: middle;\n",
       "    }\n",
       "\n",
       "    .dataframe tbody tr th {\n",
       "        vertical-align: top;\n",
       "    }\n",
       "\n",
       "    .dataframe thead th {\n",
       "        text-align: right;\n",
       "    }\n",
       "</style>\n",
       "<table border=\"1\" class=\"dataframe\">\n",
       "  <thead>\n",
       "    <tr style=\"text-align: right;\">\n",
       "      <th></th>\n",
       "      <th>1</th>\n",
       "      <th>2</th>\n",
       "      <th>4</th>\n",
       "      <th>5</th>\n",
       "    </tr>\n",
       "  </thead>\n",
       "  <tbody>\n",
       "    <tr>\n",
       "      <th>line1</th>\n",
       "      <td>11.0</td>\n",
       "      <td>51.0</td>\n",
       "      <td>0.0</td>\n",
       "      <td>0.0</td>\n",
       "    </tr>\n",
       "    <tr>\n",
       "      <th>line2</th>\n",
       "      <td>0.0</td>\n",
       "      <td>0.0</td>\n",
       "      <td>62.0</td>\n",
       "      <td>58.0</td>\n",
       "    </tr>\n",
       "    <tr>\n",
       "      <th>line3</th>\n",
       "      <td>121.0</td>\n",
       "      <td>91.0</td>\n",
       "      <td>2.0</td>\n",
       "      <td>82.0</td>\n",
       "    </tr>\n",
       "  </tbody>\n",
       "</table>\n",
       "</div>"
      ],
      "text/plain": [
       "           1     2     4     5\n",
       "line1   11.0  51.0   0.0   0.0\n",
       "line2    0.0   0.0  62.0  58.0\n",
       "line3  121.0  91.0   2.0  82.0"
      ]
     },
     "execution_count": 14,
     "metadata": {},
     "output_type": "execute_result"
    }
   ],
   "source": [
    "# 라인별, 날짜별, 불량수\n",
    "\n",
    "# TODO\n",
    "\n",
    "pivot_df_2"
   ]
  },
  {
   "cell_type": "code",
   "execution_count": 31,
   "metadata": {},
   "outputs": [
    {
     "data": {
      "text/html": [
       "<div>\n",
       "<style scoped>\n",
       "    .dataframe tbody tr th:only-of-type {\n",
       "        vertical-align: middle;\n",
       "    }\n",
       "\n",
       "    .dataframe tbody tr th {\n",
       "        vertical-align: top;\n",
       "    }\n",
       "\n",
       "    .dataframe thead th {\n",
       "        text-align: right;\n",
       "    }\n",
       "</style>\n",
       "<table border=\"1\" class=\"dataframe\">\n",
       "  <thead>\n",
       "    <tr style=\"text-align: right;\">\n",
       "      <th>date</th>\n",
       "      <th>1</th>\n",
       "      <th>2</th>\n",
       "      <th>3</th>\n",
       "      <th>4</th>\n",
       "      <th>5</th>\n",
       "    </tr>\n",
       "    <tr>\n",
       "      <th>line</th>\n",
       "      <th></th>\n",
       "      <th></th>\n",
       "      <th></th>\n",
       "      <th></th>\n",
       "      <th></th>\n",
       "    </tr>\n",
       "  </thead>\n",
       "  <tbody>\n",
       "    <tr>\n",
       "      <th>line1</th>\n",
       "      <td>0.0</td>\n",
       "      <td>0.0</td>\n",
       "      <td>0.0</td>\n",
       "      <td>0.0</td>\n",
       "      <td>18.0</td>\n",
       "    </tr>\n",
       "    <tr>\n",
       "      <th>line2</th>\n",
       "      <td>81.0</td>\n",
       "      <td>197.0</td>\n",
       "      <td>58.0</td>\n",
       "      <td>5.0</td>\n",
       "      <td>0.0</td>\n",
       "    </tr>\n",
       "    <tr>\n",
       "      <th>line3</th>\n",
       "      <td>0.0</td>\n",
       "      <td>52.0</td>\n",
       "      <td>99.0</td>\n",
       "      <td>0.0</td>\n",
       "      <td>71.0</td>\n",
       "    </tr>\n",
       "  </tbody>\n",
       "</table>\n",
       "</div>"
      ],
      "text/plain": [
       "date      1      2     3    4     5\n",
       "line                               \n",
       "line1   0.0    0.0   0.0  0.0  18.0\n",
       "line2  81.0  197.0  58.0  5.0   0.0\n",
       "line3   0.0   52.0  99.0  0.0  71.0"
      ]
     },
     "execution_count": 31,
     "metadata": {},
     "output_type": "execute_result"
    }
   ],
   "source": [
    "pivot_df_2 = line_df.pivot_table(\"bad\",\"line\",\"date\", aggfunc=np.sum)\n",
    "pivot_df_2[pivot_df_2.isnull()] = 0.0\n",
    "pivot_df_2"
   ]
  },
  {
   "cell_type": "code",
   "execution_count": 15,
   "metadata": {},
   "outputs": [
    {
     "data": {
      "text/html": [
       "<div>\n",
       "<style scoped>\n",
       "    .dataframe tbody tr th:only-of-type {\n",
       "        vertical-align: middle;\n",
       "    }\n",
       "\n",
       "    .dataframe tbody tr th {\n",
       "        vertical-align: top;\n",
       "    }\n",
       "\n",
       "    .dataframe thead th {\n",
       "        text-align: right;\n",
       "    }\n",
       "</style>\n",
       "<table border=\"1\" class=\"dataframe\">\n",
       "  <thead>\n",
       "    <tr style=\"text-align: right;\">\n",
       "      <th></th>\n",
       "      <th>1</th>\n",
       "      <th>2</th>\n",
       "      <th>4</th>\n",
       "      <th>5</th>\n",
       "    </tr>\n",
       "  </thead>\n",
       "  <tbody>\n",
       "    <tr>\n",
       "      <th>line1</th>\n",
       "      <td>9.65</td>\n",
       "      <td>24.76</td>\n",
       "      <td>0.00</td>\n",
       "      <td>0.00</td>\n",
       "    </tr>\n",
       "    <tr>\n",
       "      <th>line2</th>\n",
       "      <td>0.00</td>\n",
       "      <td>0.00</td>\n",
       "      <td>19.25</td>\n",
       "      <td>26.36</td>\n",
       "    </tr>\n",
       "    <tr>\n",
       "      <th>line3</th>\n",
       "      <td>28.81</td>\n",
       "      <td>37.60</td>\n",
       "      <td>1.57</td>\n",
       "      <td>36.94</td>\n",
       "    </tr>\n",
       "  </tbody>\n",
       "</table>\n",
       "</div>"
      ],
      "text/plain": [
       "           1      2      4      5\n",
       "line1   9.65  24.76   0.00   0.00\n",
       "line2   0.00   0.00  19.25  26.36\n",
       "line3  28.81  37.60   1.57  36.94"
      ]
     },
     "execution_count": 15,
     "metadata": {},
     "output_type": "execute_result"
    }
   ],
   "source": [
    "# 라인별, 날짜별, 불량률\n",
    "\n",
    "# TODO\n",
    "\n",
    "pivot_df_3"
   ]
  },
  {
   "cell_type": "code",
   "execution_count": 35,
   "metadata": {},
   "outputs": [
    {
     "data": {
      "text/html": [
       "<div>\n",
       "<style scoped>\n",
       "    .dataframe tbody tr th:only-of-type {\n",
       "        vertical-align: middle;\n",
       "    }\n",
       "\n",
       "    .dataframe tbody tr th {\n",
       "        vertical-align: top;\n",
       "    }\n",
       "\n",
       "    .dataframe thead th {\n",
       "        text-align: right;\n",
       "    }\n",
       "</style>\n",
       "<table border=\"1\" class=\"dataframe\">\n",
       "  <thead>\n",
       "    <tr style=\"text-align: right;\">\n",
       "      <th>date</th>\n",
       "      <th>1</th>\n",
       "      <th>2</th>\n",
       "      <th>3</th>\n",
       "      <th>4</th>\n",
       "      <th>5</th>\n",
       "    </tr>\n",
       "    <tr>\n",
       "      <th>line</th>\n",
       "      <th></th>\n",
       "      <th></th>\n",
       "      <th></th>\n",
       "      <th></th>\n",
       "      <th></th>\n",
       "    </tr>\n",
       "  </thead>\n",
       "  <tbody>\n",
       "    <tr>\n",
       "      <th>line1</th>\n",
       "      <td>0.00</td>\n",
       "      <td>0.00</td>\n",
       "      <td>0.00</td>\n",
       "      <td>0.00</td>\n",
       "      <td>12.59</td>\n",
       "    </tr>\n",
       "    <tr>\n",
       "      <th>line2</th>\n",
       "      <td>38.57</td>\n",
       "      <td>42.27</td>\n",
       "      <td>13.06</td>\n",
       "      <td>3.91</td>\n",
       "      <td>0.00</td>\n",
       "    </tr>\n",
       "    <tr>\n",
       "      <th>line3</th>\n",
       "      <td>0.00</td>\n",
       "      <td>21.05</td>\n",
       "      <td>44.59</td>\n",
       "      <td>0.00</td>\n",
       "      <td>29.22</td>\n",
       "    </tr>\n",
       "  </tbody>\n",
       "</table>\n",
       "</div>"
      ],
      "text/plain": [
       "date       1      2      3     4      5\n",
       "line                                   \n",
       "line1   0.00   0.00   0.00  0.00  12.59\n",
       "line2  38.57  42.27  13.06  3.91   0.00\n",
       "line3   0.00  21.05  44.59  0.00  29.22"
      ]
     },
     "execution_count": 35,
     "metadata": {},
     "output_type": "execute_result"
    }
   ],
   "source": [
    "# pivot_df_3 = date_df.pivot_table(\"bad_rate\",\"line\",\"date\", aggfunc=np.sum)\n",
    "# pivot_df_3[pivot_df_3.isnull()] = 0.0\n",
    "# pivot_df_3\n",
    "\n",
    "pivot_df_3 = round((pivot_df_2 / (pivot_df_1 + pivot_df_2)) * 100, 2)\n",
    "pivot_df_3.fillna(0, inplace= True)\n",
    "pivot_df_3"
   ]
  },
  {
   "cell_type": "code",
   "execution_count": null,
   "metadata": {},
   "outputs": [],
   "source": []
  },
  {
   "cell_type": "markdown",
   "metadata": {},
   "source": [
    "# database "
   ]
  },
  {
   "cell_type": "code",
   "execution_count": 41,
   "metadata": {},
   "outputs": [],
   "source": [
    "import MySQLdb"
   ]
  },
  {
   "cell_type": "code",
   "execution_count": 42,
   "metadata": {},
   "outputs": [],
   "source": [
    "# world 데이터 베이스 : localhost 대신 본인의 서버 public ip를 사용하세요.\n",
    "data = [\"\", \"root\", \"\", \"world\"]\n",
    "world_db = MySQLdb.connect(*data)"
   ]
  },
  {
   "cell_type": "code",
   "execution_count": 46,
   "metadata": {},
   "outputs": [
    {
     "data": {
      "text/html": [
       "<div>\n",
       "<style scoped>\n",
       "    .dataframe tbody tr th:only-of-type {\n",
       "        vertical-align: middle;\n",
       "    }\n",
       "\n",
       "    .dataframe tbody tr th {\n",
       "        vertical-align: top;\n",
       "    }\n",
       "\n",
       "    .dataframe thead th {\n",
       "        text-align: right;\n",
       "    }\n",
       "</style>\n",
       "<table border=\"1\" class=\"dataframe\">\n",
       "  <thead>\n",
       "    <tr style=\"text-align: right;\">\n",
       "      <th></th>\n",
       "      <th>Code</th>\n",
       "      <th>Name</th>\n",
       "      <th>GNP</th>\n",
       "      <th>Population</th>\n",
       "    </tr>\n",
       "  </thead>\n",
       "  <tbody>\n",
       "    <tr>\n",
       "      <th>237</th>\n",
       "      <td>ZMB</td>\n",
       "      <td>Zambia</td>\n",
       "      <td>3377.0</td>\n",
       "      <td>9169000</td>\n",
       "    </tr>\n",
       "    <tr>\n",
       "      <th>238</th>\n",
       "      <td>ZWE</td>\n",
       "      <td>Zimbabwe</td>\n",
       "      <td>5951.0</td>\n",
       "      <td>11669000</td>\n",
       "    </tr>\n",
       "  </tbody>\n",
       "</table>\n",
       "</div>"
      ],
      "text/plain": [
       "    Code      Name     GNP  Population\n",
       "237  ZMB    Zambia  3377.0     9169000\n",
       "238  ZWE  Zimbabwe  5951.0    11669000"
      ]
     },
     "execution_count": 46,
     "metadata": {},
     "output_type": "execute_result"
    }
   ],
   "source": [
    "# 예시\n",
    "QUERY = \"\"\"\n",
    "    SELECT Code, Name, GNP, Population\n",
    "    FROM country\n",
    "\"\"\"\n",
    "\n",
    "df = pd.read_sql(QUERY, world_db)\n",
    "df.tail(2)"
   ]
  },
  {
   "cell_type": "markdown",
   "metadata": {},
   "source": [
    "### Quiz 1\n",
    "- 인구수 1000만이 넘는 국가중에 인구밀도가 가장 높은 상위 3개 국가의 국가코드와 인구밀도를 출력하세요.\n",
    "- 인구밀도는 소수 셋째자리에서 반올림하여 소수 둘째자리까지 출력하세요."
   ]
  },
  {
   "cell_type": "code",
   "execution_count": 49,
   "metadata": {},
   "outputs": [],
   "source": [
    "QUERY1 = \"\"\"\n",
    "select code, truncate(population/SurfaceArea,2) as pop_per_sur from country\n",
    "where population > 10000000\n",
    "order by pop_per_sur desc\n",
    "limit 3\n",
    "\"\"\""
   ]
  },
  {
   "cell_type": "code",
   "execution_count": 50,
   "metadata": {},
   "outputs": [
    {
     "data": {
      "text/html": [
       "<div>\n",
       "<style scoped>\n",
       "    .dataframe tbody tr th:only-of-type {\n",
       "        vertical-align: middle;\n",
       "    }\n",
       "\n",
       "    .dataframe tbody tr th {\n",
       "        vertical-align: top;\n",
       "    }\n",
       "\n",
       "    .dataframe thead th {\n",
       "        text-align: right;\n",
       "    }\n",
       "</style>\n",
       "<table border=\"1\" class=\"dataframe\">\n",
       "  <thead>\n",
       "    <tr style=\"text-align: right;\">\n",
       "      <th></th>\n",
       "      <th>code</th>\n",
       "      <th>pop_per_sur</th>\n",
       "    </tr>\n",
       "  </thead>\n",
       "  <tbody>\n",
       "    <tr>\n",
       "      <th>0</th>\n",
       "      <td>BGD</td>\n",
       "      <td>896.92</td>\n",
       "    </tr>\n",
       "    <tr>\n",
       "      <th>1</th>\n",
       "      <td>TWN</td>\n",
       "      <td>615.01</td>\n",
       "    </tr>\n",
       "    <tr>\n",
       "      <th>2</th>\n",
       "      <td>KOR</td>\n",
       "      <td>471.10</td>\n",
       "    </tr>\n",
       "  </tbody>\n",
       "</table>\n",
       "</div>"
      ],
      "text/plain": [
       "  code  pop_per_sur\n",
       "0  BGD       896.92\n",
       "1  TWN       615.01\n",
       "2  KOR       471.10"
      ]
     },
     "execution_count": 50,
     "metadata": {},
     "output_type": "execute_result"
    }
   ],
   "source": [
    "df = pd.read_sql(QUERY1, world_db)\n",
    "df"
   ]
  },
  {
   "cell_type": "code",
   "execution_count": 5,
   "metadata": {},
   "outputs": [
    {
     "data": {
      "text/html": [
       "<div>\n",
       "<style scoped>\n",
       "    .dataframe tbody tr th:only-of-type {\n",
       "        vertical-align: middle;\n",
       "    }\n",
       "\n",
       "    .dataframe tbody tr th {\n",
       "        vertical-align: top;\n",
       "    }\n",
       "\n",
       "    .dataframe thead th {\n",
       "        text-align: right;\n",
       "    }\n",
       "</style>\n",
       "<table border=\"1\" class=\"dataframe\">\n",
       "  <thead>\n",
       "    <tr style=\"text-align: right;\">\n",
       "      <th></th>\n",
       "      <th>code</th>\n",
       "      <th>pop_per_sur</th>\n",
       "    </tr>\n",
       "  </thead>\n",
       "  <tbody>\n",
       "    <tr>\n",
       "      <th>0</th>\n",
       "      <td>BGD</td>\n",
       "      <td>896.92</td>\n",
       "    </tr>\n",
       "    <tr>\n",
       "      <th>1</th>\n",
       "      <td>TWN</td>\n",
       "      <td>615.01</td>\n",
       "    </tr>\n",
       "    <tr>\n",
       "      <th>2</th>\n",
       "      <td>KOR</td>\n",
       "      <td>471.11</td>\n",
       "    </tr>\n",
       "  </tbody>\n",
       "</table>\n",
       "</div>"
      ],
      "text/plain": [
       "  code  pop_per_sur\n",
       "0  BGD       896.92\n",
       "1  TWN       615.01\n",
       "2  KOR       471.11"
      ]
     },
     "execution_count": 5,
     "metadata": {},
     "output_type": "execute_result"
    }
   ],
   "source": [
    "df = pd.read_sql(QUERY1, world_db)\n",
    "df"
   ]
  },
  {
   "cell_type": "markdown",
   "metadata": {},
   "source": [
    "### Quiz 2\n",
    "- 위에서 출력된 결과를 아래와 같이 피봇하여 출력되도록 쿼리를 작성하세요."
   ]
  },
  {
   "cell_type": "code",
   "execution_count": 39,
   "metadata": {},
   "outputs": [],
   "source": [
    "QUERY2 = \"\"\"\n",
    "select \n",
    "\t( select code from country \n",
    "\twhere population >= 10000000 \n",
    "\torder by Population/SurfaceArea desc\n",
    "\tlimit 1 ) as rank1,\n",
    "\t( select code from country \n",
    "\twhere population >= 10000000 \n",
    "\torder by Population/SurfaceArea desc\n",
    "\tlimit 1, 1 ) as rank2,\n",
    "\t( select code from country \n",
    "\twhere population >= 10000000 \n",
    "\torder by Population/SurfaceArea desc\n",
    "\tlimit 2, 1 ) as rank3\n",
    "union\n",
    "select\n",
    "\t( select round(Population/SurfaceArea, 2) as pop_per_sur\n",
    "\tfrom country\n",
    "\twhere population >= 10000000\n",
    "\torder by pop_per_sur desc\n",
    "\tlimit 1 ) as rank1,\n",
    "\t( select round(Population/SurfaceArea, 2) as pop_per_sur\n",
    "\tfrom country\n",
    "\twhere population >= 10000000\n",
    "\torder by pop_per_sur desc\n",
    "\tlimit 1, 1 ) as rank2,\n",
    "\t( select round(Population/SurfaceArea, 2) as pop_per_sur\n",
    "\tfrom country\n",
    "\twhere population >= 10000000\n",
    "\torder by pop_per_sur desc\n",
    "\tlimit 2, 1 ) as rank3\n",
    "\n",
    "\"\"\""
   ]
  },
  {
   "cell_type": "code",
   "execution_count": 43,
   "metadata": {},
   "outputs": [
    {
     "data": {
      "text/html": [
       "<div>\n",
       "<style scoped>\n",
       "    .dataframe tbody tr th:only-of-type {\n",
       "        vertical-align: middle;\n",
       "    }\n",
       "\n",
       "    .dataframe tbody tr th {\n",
       "        vertical-align: top;\n",
       "    }\n",
       "\n",
       "    .dataframe thead th {\n",
       "        text-align: right;\n",
       "    }\n",
       "</style>\n",
       "<table border=\"1\" class=\"dataframe\">\n",
       "  <thead>\n",
       "    <tr style=\"text-align: right;\">\n",
       "      <th></th>\n",
       "      <th>rank1</th>\n",
       "      <th>rank2</th>\n",
       "      <th>rank3</th>\n",
       "    </tr>\n",
       "  </thead>\n",
       "  <tbody>\n",
       "    <tr>\n",
       "      <th>0</th>\n",
       "      <td>BGD</td>\n",
       "      <td>TWN</td>\n",
       "      <td>KOR</td>\n",
       "    </tr>\n",
       "    <tr>\n",
       "      <th>1</th>\n",
       "      <td>896.92</td>\n",
       "      <td>615.01</td>\n",
       "      <td>471.11</td>\n",
       "    </tr>\n",
       "  </tbody>\n",
       "</table>\n",
       "</div>"
      ],
      "text/plain": [
       "    rank1   rank2   rank3\n",
       "0     BGD     TWN     KOR\n",
       "1  896.92  615.01  471.11"
      ]
     },
     "execution_count": 43,
     "metadata": {},
     "output_type": "execute_result"
    }
   ],
   "source": [
    "df = pd.read_sql(QUERY2, world_db)\n",
    "df"
   ]
  },
  {
   "cell_type": "code",
   "execution_count": 7,
   "metadata": {},
   "outputs": [
    {
     "data": {
      "text/html": [
       "<div>\n",
       "<style scoped>\n",
       "    .dataframe tbody tr th:only-of-type {\n",
       "        vertical-align: middle;\n",
       "    }\n",
       "\n",
       "    .dataframe tbody tr th {\n",
       "        vertical-align: top;\n",
       "    }\n",
       "\n",
       "    .dataframe thead th {\n",
       "        text-align: right;\n",
       "    }\n",
       "</style>\n",
       "<table border=\"1\" class=\"dataframe\">\n",
       "  <thead>\n",
       "    <tr style=\"text-align: right;\">\n",
       "      <th></th>\n",
       "      <th>rank1</th>\n",
       "      <th>rank2</th>\n",
       "      <th>rank3</th>\n",
       "    </tr>\n",
       "  </thead>\n",
       "  <tbody>\n",
       "    <tr>\n",
       "      <th>0</th>\n",
       "      <td>BGD</td>\n",
       "      <td>TWN</td>\n",
       "      <td>KOR</td>\n",
       "    </tr>\n",
       "    <tr>\n",
       "      <th>1</th>\n",
       "      <td>896.92</td>\n",
       "      <td>615.01</td>\n",
       "      <td>471.11</td>\n",
       "    </tr>\n",
       "  </tbody>\n",
       "</table>\n",
       "</div>"
      ],
      "text/plain": [
       "    rank1   rank2   rank3\n",
       "0     BGD     TWN     KOR\n",
       "1  896.92  615.01  471.11"
      ]
     },
     "execution_count": 7,
     "metadata": {},
     "output_type": "execute_result"
    }
   ],
   "source": [
    "df = pd.read_sql(QUERY2, world_db)\n",
    "df"
   ]
  },
  {
   "cell_type": "markdown",
   "metadata": {},
   "source": [
    "### Quiz 3\n",
    "- 국가의 인구가 5000만이 넘는 국가중에서 국가별 사용하는언어의 비율이 가장 높은 언어와 사용비율과 사용인구를 출력하세요.\n",
    "- 사용하는 언어의 비율이 높은 국가의 언어순으로 5개의 언어와 국가를 출력하세요."
   ]
  },
  {
   "cell_type": "code",
   "execution_count": 64,
   "metadata": {},
   "outputs": [],
   "source": [
    "QUERY3 = \"\"\"\n",
    "SELECT cl.countrycode as code, LANGUAGE, percentage, truncate((population*percentage/100),1) as language_population\n",
    "FROM countrylanguage AS cl\n",
    "JOIN ( \n",
    "    SELECT *\n",
    "    FROM country\n",
    "    WHERE population > 50000000) AS con ON con.code = cl.countrycode\n",
    "ORDER BY percentage DESC\n",
    "LIMIT 5\n",
    "\"\"\""
   ]
  },
  {
   "cell_type": "code",
   "execution_count": 65,
   "metadata": {},
   "outputs": [
    {
     "data": {
      "text/html": [
       "<div>\n",
       "<style scoped>\n",
       "    .dataframe tbody tr th:only-of-type {\n",
       "        vertical-align: middle;\n",
       "    }\n",
       "\n",
       "    .dataframe tbody tr th {\n",
       "        vertical-align: top;\n",
       "    }\n",
       "\n",
       "    .dataframe thead th {\n",
       "        text-align: right;\n",
       "    }\n",
       "</style>\n",
       "<table border=\"1\" class=\"dataframe\">\n",
       "  <thead>\n",
       "    <tr style=\"text-align: right;\">\n",
       "      <th></th>\n",
       "      <th>code</th>\n",
       "      <th>LANGUAGE</th>\n",
       "      <th>percentage</th>\n",
       "      <th>language_population</th>\n",
       "    </tr>\n",
       "  </thead>\n",
       "  <tbody>\n",
       "    <tr>\n",
       "      <th>0</th>\n",
       "      <td>JPN</td>\n",
       "      <td>Japanese</td>\n",
       "      <td>99.1</td>\n",
       "      <td>125573574.0</td>\n",
       "    </tr>\n",
       "    <tr>\n",
       "      <th>1</th>\n",
       "      <td>EGY</td>\n",
       "      <td>Arabic</td>\n",
       "      <td>98.8</td>\n",
       "      <td>67648360.0</td>\n",
       "    </tr>\n",
       "    <tr>\n",
       "      <th>2</th>\n",
       "      <td>BGD</td>\n",
       "      <td>Bengali</td>\n",
       "      <td>97.7</td>\n",
       "      <td>126184435.0</td>\n",
       "    </tr>\n",
       "    <tr>\n",
       "      <th>3</th>\n",
       "      <td>BRA</td>\n",
       "      <td>Portuguese</td>\n",
       "      <td>97.5</td>\n",
       "      <td>165862125.0</td>\n",
       "    </tr>\n",
       "    <tr>\n",
       "      <th>4</th>\n",
       "      <td>GBR</td>\n",
       "      <td>English</td>\n",
       "      <td>97.3</td>\n",
       "      <td>58013568.2</td>\n",
       "    </tr>\n",
       "  </tbody>\n",
       "</table>\n",
       "</div>"
      ],
      "text/plain": [
       "  code    LANGUAGE  percentage  language_population\n",
       "0  JPN    Japanese        99.1          125573574.0\n",
       "1  EGY      Arabic        98.8           67648360.0\n",
       "2  BGD     Bengali        97.7          126184435.0\n",
       "3  BRA  Portuguese        97.5          165862125.0\n",
       "4  GBR     English        97.3           58013568.2"
      ]
     },
     "execution_count": 65,
     "metadata": {},
     "output_type": "execute_result"
    }
   ],
   "source": [
    "pd.read_sql(QUERY3, world_db)"
   ]
  },
  {
   "cell_type": "code",
   "execution_count": 9,
   "metadata": {},
   "outputs": [
    {
     "data": {
      "text/html": [
       "<div>\n",
       "<style scoped>\n",
       "    .dataframe tbody tr th:only-of-type {\n",
       "        vertical-align: middle;\n",
       "    }\n",
       "\n",
       "    .dataframe tbody tr th {\n",
       "        vertical-align: top;\n",
       "    }\n",
       "\n",
       "    .dataframe thead th {\n",
       "        text-align: right;\n",
       "    }\n",
       "</style>\n",
       "<table border=\"1\" class=\"dataframe\">\n",
       "  <thead>\n",
       "    <tr style=\"text-align: right;\">\n",
       "      <th></th>\n",
       "      <th>code</th>\n",
       "      <th>language</th>\n",
       "      <th>percentage</th>\n",
       "      <th>language_population</th>\n",
       "    </tr>\n",
       "  </thead>\n",
       "  <tbody>\n",
       "    <tr>\n",
       "      <th>0</th>\n",
       "      <td>JPN</td>\n",
       "      <td>Japanese</td>\n",
       "      <td>99.1</td>\n",
       "      <td>125573572.0</td>\n",
       "    </tr>\n",
       "    <tr>\n",
       "      <th>1</th>\n",
       "      <td>EGY</td>\n",
       "      <td>Arabic</td>\n",
       "      <td>98.8</td>\n",
       "      <td>67648362.0</td>\n",
       "    </tr>\n",
       "    <tr>\n",
       "      <th>2</th>\n",
       "      <td>BGD</td>\n",
       "      <td>Bengali</td>\n",
       "      <td>97.7</td>\n",
       "      <td>126184431.0</td>\n",
       "    </tr>\n",
       "    <tr>\n",
       "      <th>3</th>\n",
       "      <td>BRA</td>\n",
       "      <td>Portuguese</td>\n",
       "      <td>97.5</td>\n",
       "      <td>165862125.0</td>\n",
       "    </tr>\n",
       "    <tr>\n",
       "      <th>4</th>\n",
       "      <td>GBR</td>\n",
       "      <td>English</td>\n",
       "      <td>97.3</td>\n",
       "      <td>58013570.0</td>\n",
       "    </tr>\n",
       "  </tbody>\n",
       "</table>\n",
       "</div>"
      ],
      "text/plain": [
       "  code    language  percentage  language_population\n",
       "0  JPN    Japanese        99.1          125573572.0\n",
       "1  EGY      Arabic        98.8           67648362.0\n",
       "2  BGD     Bengali        97.7          126184431.0\n",
       "3  BRA  Portuguese        97.5          165862125.0\n",
       "4  GBR     English        97.3           58013570.0"
      ]
     },
     "execution_count": 9,
     "metadata": {},
     "output_type": "execute_result"
    }
   ],
   "source": [
    "pd.read_sql(QUERY3, world_db)"
   ]
  },
  {
   "cell_type": "code",
   "execution_count": null,
   "metadata": {},
   "outputs": [],
   "source": []
  },
  {
   "cell_type": "code",
   "execution_count": null,
   "metadata": {},
   "outputs": [],
   "source": []
  },
  {
   "cell_type": "code",
   "execution_count": null,
   "metadata": {},
   "outputs": [],
   "source": []
  },
  {
   "cell_type": "code",
   "execution_count": null,
   "metadata": {},
   "outputs": [],
   "source": []
  },
  {
   "cell_type": "code",
   "execution_count": null,
   "metadata": {},
   "outputs": [],
   "source": []
  },
  {
   "cell_type": "code",
   "execution_count": null,
   "metadata": {},
   "outputs": [],
   "source": []
  },
  {
   "cell_type": "code",
   "execution_count": null,
   "metadata": {},
   "outputs": [],
   "source": []
  }
 ],
 "metadata": {
  "kernelspec": {
   "display_name": "Python 3",
   "language": "python",
   "name": "python3"
  },
  "language_info": {
   "codemirror_mode": {
    "name": "ipython",
    "version": 3
   },
   "file_extension": ".py",
   "mimetype": "text/x-python",
   "name": "python",
   "nbconvert_exporter": "python",
   "pygments_lexer": "ipython3",
   "version": "3.8.3"
  }
 },
 "nbformat": 4,
 "nbformat_minor": 4
}
