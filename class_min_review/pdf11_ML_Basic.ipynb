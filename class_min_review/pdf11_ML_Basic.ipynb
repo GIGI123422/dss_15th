{
 "cells": [
  {
   "cell_type": "markdown",
   "metadata": {},
   "source": [
    "### 4 머신러닝의 일반적 절차에 대해\n",
    "- 4.1 Accuracy가 높다고? 믿을수 있을까?\n",
    "    - ACC가 높게 나왔다고 해도 좀 더 들여다 볼 필요가 당연히 있다.\n",
    "    - 이 결과가 내가 가진 데이터를 벗어나서 일반화 할수 있는 걸까?\n",
    "    - 어차피 얻은 데이터는 유한하고 내가 얻은 데이터를 이용해서 일반화를 추구하게 된다.\n",
    "    - 복잡한 경계면은 모델의 성능을 결국 나쁘게 만든다.\n",
    "- 4.2 지도 학습\n",
    "    - 학습 대상이 되는 데이터에 정답(label)을 붙여서 학습 시키고\n",
    "    - 모델을 얻어서 완전히 새로운 데이터에 모델을 사용해서 답을 얻고자 하는 것\n",
    "- 4.3 데이터 분리(훈련/ 검증/ 평가)\n",
    "    - 확보한 데이터중 모델에 학습에 사용하지 않고 빼둔 데이터를 가지고 모델을 테스트한다.\n",
    "    - Original Data = Training Data & Testing Data\n",
    "    - 여기서 한단계 더나눔 : Training Data를 Training & Validation 으로 쪼갬\n",
    "        - Original Data = Training & Validation & Testing Data"
   ]
  },
  {
   "cell_type": "markdown",
   "metadata": {},
   "source": [
    "#### 4.4 새롭게 다시 시작"
   ]
  },
  {
   "cell_type": "code",
   "execution_count": 1,
   "metadata": {},
   "outputs": [],
   "source": [
    "from sklearn.datasets import load_iris\n",
    "import pandas as pd\n",
    "\n",
    "iris = load_iris()"
   ]
  },
  {
   "cell_type": "markdown",
   "metadata": {},
   "source": [
    "#### 4.5 데이터를 훈련/ 테스트로 분리\n",
    "- train_test_split(features, labels, test_size=0.2, random_state=13)\n",
    "    - features = 사용할 데이터\n",
    "    - labels = 적혀있는 정답\n",
    "    - test_size =\n",
    "    - random_state"
   ]
  },
  {
   "cell_type": "code",
   "execution_count": 2,
   "metadata": {},
   "outputs": [],
   "source": [
    "from sklearn.model_selection import train_test_split\n",
    "\n",
    "features = iris.data[:, 2:]\n",
    "labels = iris.target\n",
    "\n",
    "X_train, X_test, y_train, y_test = train_test_split(features, labels, \n",
    "                                                    test_size=0.2, \n",
    "                                                    random_state=13)"
   ]
  },
  {
   "cell_type": "code",
   "execution_count": 3,
   "metadata": {},
   "outputs": [
    {
     "data": {
      "text/plain": [
       "(150,\n",
       " numpy.ndarray,\n",
       " array([0, 0, 0, 0, 0, 0, 0, 0, 0, 0, 0, 0, 0, 0, 0, 0, 0, 0, 0, 0, 0, 0,\n",
       "        0, 0, 0, 0, 0, 0, 0, 0, 0, 0, 0, 0, 0, 0, 0, 0, 0, 0, 0, 0, 0, 0,\n",
       "        0, 0, 0, 0, 0, 0, 1, 1, 1, 1, 1, 1, 1, 1, 1, 1, 1, 1, 1, 1, 1, 1,\n",
       "        1, 1, 1, 1, 1, 1, 1, 1, 1, 1, 1, 1, 1, 1, 1, 1, 1, 1, 1, 1, 1, 1,\n",
       "        1, 1, 1, 1, 1, 1, 1, 1, 1, 1, 1, 1, 2, 2, 2, 2, 2, 2, 2, 2, 2, 2,\n",
       "        2, 2, 2, 2, 2, 2, 2, 2, 2, 2, 2, 2, 2, 2, 2, 2, 2, 2, 2, 2, 2, 2,\n",
       "        2, 2, 2, 2, 2, 2, 2, 2, 2, 2, 2, 2, 2, 2, 2, 2, 2, 2]))"
      ]
     },
     "execution_count": 3,
     "metadata": {},
     "output_type": "execute_result"
    }
   ],
   "source": [
    "len(labels), type(labels), labels"
   ]
  },
  {
   "cell_type": "code",
   "execution_count": 4,
   "metadata": {},
   "outputs": [
    {
     "data": {
      "text/plain": [
       "(120,\n",
       " 30,\n",
       " numpy.ndarray,\n",
       " array([2, 0, 0, 2, 2, 1, 0, 1, 1, 0, 0, 2, 1, 2, 2, 2, 0, 1, 0, 1, 0, 1,\n",
       "        1, 2, 0, 1, 0, 1, 2, 2, 0, 0, 2, 1, 2, 2, 0, 2, 1, 1, 0, 0, 0, 1,\n",
       "        1, 1, 2, 2, 1, 2, 2, 2, 0, 2, 1, 0, 1, 2, 1, 0, 0, 1, 1, 0, 1, 2,\n",
       "        0, 2, 1, 0, 2, 0, 0, 0, 1, 0, 1, 1, 2, 2, 0, 1, 0, 1, 1, 2, 0, 2,\n",
       "        0, 1, 0, 2, 2, 0, 1, 1, 2, 1, 2, 2, 0, 0, 1, 1, 0, 0, 0, 0, 2, 2,\n",
       "        0, 1, 1, 1, 2, 2, 1, 0, 1, 1]),\n",
       " array([1, 1, 0, 2, 2, 0, 2, 2, 0, 1, 2, 2, 1, 0, 2, 0, 2, 2, 1, 0, 1, 0,\n",
       "        0, 2, 1, 2, 0, 2, 1, 2]))"
      ]
     },
     "execution_count": 4,
     "metadata": {},
     "output_type": "execute_result"
    }
   ],
   "source": [
    "len(y_train), len(y_test), type(y_train), y_train, y_test"
   ]
  },
  {
   "cell_type": "code",
   "execution_count": 5,
   "metadata": {
    "scrolled": true
   },
   "outputs": [
    {
     "data": {
      "text/plain": [
       "(150,\n",
       " array([[1.4, 0.2],\n",
       "        [1.4, 0.2],\n",
       "        [1.3, 0.2],\n",
       "        [1.5, 0.2],\n",
       "        [1.4, 0.2],\n",
       "        [1.7, 0.4],\n",
       "        [1.4, 0.3],\n",
       "        [1.5, 0.2],\n",
       "        [1.4, 0.2],\n",
       "        [1.5, 0.1],\n",
       "        [1.5, 0.2],\n",
       "        [1.6, 0.2],\n",
       "        [1.4, 0.1],\n",
       "        [1.1, 0.1],\n",
       "        [1.2, 0.2],\n",
       "        [1.5, 0.4],\n",
       "        [1.3, 0.4],\n",
       "        [1.4, 0.3],\n",
       "        [1.7, 0.3],\n",
       "        [1.5, 0.3],\n",
       "        [1.7, 0.2],\n",
       "        [1.5, 0.4],\n",
       "        [1. , 0.2],\n",
       "        [1.7, 0.5],\n",
       "        [1.9, 0.2],\n",
       "        [1.6, 0.2],\n",
       "        [1.6, 0.4],\n",
       "        [1.5, 0.2],\n",
       "        [1.4, 0.2],\n",
       "        [1.6, 0.2],\n",
       "        [1.6, 0.2],\n",
       "        [1.5, 0.4],\n",
       "        [1.5, 0.1],\n",
       "        [1.4, 0.2],\n",
       "        [1.5, 0.2],\n",
       "        [1.2, 0.2],\n",
       "        [1.3, 0.2],\n",
       "        [1.4, 0.1],\n",
       "        [1.3, 0.2],\n",
       "        [1.5, 0.2],\n",
       "        [1.3, 0.3],\n",
       "        [1.3, 0.3],\n",
       "        [1.3, 0.2],\n",
       "        [1.6, 0.6],\n",
       "        [1.9, 0.4],\n",
       "        [1.4, 0.3],\n",
       "        [1.6, 0.2],\n",
       "        [1.4, 0.2],\n",
       "        [1.5, 0.2],\n",
       "        [1.4, 0.2],\n",
       "        [4.7, 1.4],\n",
       "        [4.5, 1.5],\n",
       "        [4.9, 1.5],\n",
       "        [4. , 1.3],\n",
       "        [4.6, 1.5],\n",
       "        [4.5, 1.3],\n",
       "        [4.7, 1.6],\n",
       "        [3.3, 1. ],\n",
       "        [4.6, 1.3],\n",
       "        [3.9, 1.4],\n",
       "        [3.5, 1. ],\n",
       "        [4.2, 1.5],\n",
       "        [4. , 1. ],\n",
       "        [4.7, 1.4],\n",
       "        [3.6, 1.3],\n",
       "        [4.4, 1.4],\n",
       "        [4.5, 1.5],\n",
       "        [4.1, 1. ],\n",
       "        [4.5, 1.5],\n",
       "        [3.9, 1.1],\n",
       "        [4.8, 1.8],\n",
       "        [4. , 1.3],\n",
       "        [4.9, 1.5],\n",
       "        [4.7, 1.2],\n",
       "        [4.3, 1.3],\n",
       "        [4.4, 1.4],\n",
       "        [4.8, 1.4],\n",
       "        [5. , 1.7],\n",
       "        [4.5, 1.5],\n",
       "        [3.5, 1. ],\n",
       "        [3.8, 1.1],\n",
       "        [3.7, 1. ],\n",
       "        [3.9, 1.2],\n",
       "        [5.1, 1.6],\n",
       "        [4.5, 1.5],\n",
       "        [4.5, 1.6],\n",
       "        [4.7, 1.5],\n",
       "        [4.4, 1.3],\n",
       "        [4.1, 1.3],\n",
       "        [4. , 1.3],\n",
       "        [4.4, 1.2],\n",
       "        [4.6, 1.4],\n",
       "        [4. , 1.2],\n",
       "        [3.3, 1. ],\n",
       "        [4.2, 1.3],\n",
       "        [4.2, 1.2],\n",
       "        [4.2, 1.3],\n",
       "        [4.3, 1.3],\n",
       "        [3. , 1.1],\n",
       "        [4.1, 1.3],\n",
       "        [6. , 2.5],\n",
       "        [5.1, 1.9],\n",
       "        [5.9, 2.1],\n",
       "        [5.6, 1.8],\n",
       "        [5.8, 2.2],\n",
       "        [6.6, 2.1],\n",
       "        [4.5, 1.7],\n",
       "        [6.3, 1.8],\n",
       "        [5.8, 1.8],\n",
       "        [6.1, 2.5],\n",
       "        [5.1, 2. ],\n",
       "        [5.3, 1.9],\n",
       "        [5.5, 2.1],\n",
       "        [5. , 2. ],\n",
       "        [5.1, 2.4],\n",
       "        [5.3, 2.3],\n",
       "        [5.5, 1.8],\n",
       "        [6.7, 2.2],\n",
       "        [6.9, 2.3],\n",
       "        [5. , 1.5],\n",
       "        [5.7, 2.3],\n",
       "        [4.9, 2. ],\n",
       "        [6.7, 2. ],\n",
       "        [4.9, 1.8],\n",
       "        [5.7, 2.1],\n",
       "        [6. , 1.8],\n",
       "        [4.8, 1.8],\n",
       "        [4.9, 1.8],\n",
       "        [5.6, 2.1],\n",
       "        [5.8, 1.6],\n",
       "        [6.1, 1.9],\n",
       "        [6.4, 2. ],\n",
       "        [5.6, 2.2],\n",
       "        [5.1, 1.5],\n",
       "        [5.6, 1.4],\n",
       "        [6.1, 2.3],\n",
       "        [5.6, 2.4],\n",
       "        [5.5, 1.8],\n",
       "        [4.8, 1.8],\n",
       "        [5.4, 2.1],\n",
       "        [5.6, 2.4],\n",
       "        [5.1, 2.3],\n",
       "        [5.1, 1.9],\n",
       "        [5.9, 2.3],\n",
       "        [5.7, 2.5],\n",
       "        [5.2, 2.3],\n",
       "        [5. , 1.9],\n",
       "        [5.2, 2. ],\n",
       "        [5.4, 2.3],\n",
       "        [5.1, 1.8]]))"
      ]
     },
     "execution_count": 5,
     "metadata": {},
     "output_type": "execute_result"
    }
   ],
   "source": [
    "len(features), features "
   ]
  },
  {
   "cell_type": "code",
   "execution_count": 6,
   "metadata": {},
   "outputs": [
    {
     "data": {
      "text/plain": [
       "(120,\n",
       " 30,\n",
       " array([[5.5, 1.8],\n",
       "        [1.5, 0.1],\n",
       "        [1.5, 0.4],\n",
       "        [5.1, 2.3],\n",
       "        [5. , 1.9],\n",
       "        [4.3, 1.3],\n",
       "        [1.7, 0.5],\n",
       "        [4.5, 1.5],\n",
       "        [4.5, 1.5],\n",
       "        [1.4, 0.1],\n",
       "        [1.5, 0.2],\n",
       "        [5.6, 1.4],\n",
       "        [4.2, 1.3],\n",
       "        [6. , 1.8],\n",
       "        [5.1, 2. ],\n",
       "        [6.1, 2.5],\n",
       "        [1.5, 0.2],\n",
       "        [3.3, 1. ],\n",
       "        [1.3, 0.2],\n",
       "        [4.6, 1.5],\n",
       "        [1.7, 0.3],\n",
       "        [4.2, 1.2],\n",
       "        [4.8, 1.8],\n",
       "        [5.9, 2.3],\n",
       "        [1.5, 0.1],\n",
       "        [3.8, 1.1],\n",
       "        [1.6, 0.2],\n",
       "        [3.9, 1.1],\n",
       "        [5.3, 1.9],\n",
       "        [6. , 2.5],\n",
       "        [1.5, 0.2],\n",
       "        [1.6, 0.6],\n",
       "        [5.6, 1.8],\n",
       "        [4.7, 1.6],\n",
       "        [6.3, 1.8],\n",
       "        [5.5, 1.8],\n",
       "        [1.4, 0.2],\n",
       "        [4.5, 1.7],\n",
       "        [3.5, 1. ],\n",
       "        [5. , 1.7],\n",
       "        [1.5, 0.2],\n",
       "        [1.7, 0.2],\n",
       "        [1.2, 0.2],\n",
       "        [4.7, 1.4],\n",
       "        [3.3, 1. ],\n",
       "        [4.1, 1. ],\n",
       "        [5.8, 1.8],\n",
       "        [6.6, 2.1],\n",
       "        [4. , 1.3],\n",
       "        [5.1, 1.8],\n",
       "        [4.9, 2. ],\n",
       "        [5. , 1.5],\n",
       "        [1.6, 0.4],\n",
       "        [5.2, 2. ],\n",
       "        [4.4, 1.4],\n",
       "        [1.6, 0.2],\n",
       "        [4. , 1.2],\n",
       "        [5.9, 2.1],\n",
       "        [4.1, 1.3],\n",
       "        [1.1, 0.1],\n",
       "        [1.4, 0.1],\n",
       "        [4.9, 1.5],\n",
       "        [3.9, 1.4],\n",
       "        [1.4, 0.2],\n",
       "        [3.7, 1. ],\n",
       "        [5.6, 2.4],\n",
       "        [1.3, 0.3],\n",
       "        [5.6, 2.1],\n",
       "        [4. , 1.3],\n",
       "        [1.4, 0.2],\n",
       "        [5.7, 2.1],\n",
       "        [1.4, 0.2],\n",
       "        [1.7, 0.4],\n",
       "        [1.5, 0.3],\n",
       "        [4.2, 1.3],\n",
       "        [1.3, 0.2],\n",
       "        [4. , 1. ],\n",
       "        [4.2, 1.5],\n",
       "        [6.4, 2. ],\n",
       "        [5.2, 2.3],\n",
       "        [1.5, 0.2],\n",
       "        [5.1, 1.6],\n",
       "        [1.3, 0.2],\n",
       "        [4.7, 1.5],\n",
       "        [3.5, 1. ],\n",
       "        [5.3, 2.3],\n",
       "        [1.4, 0.3],\n",
       "        [5.8, 1.6],\n",
       "        [1.5, 0.2],\n",
       "        [4. , 1.3],\n",
       "        [1.4, 0.3],\n",
       "        [5. , 2. ],\n",
       "        [5.6, 2.4],\n",
       "        [1.4, 0.2],\n",
       "        [4.5, 1.6],\n",
       "        [4.1, 1.3],\n",
       "        [6.7, 2. ],\n",
       "        [4.5, 1.5],\n",
       "        [5.7, 2.3],\n",
       "        [6.7, 2.2],\n",
       "        [1.5, 0.2],\n",
       "        [1. , 0.2],\n",
       "        [4.6, 1.3],\n",
       "        [4.8, 1.4],\n",
       "        [1.3, 0.3],\n",
       "        [1.6, 0.2],\n",
       "        [1.9, 0.2],\n",
       "        [1.4, 0.2],\n",
       "        [5.1, 1.9],\n",
       "        [5.4, 2.1],\n",
       "        [1.3, 0.2],\n",
       "        [4.9, 1.5],\n",
       "        [4.4, 1.4],\n",
       "        [4.7, 1.2],\n",
       "        [5.4, 2.3],\n",
       "        [4.8, 1.8],\n",
       "        [3. , 1.1],\n",
       "        [1.3, 0.4],\n",
       "        [4.3, 1.3],\n",
       "        [3.9, 1.2]]),\n",
       " array([[4.5, 1.3],\n",
       "        [3.6, 1.3],\n",
       "        [1.5, 0.4],\n",
       "        [5.1, 1.9],\n",
       "        [5.5, 2.1],\n",
       "        [1.4, 0.2],\n",
       "        [6.1, 2.3],\n",
       "        [4.9, 1.8],\n",
       "        [1.6, 0.2],\n",
       "        [4.4, 1.2],\n",
       "        [4.8, 1.8],\n",
       "        [5.1, 1.5],\n",
       "        [4.4, 1.3],\n",
       "        [1.9, 0.4],\n",
       "        [5.1, 2.4],\n",
       "        [1.6, 0.2],\n",
       "        [4.9, 1.8],\n",
       "        [5.8, 2.2],\n",
       "        [4.6, 1.4],\n",
       "        [1.4, 0.2],\n",
       "        [4.5, 1.5],\n",
       "        [1.5, 0.4],\n",
       "        [1.4, 0.3],\n",
       "        [6.1, 1.9],\n",
       "        [4.5, 1.5],\n",
       "        [5.7, 2.5],\n",
       "        [1.2, 0.2],\n",
       "        [6.9, 2.3],\n",
       "        [4.7, 1.4],\n",
       "        [5.6, 2.2]]))"
      ]
     },
     "execution_count": 6,
     "metadata": {},
     "output_type": "execute_result"
    }
   ],
   "source": [
    "len(X_train), len(X_test), X_train, X_test"
   ]
  },
  {
   "cell_type": "markdown",
   "metadata": {},
   "source": [
    "#### 4.6 훈련용/ 테스트용이 잘 분리 되었을까?"
   ]
  },
  {
   "cell_type": "code",
   "execution_count": 7,
   "metadata": {},
   "outputs": [
    {
     "data": {
      "text/plain": [
       "(array([0, 1, 2]), array([ 9,  8, 13], dtype=int64))"
      ]
     },
     "execution_count": 7,
     "metadata": {},
     "output_type": "execute_result"
    }
   ],
   "source": [
    "import numpy as np\n",
    "\n",
    "np.unique(y_test, return_counts=True)\n",
    "# y_test의 중복된 값을 찾고\n",
    "# return_counts 반복된 횟수도 같이 반환하라\n",
    "# (array([0, 1, 2]), array([ 9,  8, 13], dtype=int64))\n",
    "# 데이터가 각 클래스 별로 동일 비율이 아님"
   ]
  },
  {
   "cell_type": "markdown",
   "metadata": {},
   "source": [
    "#### 4.7 그럴때 쓰는 옵션 stratify"
   ]
  },
  {
   "cell_type": "code",
   "execution_count": 8,
   "metadata": {},
   "outputs": [],
   "source": [
    "from sklearn.model_selection import train_test_split\n",
    "\n",
    "features = iris.data[:, 2:]\n",
    "labels = iris.target\n",
    "\n",
    "X_train, X_test, y_train, y_test = train_test_split(features, labels, \n",
    "                                                    test_size=0.2,\n",
    "                                                    stratify=labels,\n",
    "                                                    random_state=13)\n",
    "# stratify : 각각의 class 비율(ratio)을 train / validation에 유지\n",
    "    # 쏠려서 분배되는 것을 방지\n",
    "    #훈련세트와 테스트세트의 클래스 레이블 비율을 입력데이터셋과 동일하게 만든다"
   ]
  },
  {
   "cell_type": "code",
   "execution_count": 9,
   "metadata": {},
   "outputs": [
    {
     "data": {
      "text/plain": [
       "(array([0, 1, 2]), array([10, 10, 10], dtype=int64))"
      ]
     },
     "execution_count": 9,
     "metadata": {},
     "output_type": "execute_result"
    }
   ],
   "source": [
    "import numpy as np\n",
    "np.unique(y_test, return_counts=True)"
   ]
  },
  {
   "cell_type": "markdown",
   "metadata": {},
   "source": [
    "#### 4.8 방금 전 처럼 다시 train 데이터만 대상으로 결정나무 모델을 만들어 보자"
   ]
  },
  {
   "cell_type": "code",
   "execution_count": 10,
   "metadata": {},
   "outputs": [
    {
     "data": {
      "text/plain": [
       "DecisionTreeClassifier(max_depth=2, random_state=13)"
      ]
     },
     "execution_count": 10,
     "metadata": {},
     "output_type": "execute_result"
    }
   ],
   "source": [
    "from sklearn.tree import DecisionTreeClassifier\n",
    "\n",
    "iris_tree = DecisionTreeClassifier(max_depth=2, random_state=13)\n",
    "iris_tree.fit(X_train, y_train)\n",
    "# 학습할 때 마다 일관성을 위해 random_state만 고정해서\n",
    "# 모델을 단순화 시키기 위해 max_depth"
   ]
  },
  {
   "cell_type": "markdown",
   "metadata": {},
   "source": [
    "#### 4.9 train 데이터에 대한 accuracy 확인"
   ]
  },
  {
   "cell_type": "code",
   "execution_count": 11,
   "metadata": {},
   "outputs": [
    {
     "data": {
      "text/plain": [
       "0.95"
      ]
     },
     "execution_count": 11,
     "metadata": {},
     "output_type": "execute_result"
    }
   ],
   "source": [
    "from sklearn.metrics import accuracy_score\n",
    "\n",
    "y_pred_tr = iris_tree.predict(X_train) # 데이터를 넣어서 예측하고\n",
    "accuracy_score(y_train, y_pred_tr) # 그 데이터 채점\n",
    "# OUT : 0.95\n",
    "# iris data는 단순해서 acc가 높게 나타남"
   ]
  },
  {
   "cell_type": "markdown",
   "metadata": {},
   "source": [
    "#### 4.10 모델 확인 & 4.11 iris 꽃을 분류하는 결정나무 모델"
   ]
  },
  {
   "cell_type": "code",
   "execution_count": 29,
   "metadata": {},
   "outputs": [
    {
     "data": {
      "text/plain": [
       "array(['setosa', 'versicolor', 'virginica'], dtype='<U10')"
      ]
     },
     "execution_count": 29,
     "metadata": {},
     "output_type": "execute_result"
    }
   ],
   "source": [
    "iris.target_names"
   ]
  },
  {
   "cell_type": "code",
   "execution_count": 12,
   "metadata": {},
   "outputs": [
    {
     "data": {
      "image/svg+xml": [
       "<?xml version=\"1.0\" encoding=\"UTF-8\" standalone=\"no\"?>\r\n",
       "<!DOCTYPE svg PUBLIC \"-//W3C//DTD SVG 1.1//EN\"\r\n",
       " \"http://www.w3.org/Graphics/SVG/1.1/DTD/svg11.dtd\">\r\n",
       "<!-- Generated by graphviz version 2.38.0 (20140413.2041)\r\n",
       " -->\r\n",
       "<!-- Title: Tree Pages: 1 -->\r\n",
       "<svg width=\"343pt\" height=\"314pt\"\r\n",
       " viewBox=\"0.00 0.00 343.00 314.00\" xmlns=\"http://www.w3.org/2000/svg\" xmlns:xlink=\"http://www.w3.org/1999/xlink\">\r\n",
       "<g id=\"graph0\" class=\"graph\" transform=\"scale(1 1) rotate(0) translate(4 310)\">\r\n",
       "<title>Tree</title>\r\n",
       "<polygon fill=\"white\" stroke=\"none\" points=\"-4,4 -4,-310 339,-310 339,4 -4,4\"/>\r\n",
       "<!-- 0 -->\r\n",
       "<g id=\"node1\" class=\"node\"><title>0</title>\r\n",
       "<path fill=\"#ffffff\" stroke=\"black\" d=\"M188,-306C188,-306 75,-306 75,-306 69,-306 63,-300 63,-294 63,-294 63,-235 63,-235 63,-229 69,-223 75,-223 75,-223 188,-223 188,-223 194,-223 200,-229 200,-235 200,-235 200,-294 200,-294 200,-300 194,-306 188,-306\"/>\r\n",
       "<text text-anchor=\"middle\" x=\"131.5\" y=\"-290.8\" font-family=\"Helvetica,sans-Serif\" font-size=\"14.00\">length &lt;= 2.45</text>\r\n",
       "<text text-anchor=\"middle\" x=\"131.5\" y=\"-275.8\" font-family=\"Helvetica,sans-Serif\" font-size=\"14.00\">gini = 0.667</text>\r\n",
       "<text text-anchor=\"middle\" x=\"131.5\" y=\"-260.8\" font-family=\"Helvetica,sans-Serif\" font-size=\"14.00\">samples = 120</text>\r\n",
       "<text text-anchor=\"middle\" x=\"131.5\" y=\"-245.8\" font-family=\"Helvetica,sans-Serif\" font-size=\"14.00\">value = [40, 40, 40]</text>\r\n",
       "<text text-anchor=\"middle\" x=\"131.5\" y=\"-230.8\" font-family=\"Helvetica,sans-Serif\" font-size=\"14.00\">class = setosa</text>\r\n",
       "</g>\r\n",
       "<!-- 1 -->\r\n",
       "<g id=\"node2\" class=\"node\"><title>1</title>\r\n",
       "<path fill=\"#e58139\" stroke=\"black\" d=\"M109,-179.5C109,-179.5 12,-179.5 12,-179.5 6,-179.5 0,-173.5 0,-167.5 0,-167.5 0,-123.5 0,-123.5 0,-117.5 6,-111.5 12,-111.5 12,-111.5 109,-111.5 109,-111.5 115,-111.5 121,-117.5 121,-123.5 121,-123.5 121,-167.5 121,-167.5 121,-173.5 115,-179.5 109,-179.5\"/>\r\n",
       "<text text-anchor=\"middle\" x=\"60.5\" y=\"-164.3\" font-family=\"Helvetica,sans-Serif\" font-size=\"14.00\">gini = 0.0</text>\r\n",
       "<text text-anchor=\"middle\" x=\"60.5\" y=\"-149.3\" font-family=\"Helvetica,sans-Serif\" font-size=\"14.00\">samples = 40</text>\r\n",
       "<text text-anchor=\"middle\" x=\"60.5\" y=\"-134.3\" font-family=\"Helvetica,sans-Serif\" font-size=\"14.00\">value = [40, 0, 0]</text>\r\n",
       "<text text-anchor=\"middle\" x=\"60.5\" y=\"-119.3\" font-family=\"Helvetica,sans-Serif\" font-size=\"14.00\">class = setosa</text>\r\n",
       "</g>\r\n",
       "<!-- 0&#45;&gt;1 -->\r\n",
       "<g id=\"edge1\" class=\"edge\"><title>0&#45;&gt;1</title>\r\n",
       "<path fill=\"none\" stroke=\"black\" d=\"M106.867,-222.907C100.104,-211.763 92.7583,-199.658 85.9503,-188.439\"/>\r\n",
       "<polygon fill=\"black\" stroke=\"black\" points=\"88.807,-186.4 80.6269,-179.667 82.8227,-190.032 88.807,-186.4\"/>\r\n",
       "<text text-anchor=\"middle\" x=\"74.6852\" y=\"-200.251\" font-family=\"Helvetica,sans-Serif\" font-size=\"14.00\">True</text>\r\n",
       "</g>\r\n",
       "<!-- 2 -->\r\n",
       "<g id=\"node3\" class=\"node\"><title>2</title>\r\n",
       "<path fill=\"#ffffff\" stroke=\"black\" d=\"M256,-187C256,-187 151,-187 151,-187 145,-187 139,-181 139,-175 139,-175 139,-116 139,-116 139,-110 145,-104 151,-104 151,-104 256,-104 256,-104 262,-104 268,-110 268,-116 268,-116 268,-175 268,-175 268,-181 262,-187 256,-187\"/>\r\n",
       "<text text-anchor=\"middle\" x=\"203.5\" y=\"-171.8\" font-family=\"Helvetica,sans-Serif\" font-size=\"14.00\">length &lt;= 4.75</text>\r\n",
       "<text text-anchor=\"middle\" x=\"203.5\" y=\"-156.8\" font-family=\"Helvetica,sans-Serif\" font-size=\"14.00\">gini = 0.5</text>\r\n",
       "<text text-anchor=\"middle\" x=\"203.5\" y=\"-141.8\" font-family=\"Helvetica,sans-Serif\" font-size=\"14.00\">samples = 80</text>\r\n",
       "<text text-anchor=\"middle\" x=\"203.5\" y=\"-126.8\" font-family=\"Helvetica,sans-Serif\" font-size=\"14.00\">value = [0, 40, 40]</text>\r\n",
       "<text text-anchor=\"middle\" x=\"203.5\" y=\"-111.8\" font-family=\"Helvetica,sans-Serif\" font-size=\"14.00\">class = versicolor</text>\r\n",
       "</g>\r\n",
       "<!-- 0&#45;&gt;2 -->\r\n",
       "<g id=\"edge2\" class=\"edge\"><title>0&#45;&gt;2</title>\r\n",
       "<path fill=\"none\" stroke=\"black\" d=\"M156.48,-222.907C161.897,-214.105 167.683,-204.703 173.277,-195.612\"/>\r\n",
       "<polygon fill=\"black\" stroke=\"black\" points=\"176.304,-197.372 178.564,-187.021 170.342,-193.703 176.304,-197.372\"/>\r\n",
       "<text text-anchor=\"middle\" x=\"184.355\" y=\"-207.641\" font-family=\"Helvetica,sans-Serif\" font-size=\"14.00\">False</text>\r\n",
       "</g>\r\n",
       "<!-- 3 -->\r\n",
       "<g id=\"node4\" class=\"node\"><title>3</title>\r\n",
       "<path fill=\"#3fe685\" stroke=\"black\" d=\"M184,-68C184,-68 81,-68 81,-68 75,-68 69,-62 69,-56 69,-56 69,-12 69,-12 69,-6 75,-0 81,-0 81,-0 184,-0 184,-0 190,-0 196,-6 196,-12 196,-12 196,-56 196,-56 196,-62 190,-68 184,-68\"/>\r\n",
       "<text text-anchor=\"middle\" x=\"132.5\" y=\"-52.8\" font-family=\"Helvetica,sans-Serif\" font-size=\"14.00\">gini = 0.054</text>\r\n",
       "<text text-anchor=\"middle\" x=\"132.5\" y=\"-37.8\" font-family=\"Helvetica,sans-Serif\" font-size=\"14.00\">samples = 36</text>\r\n",
       "<text text-anchor=\"middle\" x=\"132.5\" y=\"-22.8\" font-family=\"Helvetica,sans-Serif\" font-size=\"14.00\">value = [0, 35, 1]</text>\r\n",
       "<text text-anchor=\"middle\" x=\"132.5\" y=\"-7.8\" font-family=\"Helvetica,sans-Serif\" font-size=\"14.00\">class = versicolor</text>\r\n",
       "</g>\r\n",
       "<!-- 2&#45;&gt;3 -->\r\n",
       "<g id=\"edge3\" class=\"edge\"><title>2&#45;&gt;3</title>\r\n",
       "<path fill=\"none\" stroke=\"black\" d=\"M177.062,-103.726C171.385,-94.9703 165.376,-85.7032 159.671,-76.9051\"/>\r\n",
       "<polygon fill=\"black\" stroke=\"black\" points=\"162.469,-74.786 154.092,-68.2996 156.595,-78.5943 162.469,-74.786\"/>\r\n",
       "</g>\r\n",
       "<!-- 4 -->\r\n",
       "<g id=\"node5\" class=\"node\"><title>4</title>\r\n",
       "<path fill=\"#9152e8\" stroke=\"black\" d=\"M323,-68C323,-68 226,-68 226,-68 220,-68 214,-62 214,-56 214,-56 214,-12 214,-12 214,-6 220,-0 226,-0 226,-0 323,-0 323,-0 329,-0 335,-6 335,-12 335,-12 335,-56 335,-56 335,-62 329,-68 323,-68\"/>\r\n",
       "<text text-anchor=\"middle\" x=\"274.5\" y=\"-52.8\" font-family=\"Helvetica,sans-Serif\" font-size=\"14.00\">gini = 0.201</text>\r\n",
       "<text text-anchor=\"middle\" x=\"274.5\" y=\"-37.8\" font-family=\"Helvetica,sans-Serif\" font-size=\"14.00\">samples = 44</text>\r\n",
       "<text text-anchor=\"middle\" x=\"274.5\" y=\"-22.8\" font-family=\"Helvetica,sans-Serif\" font-size=\"14.00\">value = [0, 5, 39]</text>\r\n",
       "<text text-anchor=\"middle\" x=\"274.5\" y=\"-7.8\" font-family=\"Helvetica,sans-Serif\" font-size=\"14.00\">class = virginica</text>\r\n",
       "</g>\r\n",
       "<!-- 2&#45;&gt;4 -->\r\n",
       "<g id=\"edge4\" class=\"edge\"><title>2&#45;&gt;4</title>\r\n",
       "<path fill=\"none\" stroke=\"black\" d=\"M229.938,-103.726C235.615,-94.9703 241.624,-85.7032 247.329,-76.9051\"/>\r\n",
       "<polygon fill=\"black\" stroke=\"black\" points=\"250.405,-78.5943 252.908,-68.2996 244.531,-74.786 250.405,-78.5943\"/>\r\n",
       "</g>\r\n",
       "</g>\r\n",
       "</svg>\r\n"
      ],
      "text/plain": [
       "<graphviz.files.Source at 0x229137bfe48>"
      ]
     },
     "execution_count": 12,
     "metadata": {},
     "output_type": "execute_result"
    }
   ],
   "source": [
    "from graphviz import Source\n",
    "from sklearn.tree import export_graphviz\n",
    "\n",
    "Source(export_graphviz(iris_tree, feature_names=['length', 'width'],\n",
    "                      class_names=iris.target_names,\n",
    "                      rounded=True, # 박스의 모양을 둥글게\n",
    "                        filled=True # class별 color 채우기\n",
    "                      ))"
   ]
  },
  {
   "cell_type": "markdown",
   "metadata": {},
   "source": [
    "#### 4.12 훈련 데이터에 대한 결정 경계를 확인해보자"
   ]
  },
  {
   "cell_type": "code",
   "execution_count": 13,
   "metadata": {},
   "outputs": [
    {
     "data": {
      "image/png": "[encoded data removed]",
      "text/plain": [
       "<Figure size 864x576 with 1 Axes>"
      ]
     },
     "metadata": {
      "image/png": {
       "height": 469,
       "width": 715
      },
      "needs_background": "light"
     },
     "output_type": "display_data"
    }
   ],
   "source": [
    "import matplotlib.pyplot as plt\n",
    "from mlxtend.plotting import plot_decision_regions\n",
    "\n",
    "plt.figure(figsize=(12,8))\n",
    "plot_decision_regions(X=X_train, y=y_train, clf=iris_tree, legend=2)\n",
    "plt.show()"
   ]
  },
  {
   "cell_type": "markdown",
   "metadata": {},
   "source": [
    "#### 4.13 테스트 데이터에 대한 accuracy"
   ]
  },
  {
   "cell_type": "code",
   "execution_count": 14,
   "metadata": {},
   "outputs": [
    {
     "data": {
      "text/plain": [
       "0.9666666666666667"
      ]
     },
     "execution_count": 14,
     "metadata": {},
     "output_type": "execute_result"
    }
   ],
   "source": [
    "y_pred_test = iris_tree.predict(X_test)\n",
    "accuracy_score(y_test, y_pred_test)"
   ]
  },
  {
   "cell_type": "markdown",
   "metadata": {},
   "source": [
    "#### 4.15 잔기술 하나 - 전체 데이터에서 관찰해보기"
   ]
  },
  {
   "cell_type": "code",
   "execution_count": 16,
   "metadata": {
    "scrolled": false
   },
   "outputs": [
    {
     "name": "stderr",
     "output_type": "stream",
     "text": [
      "c:\\programdata\\anaconda3\\envs\\fc15\\lib\\site-packages\\mlxtend\\plotting\\decision_regions.py:318: MatplotlibDeprecationWarning: Using a string of single character colors as a color sequence is deprecated since 3.2 and will be removed two minor releases later. Use an explicit list instead.\n",
      "  **scatter_highlight_kwargs)\n"
     ]
    },
    {
     "data": {
      "image/png": "[encoded data removed]",
      "text/plain": [
       "<Figure size 864x576 with 1 Axes>"
      ]
     },
     "metadata": {
      "image/png": {
       "height": 469,
       "width": 715
      },
      "needs_background": "light"
     },
     "output_type": "display_data"
    }
   ],
   "source": [
    "scatter_highlight_kwargs = {'s': 150, 'label': 'Test data', 'alpha': 0.9}\n",
    "scatter_kwargs = {'s': 150, 'edgecolor': None, 'alpha': 0.7}\n",
    "\n",
    "plt.figure(figsize=(12, 8))\n",
    "plot_decision_regions(X=features, y=labels,\n",
    "                     X_highlight=X_test, clf=iris_tree, legend=2,\n",
    "                     scatter_highlight_kwargs=scatter_highlight_kwargs,\n",
    "                     scatter_kwargs=scatter_kwargs,\n",
    "                     contourf_kwargs={'alpha': 0.2})\n",
    "plt.show()"
   ]
  },
  {
   "cell_type": "markdown",
   "metadata": {},
   "source": [
    "#### 4.17 feature를 네개...."
   ]
  },
  {
   "cell_type": "code",
   "execution_count": 21,
   "metadata": {},
   "outputs": [
    {
     "data": {
      "text/plain": [
       "['sepal length (cm)',\n",
       " 'sepal width (cm)',\n",
       " 'petal length (cm)',\n",
       " 'petal width (cm)']"
      ]
     },
     "execution_count": 21,
     "metadata": {},
     "output_type": "execute_result"
    }
   ],
   "source": [
    "iris.feature_names"
   ]
  },
  {
   "cell_type": "code",
   "execution_count": 18,
   "metadata": {},
   "outputs": [
    {
     "data": {
      "image/svg+xml": [
       "<?xml version=\"1.0\" encoding=\"UTF-8\" standalone=\"no\"?>\r\n",
       "<!DOCTYPE svg PUBLIC \"-//W3C//DTD SVG 1.1//EN\"\r\n",
       " \"http://www.w3.org/Graphics/SVG/1.1/DTD/svg11.dtd\">\r\n",
       "<!-- Generated by graphviz version 2.38.0 (20140413.2041)\r\n",
       " -->\r\n",
       "<!-- Title: Tree Pages: 1 -->\r\n",
       "<svg width=\"366pt\" height=\"314pt\"\r\n",
       " viewBox=\"0.00 0.00 366.00 314.00\" xmlns=\"http://www.w3.org/2000/svg\" xmlns:xlink=\"http://www.w3.org/1999/xlink\">\r\n",
       "<g id=\"graph0\" class=\"graph\" transform=\"scale(1 1) rotate(0) translate(4 310)\">\r\n",
       "<title>Tree</title>\r\n",
       "<polygon fill=\"white\" stroke=\"none\" points=\"-4,4 -4,-310 362,-310 362,4 -4,4\"/>\r\n",
       "<!-- 0 -->\r\n",
       "<g id=\"node1\" class=\"node\"><title>0</title>\r\n",
       "<path fill=\"#ffffff\" stroke=\"black\" d=\"M211.5,-306C211.5,-306 75.5,-306 75.5,-306 69.5,-306 63.5,-300 63.5,-294 63.5,-294 63.5,-235 63.5,-235 63.5,-229 69.5,-223 75.5,-223 75.5,-223 211.5,-223 211.5,-223 217.5,-223 223.5,-229 223.5,-235 223.5,-235 223.5,-294 223.5,-294 223.5,-300 217.5,-306 211.5,-306\"/>\r\n",
       "<text text-anchor=\"middle\" x=\"143.5\" y=\"-290.8\" font-family=\"Helvetica,sans-Serif\" font-size=\"14.00\">petal width (cm) &lt;= 0.8</text>\r\n",
       "<text text-anchor=\"middle\" x=\"143.5\" y=\"-275.8\" font-family=\"Helvetica,sans-Serif\" font-size=\"14.00\">gini = 0.667</text>\r\n",
       "<text text-anchor=\"middle\" x=\"143.5\" y=\"-260.8\" font-family=\"Helvetica,sans-Serif\" font-size=\"14.00\">samples = 120</text>\r\n",
       "<text text-anchor=\"middle\" x=\"143.5\" y=\"-245.8\" font-family=\"Helvetica,sans-Serif\" font-size=\"14.00\">value = [40, 40, 40]</text>\r\n",
       "<text text-anchor=\"middle\" x=\"143.5\" y=\"-230.8\" font-family=\"Helvetica,sans-Serif\" font-size=\"14.00\">class = setosa</text>\r\n",
       "</g>\r\n",
       "<!-- 1 -->\r\n",
       "<g id=\"node2\" class=\"node\"><title>1</title>\r\n",
       "<path fill=\"#e58139\" stroke=\"black\" d=\"M109,-179.5C109,-179.5 12,-179.5 12,-179.5 6,-179.5 0,-173.5 0,-167.5 0,-167.5 0,-123.5 0,-123.5 0,-117.5 6,-111.5 12,-111.5 12,-111.5 109,-111.5 109,-111.5 115,-111.5 121,-117.5 121,-123.5 121,-123.5 121,-167.5 121,-167.5 121,-173.5 115,-179.5 109,-179.5\"/>\r\n",
       "<text text-anchor=\"middle\" x=\"60.5\" y=\"-164.3\" font-family=\"Helvetica,sans-Serif\" font-size=\"14.00\">gini = 0.0</text>\r\n",
       "<text text-anchor=\"middle\" x=\"60.5\" y=\"-149.3\" font-family=\"Helvetica,sans-Serif\" font-size=\"14.00\">samples = 40</text>\r\n",
       "<text text-anchor=\"middle\" x=\"60.5\" y=\"-134.3\" font-family=\"Helvetica,sans-Serif\" font-size=\"14.00\">value = [40, 0, 0]</text>\r\n",
       "<text text-anchor=\"middle\" x=\"60.5\" y=\"-119.3\" font-family=\"Helvetica,sans-Serif\" font-size=\"14.00\">class = setosa</text>\r\n",
       "</g>\r\n",
       "<!-- 0&#45;&gt;1 -->\r\n",
       "<g id=\"edge1\" class=\"edge\"><title>0&#45;&gt;1</title>\r\n",
       "<path fill=\"none\" stroke=\"black\" d=\"M114.704,-222.907C106.719,-211.652 98.0403,-199.418 90.0155,-188.106\"/>\r\n",
       "<polygon fill=\"black\" stroke=\"black\" points=\"92.6693,-185.798 84.0287,-179.667 86.96,-189.848 92.6693,-185.798\"/>\r\n",
       "<text text-anchor=\"middle\" x=\"79.8388\" y=\"-200.613\" font-family=\"Helvetica,sans-Serif\" font-size=\"14.00\">True</text>\r\n",
       "</g>\r\n",
       "<!-- 2 -->\r\n",
       "<g id=\"node3\" class=\"node\"><title>2</title>\r\n",
       "<path fill=\"#ffffff\" stroke=\"black\" d=\"M301.5,-187C301.5,-187 151.5,-187 151.5,-187 145.5,-187 139.5,-181 139.5,-175 139.5,-175 139.5,-116 139.5,-116 139.5,-110 145.5,-104 151.5,-104 151.5,-104 301.5,-104 301.5,-104 307.5,-104 313.5,-110 313.5,-116 313.5,-116 313.5,-175 313.5,-175 313.5,-181 307.5,-187 301.5,-187\"/>\r\n",
       "<text text-anchor=\"middle\" x=\"226.5\" y=\"-171.8\" font-family=\"Helvetica,sans-Serif\" font-size=\"14.00\">petal length (cm) &lt;= 4.75</text>\r\n",
       "<text text-anchor=\"middle\" x=\"226.5\" y=\"-156.8\" font-family=\"Helvetica,sans-Serif\" font-size=\"14.00\">gini = 0.5</text>\r\n",
       "<text text-anchor=\"middle\" x=\"226.5\" y=\"-141.8\" font-family=\"Helvetica,sans-Serif\" font-size=\"14.00\">samples = 80</text>\r\n",
       "<text text-anchor=\"middle\" x=\"226.5\" y=\"-126.8\" font-family=\"Helvetica,sans-Serif\" font-size=\"14.00\">value = [0, 40, 40]</text>\r\n",
       "<text text-anchor=\"middle\" x=\"226.5\" y=\"-111.8\" font-family=\"Helvetica,sans-Serif\" font-size=\"14.00\">class = versicolor</text>\r\n",
       "</g>\r\n",
       "<!-- 0&#45;&gt;2 -->\r\n",
       "<g id=\"edge2\" class=\"edge\"><title>0&#45;&gt;2</title>\r\n",
       "<path fill=\"none\" stroke=\"black\" d=\"M172.296,-222.907C178.606,-214.014 185.348,-204.509 191.859,-195.331\"/>\r\n",
       "<polygon fill=\"black\" stroke=\"black\" points=\"194.823,-197.202 197.754,-187.021 189.114,-193.152 194.823,-197.202\"/>\r\n",
       "<text text-anchor=\"middle\" x=\"201.944\" y=\"-207.967\" font-family=\"Helvetica,sans-Serif\" font-size=\"14.00\">False</text>\r\n",
       "</g>\r\n",
       "<!-- 3 -->\r\n",
       "<g id=\"node4\" class=\"node\"><title>3</title>\r\n",
       "<path fill=\"#3fe685\" stroke=\"black\" d=\"M207,-68C207,-68 104,-68 104,-68 98,-68 92,-62 92,-56 92,-56 92,-12 92,-12 92,-6 98,-0 104,-0 104,-0 207,-0 207,-0 213,-0 219,-6 219,-12 219,-12 219,-56 219,-56 219,-62 213,-68 207,-68\"/>\r\n",
       "<text text-anchor=\"middle\" x=\"155.5\" y=\"-52.8\" font-family=\"Helvetica,sans-Serif\" font-size=\"14.00\">gini = 0.054</text>\r\n",
       "<text text-anchor=\"middle\" x=\"155.5\" y=\"-37.8\" font-family=\"Helvetica,sans-Serif\" font-size=\"14.00\">samples = 36</text>\r\n",
       "<text text-anchor=\"middle\" x=\"155.5\" y=\"-22.8\" font-family=\"Helvetica,sans-Serif\" font-size=\"14.00\">value = [0, 35, 1]</text>\r\n",
       "<text text-anchor=\"middle\" x=\"155.5\" y=\"-7.8\" font-family=\"Helvetica,sans-Serif\" font-size=\"14.00\">class = versicolor</text>\r\n",
       "</g>\r\n",
       "<!-- 2&#45;&gt;3 -->\r\n",
       "<g id=\"edge3\" class=\"edge\"><title>2&#45;&gt;3</title>\r\n",
       "<path fill=\"none\" stroke=\"black\" d=\"M200.062,-103.726C194.385,-94.9703 188.376,-85.7032 182.671,-76.9051\"/>\r\n",
       "<polygon fill=\"black\" stroke=\"black\" points=\"185.469,-74.786 177.092,-68.2996 179.595,-78.5943 185.469,-74.786\"/>\r\n",
       "</g>\r\n",
       "<!-- 4 -->\r\n",
       "<g id=\"node5\" class=\"node\"><title>4</title>\r\n",
       "<path fill=\"#9152e8\" stroke=\"black\" d=\"M346,-68C346,-68 249,-68 249,-68 243,-68 237,-62 237,-56 237,-56 237,-12 237,-12 237,-6 243,-0 249,-0 249,-0 346,-0 346,-0 352,-0 358,-6 358,-12 358,-12 358,-56 358,-56 358,-62 352,-68 346,-68\"/>\r\n",
       "<text text-anchor=\"middle\" x=\"297.5\" y=\"-52.8\" font-family=\"Helvetica,sans-Serif\" font-size=\"14.00\">gini = 0.201</text>\r\n",
       "<text text-anchor=\"middle\" x=\"297.5\" y=\"-37.8\" font-family=\"Helvetica,sans-Serif\" font-size=\"14.00\">samples = 44</text>\r\n",
       "<text text-anchor=\"middle\" x=\"297.5\" y=\"-22.8\" font-family=\"Helvetica,sans-Serif\" font-size=\"14.00\">value = [0, 5, 39]</text>\r\n",
       "<text text-anchor=\"middle\" x=\"297.5\" y=\"-7.8\" font-family=\"Helvetica,sans-Serif\" font-size=\"14.00\">class = virginica</text>\r\n",
       "</g>\r\n",
       "<!-- 2&#45;&gt;4 -->\r\n",
       "<g id=\"edge4\" class=\"edge\"><title>2&#45;&gt;4</title>\r\n",
       "<path fill=\"none\" stroke=\"black\" d=\"M252.938,-103.726C258.615,-94.9703 264.624,-85.7032 270.329,-76.9051\"/>\r\n",
       "<polygon fill=\"black\" stroke=\"black\" points=\"273.405,-78.5943 275.908,-68.2996 267.531,-74.786 273.405,-78.5943\"/>\r\n",
       "</g>\r\n",
       "</g>\r\n",
       "</svg>\r\n"
      ],
      "text/plain": [
       "<graphviz.files.Source at 0x229138d9908>"
      ]
     },
     "execution_count": 18,
     "metadata": {},
     "output_type": "execute_result"
    }
   ],
   "source": [
    "features = iris.data\n",
    "labels = iris.target\n",
    "\n",
    "X_train, X_test, y_train, y_test = train_test_split(features, labels,\n",
    "                                                   test_size=0.2, stratify=labels,\n",
    "                                                   random_state=13)\n",
    "iris_tree = DecisionTreeClassifier(max_depth=2, random_state=13)\n",
    "iris_tree.fit(X_train, y_train)\n",
    "\n",
    "Source(export_graphviz(iris_tree, feature_names=iris.feature_names,\n",
    "                      class_names=iris.target_names,\n",
    "                      rounded=True, filled=True))"
   ]
  },
  {
   "cell_type": "markdown",
   "metadata": {},
   "source": [
    "#### 4.19 모델을 사용하는 방법은?"
   ]
  },
  {
   "cell_type": "markdown",
   "metadata": {},
   "source": [
    "##### iris가 sepal과 petal의 length, width가 각각 [4.3, 2., 1.2, 1.0]이라면"
   ]
  },
  {
   "cell_type": "code",
   "execution_count": 22,
   "metadata": {},
   "outputs": [
    {
     "data": {
      "text/plain": [
       "array([[0.        , 0.97222222, 0.02777778]])"
      ]
     },
     "execution_count": 22,
     "metadata": {},
     "output_type": "execute_result"
    }
   ],
   "source": [
    "test_data = [[4.3, 2., 1.2, 1.0]]\n",
    "iris_tree.predict_proba(test_data) "
   ]
  },
  {
   "cell_type": "markdown",
   "metadata": {},
   "source": [
    "##### 각 클래스별 확률이 아니라 범주 값을 바로 알고 싶다면"
   ]
  },
  {
   "cell_type": "code",
   "execution_count": 23,
   "metadata": {},
   "outputs": [
    {
     "data": {
      "text/plain": [
       "array(['setosa', 'versicolor', 'virginica'], dtype='<U10')"
      ]
     },
     "execution_count": 23,
     "metadata": {},
     "output_type": "execute_result"
    }
   ],
   "source": [
    "iris.target_names"
   ]
  },
  {
   "cell_type": "code",
   "execution_count": 25,
   "metadata": {},
   "outputs": [
    {
     "data": {
      "text/plain": [
       "array(['versicolor'], dtype='<U10')"
      ]
     },
     "execution_count": 25,
     "metadata": {},
     "output_type": "execute_result"
    }
   ],
   "source": [
    "test_data = [[4.3, 2., 1.2, 1.0]]\n",
    "iris.target_names[iris_tree.predict(test_data)]"
   ]
  },
  {
   "cell_type": "markdown",
   "metadata": {},
   "source": [
    "#### 4.20 주요 특성 확인하기"
   ]
  },
  {
   "cell_type": "code",
   "execution_count": 26,
   "metadata": {},
   "outputs": [
    {
     "data": {
      "text/plain": [
       "array([0.        , 0.        , 0.42189781, 0.57810219])"
      ]
     },
     "execution_count": 26,
     "metadata": {},
     "output_type": "execute_result"
    }
   ],
   "source": [
    "iris_tree.feature_importances_"
   ]
  },
  {
   "cell_type": "code",
   "execution_count": 28,
   "metadata": {},
   "outputs": [
    {
     "data": {
      "text/plain": [
       "{'sepal length (cm)': 0.0,\n",
       " 'sepal width (cm)': 0.0,\n",
       " 'petal length (cm)': 0.421897810218978,\n",
       " 'petal width (cm)': 0.578102189781022}"
      ]
     },
     "execution_count": 28,
     "metadata": {},
     "output_type": "execute_result"
    }
   ],
   "source": [
    "iris_clf_model = dict(zip(iris.feature_names, iris_tree.feature_importances_))\n",
    "iris_clf_model"
   ]
  },
  {
   "cell_type": "markdown",
   "metadata": {},
   "source": [
    "#### 4.21 간단한 zip과 언패킹"
   ]
  },
  {
   "cell_type": "markdown",
   "metadata": {},
   "source": [
    "#### 4.21.1 리스트를 튜플로 zip"
   ]
  },
  {
   "cell_type": "code",
   "execution_count": 30,
   "metadata": {},
   "outputs": [],
   "source": [
    "list1 = ['a', 'b', 'c']\n",
    "list2 = [1, 2, 3]"
   ]
  },
  {
   "cell_type": "code",
   "execution_count": 31,
   "metadata": {},
   "outputs": [
    {
     "data": {
      "text/plain": [
       "[('a', 1), ('b', 2), ('c', 3)]"
      ]
     },
     "execution_count": 31,
     "metadata": {},
     "output_type": "execute_result"
    }
   ],
   "source": [
    "pairs = [pair for pair in zip(list1, list2)]\n",
    "pairs"
   ]
  },
  {
   "cell_type": "markdown",
   "metadata": {},
   "source": [
    "#### 4.21.2 튜플을 dict으로"
   ]
  },
  {
   "cell_type": "code",
   "execution_count": 32,
   "metadata": {
    "scrolled": true
   },
   "outputs": [
    {
     "data": {
      "text/plain": [
       "{'a': 1, 'b': 2, 'c': 3}"
      ]
     },
     "execution_count": 32,
     "metadata": {},
     "output_type": "execute_result"
    }
   ],
   "source": [
    "dict(pairs)"
   ]
  },
  {
   "cell_type": "markdown",
   "metadata": {},
   "source": [
    "#### 4.21.3 한번에~"
   ]
  },
  {
   "cell_type": "code",
   "execution_count": 33,
   "metadata": {
    "scrolled": true
   },
   "outputs": [
    {
     "data": {
      "text/plain": [
       "{'a': 1, 'b': 2, 'c': 3}"
      ]
     },
     "execution_count": 33,
     "metadata": {},
     "output_type": "execute_result"
    }
   ],
   "source": [
    "dict(zip(list1, list2))"
   ]
  },
  {
   "cell_type": "markdown",
   "metadata": {},
   "source": [
    "#### 4.21.4 unpacking 인자를 이용한 역변환"
   ]
  },
  {
   "cell_type": "code",
   "execution_count": 34,
   "metadata": {},
   "outputs": [
    {
     "name": "stdout",
     "output_type": "stream",
     "text": [
      "['a', 'b', 'c']\n",
      "[1, 2, 3]\n"
     ]
    }
   ],
   "source": [
    "a, b = zip(*pairs)\n",
    "\n",
    "print(list(a))\n",
    "print(list(b))"
   ]
  },
  {
   "cell_type": "code",
   "execution_count": null,
   "metadata": {},
   "outputs": [],
   "source": []
  },
  {
   "cell_type": "code",
   "execution_count": null,
   "metadata": {},
   "outputs": [],
   "source": []
  },
  {
   "cell_type": "code",
   "execution_count": null,
   "metadata": {},
   "outputs": [],
   "source": []
  },
  {
   "cell_type": "code",
   "execution_count": null,
   "metadata": {},
   "outputs": [],
   "source": []
  }
 ],
 "metadata": {
  "kernelspec": {
   "display_name": "Python 3",
   "language": "python",
   "name": "python3"
  },
  "language_info": {
   "codemirror_mode": {
    "name": "ipython",
    "version": 3
   },
   "file_extension": ".py",
   "mimetype": "text/x-python",
   "name": "python",
   "nbconvert_exporter": "python",
   "pygments_lexer": "ipython3",
   "version": "3.8.3"
  }
 },
 "nbformat": 4,
 "nbformat_minor": 4
}
