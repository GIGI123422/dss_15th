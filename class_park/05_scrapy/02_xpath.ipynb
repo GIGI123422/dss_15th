{
 "cells": [
  {
   "cell_type": "markdown",
   "metadata": {},
   "source": [
    "### xpath\n",
    "- html element를 선택하는 방법\n",
    "- scrapy에서는 기본적으로 html selector로 xpath를 사용. 확실히 효율적\n",
    "    - bs4, selenium에서는 상관없음\n",
    "- install scrapy\n",
    "    - pip install scrapy\n"
   ]
  },
  {
   "cell_type": "code",
   "execution_count": 2,
   "metadata": {},
   "outputs": [],
   "source": [
    "import scrapy\n",
    "import requests\n",
    "\n",
    "from scrapy.http import TextResponse"
   ]
  },
  {
   "cell_type": "code",
   "execution_count": 4,
   "metadata": {},
   "outputs": [
    {
     "data": {
      "text/plain": [
       "<Response [200]>"
      ]
     },
     "execution_count": 4,
     "metadata": {},
     "output_type": "execute_result"
    }
   ],
   "source": [
    "url = 'https://search.naver.com/search.naver?query=삼성전자'\n",
    "headers = {\n",
    "    'user-agent': 'Mozilla/5.0 (Windows NT 10.0; Win64; x64) AppleWebKit/537.36 (KHTML, like Gecko) Chrome/86.0.4240.183 Safari/537.36'\n",
    "}\n",
    "response = requests.get(url, headers = headers)\n",
    "response"
   ]
  },
  {
   "cell_type": "code",
   "execution_count": 6,
   "metadata": {},
   "outputs": [],
   "source": [
    "# dom = BeautifulSoup(response.content, 'html.parser')\n",
    "dom = TextResponse(response.url, body=response.text, encoding='utf-8')"
   ]
  },
  {
   "cell_type": "code",
   "execution_count": 13,
   "metadata": {},
   "outputs": [
    {
     "data": {
      "text/plain": [
       "[<Selector xpath='//*[@id=\"nx_right_related_keywords\"]/div/div[2]/ul/li[1]' data='<li class=\"item\"> <a class=\"keyword\" ...'>]"
      ]
     },
     "execution_count": 13,
     "metadata": {},
     "output_type": "execute_result"
    }
   ],
   "source": [
    "# //*[@id=\"nx_right_related_keywords\"]/div/div[2]/ul/li[1]\n",
    "dom.xpath('//*[@id=\"nx_right_related_keywords\"]/div/div[2]/ul/li[1]')"
   ]
  },
  {
   "cell_type": "markdown",
   "metadata": {},
   "source": [
    "####  xpath 문법\n",
    "- `//` : 가장 상위 엘리먼트\n",
    "- `*` : 모든 하위 엘리먼트에서 검색\n",
    "    - css selector : .data .data1 과 같은 의미\n",
    "- `/` : 한 단계 아래 하위 엘리먼트에서 검색\n",
    "    - css selector : .data > .data1 과 같은 의미\n",
    "- `.` : 현재 엘리먼트    \n",
    "- `[]` :\n",
    "    - `div[2]` : 2번째 div 태그 엘리먼트 선택\n",
    "    - `[@(attribute key) = (attribute value)]`: id, class 상관없이 @만 쓰면됨\n",
    "    - `[not (@class=\"data\")]`: data 클래스가 아닌 엘리먼트를 선택\n",
    "- `text()`: xpath 함수가 selenium에서는 작용 안함 **주의**    "
   ]
  },
  {
   "cell_type": "code",
   "execution_count": 11,
   "metadata": {},
   "outputs": [
    {
     "data": {
      "text/plain": [
       "10"
      ]
     },
     "execution_count": 11,
     "metadata": {},
     "output_type": "execute_result"
    }
   ],
   "source": [
    "elements = dom.xpath('//*[@id=\"nx_right_related_keywords\"]/div/div[2]/ul/li')\n",
    "len(elements)"
   ]
  },
  {
   "cell_type": "code",
   "execution_count": 18,
   "metadata": {},
   "outputs": [
    {
     "name": "stdout",
     "output_type": "stream",
     "text": [
      "삼성전자우\n",
      "삼성\n",
      "카카오\n",
      "삼성물산\n",
      "sk 하이닉스\n",
      "현대자동차\n",
      "현대차\n",
      "네이버\n",
      "삼성sdi\n",
      "lg화학\n"
     ]
    }
   ],
   "source": [
    "for element in elements:\n",
    "    keyword = element.xpath('./a/div/text()')[0].extract()\n",
    "    # `./a/div/text()` 로 데이터를 가져오면 list 형으로 반환하기때문에 [0]으로 받아줘야 str으로 가져옴\n",
    "    print(keyword)"
   ]
  },
  {
   "cell_type": "code",
   "execution_count": 19,
   "metadata": {},
   "outputs": [
    {
     "data": {
      "text/plain": [
       "[<Selector xpath='//*[@id=\"nx_right_related_keywords\"]/div/div[2]/ul/li/a/div/text()' data='삼성전자우'>,\n",
       " <Selector xpath='//*[@id=\"nx_right_related_keywords\"]/div/div[2]/ul/li/a/div/text()' data='삼성'>,\n",
       " <Selector xpath='//*[@id=\"nx_right_related_keywords\"]/div/div[2]/ul/li/a/div/text()' data='카카오'>,\n",
       " <Selector xpath='//*[@id=\"nx_right_related_keywords\"]/div/div[2]/ul/li/a/div/text()' data='삼성물산'>,\n",
       " <Selector xpath='//*[@id=\"nx_right_related_keywords\"]/div/div[2]/ul/li/a/div/text()' data='sk 하이닉스'>,\n",
       " <Selector xpath='//*[@id=\"nx_right_related_keywords\"]/div/div[2]/ul/li/a/div/text()' data='현대자동차'>,\n",
       " <Selector xpath='//*[@id=\"nx_right_related_keywords\"]/div/div[2]/ul/li/a/div/text()' data='현대차'>,\n",
       " <Selector xpath='//*[@id=\"nx_right_related_keywords\"]/div/div[2]/ul/li/a/div/text()' data='네이버'>,\n",
       " <Selector xpath='//*[@id=\"nx_right_related_keywords\"]/div/div[2]/ul/li/a/div/text()' data='삼성sdi'>,\n",
       " <Selector xpath='//*[@id=\"nx_right_related_keywords\"]/div/div[2]/ul/li/a/div/text()' data='lg화학'>]"
      ]
     },
     "execution_count": 19,
     "metadata": {},
     "output_type": "execute_result"
    }
   ],
   "source": [
    "# 하나의 xpath로 keywords 출력\n",
    "keywords = dom.xpath('//*[@id=\"nx_right_related_keywords\"]/div/div[2]/ul/li/a/div/text()')\n",
    "keywords"
   ]
  },
  {
   "cell_type": "code",
   "execution_count": 20,
   "metadata": {},
   "outputs": [
    {
     "data": {
      "text/plain": [
       "['삼성전자우',\n",
       " '삼성',\n",
       " '카카오',\n",
       " '삼성물산',\n",
       " 'sk 하이닉스',\n",
       " '현대자동차',\n",
       " '현대차',\n",
       " '네이버',\n",
       " '삼성sdi',\n",
       " 'lg화학']"
      ]
     },
     "execution_count": 20,
     "metadata": {},
     "output_type": "execute_result"
    }
   ],
   "source": [
    "keywords.extract()"
   ]
  },
  {
   "cell_type": "code",
   "execution_count": null,
   "metadata": {},
   "outputs": [],
   "source": []
  },
  {
   "cell_type": "code",
   "execution_count": null,
   "metadata": {},
   "outputs": [],
   "source": []
  },
  {
   "cell_type": "code",
   "execution_count": null,
   "metadata": {},
   "outputs": [],
   "source": []
  },
  {
   "cell_type": "code",
   "execution_count": null,
   "metadata": {},
   "outputs": [],
   "source": []
  }
 ],
 "metadata": {
  "kernelspec": {
   "display_name": "Python 3",
   "language": "python",
   "name": "python3"
  },
  "language_info": {
   "codemirror_mode": {
    "name": "ipython",
    "version": 3
   },
   "file_extension": ".py",
   "mimetype": "text/x-python",
   "name": "python",
   "nbconvert_exporter": "python",
   "pygments_lexer": "ipython3",
   "version": "3.8.3"
  }
 },
 "nbformat": 4,
 "nbformat_minor": 4
}
