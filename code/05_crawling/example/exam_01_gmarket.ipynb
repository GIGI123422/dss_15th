{
 "cells": [
  {
   "cell_type": "markdown",
   "metadata": {},
   "source": [
    "### Gmarket 베스트 상품 200개 크롤링\n",
    "- 상품명, 원가, 판매가\n",
    "- 썸네일 이미지"
   ]
  },
  {
   "cell_type": "code",
   "execution_count": 2,
   "metadata": {},
   "outputs": [],
   "source": [
    "import requests\n",
    "from bs4 import BeautifulSoup"
   ]
  },
  {
   "cell_type": "code",
   "execution_count": 3,
   "metadata": {},
   "outputs": [],
   "source": [
    "response = requests.get(\"http://corners.gmarket.co.kr/Bestsellers/\")\n",
    "dom = BeautifulSoup(response.text, \"html.parser\")"
   ]
  },
  {
   "cell_type": "code",
   "execution_count": 4,
   "metadata": {},
   "outputs": [
    {
     "data": {
      "text/plain": [
       "200"
      ]
     },
     "execution_count": 4,
     "metadata": {},
     "output_type": "execute_result"
    }
   ],
   "source": [
    "selector = \"#gBestWrap > div > div:nth-child(5) > div:nth-child(3) > ul > li\"\n",
    "elements = dom.select(selector)\n",
    "len(elements)"
   ]
  },
  {
   "cell_type": "code",
   "execution_count": 13,
   "metadata": {},
   "outputs": [],
   "source": [
    "# 코드, 제목, 링크, 원가, 판매가, 할인율"
   ]
  },
  {
   "cell_type": "code",
   "execution_count": 12,
   "metadata": {},
   "outputs": [
    {
     "data": {
      "text/plain": [
       "<li class=\"first\">\n",
       "<p class=\"no1\" id=\"no1\">1</p>\n",
       "<div class=\"thumb\">\n",
       "<a href=\"http://item.gmarket.co.kr/Item?goodscode=1919979542&amp;ver=637396528552680227\" onclick=\"pdsClickLog('200000680', 'Item', {'ASN': 1, 'goodsCode': '1919979542'});\"><img alt=\"강다니엘 1ST 아트북 - NEVER STANDING STILL\" class=\"lazy\" data-original=\"http://gdimg.gmarket.co.kr/1919979542/still/300\" height=\"210\" src=\"http://image.gmarket.co.kr/challenge/neo_image/no_image.gif\" width=\"210\"/></a>\n",
       "</div>\n",
       "<!--div class=\"goods-view\">\n",
       "\t\t\t\t\t\t\t\t\t<a href=\"http://minishop.gmarket.co.kr/applemusic\"><span class=\"view\">판매자 다른상품 보기</span>AppleMusic</a>\n",
       "\t\t\t\t\t\t\t\t</div-->\n",
       "<a class=\"itemname\" href=\"http://item.gmarket.co.kr/Item?goodscode=1919979542&amp;ver=637396528552680227\" onclick=\"pdsClickLog('200000680', 'Item', {'ASN': 1, 'goodsCode': '1919979542'});\">강다니엘 1ST 아트북 - NEVER STANDING STILL</a>\n",
       "<div class=\"item_price\">\n",
       "<div class=\"o-price\"></div>\n",
       "<div class=\"s-price\">\n",
       "<strong><span><span>45,000원</span></span></strong>\n",
       "</div>\n",
       "<div class=\"icon\">\n",
       "</div>\n",
       "</div>\n",
       "</li>"
      ]
     },
     "execution_count": 12,
     "metadata": {},
     "output_type": "execute_result"
    }
   ],
   "source": [
    "elements[0]"
   ]
  },
  {
   "cell_type": "code",
   "execution_count": 118,
   "metadata": {},
   "outputs": [
    {
     "data": {
      "text/plain": [
       "('45,000원', '45,000원')"
      ]
     },
     "execution_count": 118,
     "metadata": {},
     "output_type": "execute_result"
    }
   ],
   "source": [
    "elements[0].select_one('.s-price').text.strip().split(\"\\n\")[0], elements[0].select_one('div.s-price').text.strip() "
   ]
  },
  {
   "cell_type": "code",
   "execution_count": 105,
   "metadata": {},
   "outputs": [
    {
     "data": {
      "text/html": [
       "<div>\n",
       "<style scoped>\n",
       "    .dataframe tbody tr th:only-of-type {\n",
       "        vertical-align: middle;\n",
       "    }\n",
       "\n",
       "    .dataframe tbody tr th {\n",
       "        vertical-align: top;\n",
       "    }\n",
       "\n",
       "    .dataframe thead th {\n",
       "        text-align: right;\n",
       "    }\n",
       "</style>\n",
       "<table border=\"1\" class=\"dataframe\">\n",
       "  <thead>\n",
       "    <tr style=\"text-align: right;\">\n",
       "      <th></th>\n",
       "      <th>id</th>\n",
       "      <th>title</th>\n",
       "      <th>price</th>\n",
       "      <th>link</th>\n",
       "    </tr>\n",
       "  </thead>\n",
       "  <tbody>\n",
       "    <tr>\n",
       "      <th>0</th>\n",
       "      <td>1919979542</td>\n",
       "      <td>강다니엘 1ST 아트북 - NEVER STANDING STILL</td>\n",
       "      <td>45,000원</td>\n",
       "      <td>http://item.gmarket.co.kr/Item?goodscode=19199...</td>\n",
       "    </tr>\n",
       "    <tr>\n",
       "      <th>1</th>\n",
       "      <td>1911290865</td>\n",
       "      <td>[연세우유]방과후 초코우유 190mlx48입</td>\n",
       "      <td>13,900원</td>\n",
       "      <td>http://item.gmarket.co.kr/Item?goodscode=19112...</td>\n",
       "    </tr>\n",
       "    <tr>\n",
       "      <th>2</th>\n",
       "      <td>1554569037</td>\n",
       "      <td>[놀부부대찌개]놀부 욕심담은 부대찌개 4팩 + 라면사리 2개 세트</td>\n",
       "      <td>18,900원</td>\n",
       "      <td>http://item.gmarket.co.kr/Item?goodscode=15545...</td>\n",
       "    </tr>\n",
       "    <tr>\n",
       "      <th>3</th>\n",
       "      <td>1918908168</td>\n",
       "      <td>[앤듀]여성 구스 롱 다운 점퍼 O184DW010P</td>\n",
       "      <td>28,080원</td>\n",
       "      <td>http://item.gmarket.co.kr/Item?goodscode=19189...</td>\n",
       "    </tr>\n",
       "    <tr>\n",
       "      <th>4</th>\n",
       "      <td>1840147374</td>\n",
       "      <td>[한국투자증권](한국투자증권) 온라인 금융상품권 5만원권</td>\n",
       "      <td>50,000원</td>\n",
       "      <td>http://item.gmarket.co.kr/Item?goodscode=18401...</td>\n",
       "    </tr>\n",
       "    <tr>\n",
       "      <th>...</th>\n",
       "      <td>...</td>\n",
       "      <td>...</td>\n",
       "      <td>...</td>\n",
       "      <td>...</td>\n",
       "    </tr>\n",
       "    <tr>\n",
       "      <th>195</th>\n",
       "      <td>1719925155</td>\n",
       "      <td>특가 기모 짚업 이너자켓 가디건 스웨트 자켓D</td>\n",
       "      <td>15,400원</td>\n",
       "      <td>http://item.gmarket.co.kr/Item?goodscode=17199...</td>\n",
       "    </tr>\n",
       "    <tr>\n",
       "      <th>196</th>\n",
       "      <td>1682714054</td>\n",
       "      <td>[아몬드브리즈]아몬드브리즈 뉴트리 플러스 프로틴 190ML 24팩</td>\n",
       "      <td>15,900원</td>\n",
       "      <td>http://item.gmarket.co.kr/Item?goodscode=16827...</td>\n",
       "    </tr>\n",
       "    <tr>\n",
       "      <th>197</th>\n",
       "      <td>1820071305</td>\n",
       "      <td>[순수식품]흑 도라지 배 생강 청 스틱 100포 배도라지청</td>\n",
       "      <td>17,900원</td>\n",
       "      <td>http://item.gmarket.co.kr/Item?goodscode=18200...</td>\n",
       "    </tr>\n",
       "    <tr>\n",
       "      <th>198</th>\n",
       "      <td>1882228295</td>\n",
       "      <td>[흄]여성 다이아퀼팅 넥변형 숏 경량점퍼 FHOWCUE552</td>\n",
       "      <td>33,110원</td>\n",
       "      <td>http://item.gmarket.co.kr/Item?goodscode=18822...</td>\n",
       "    </tr>\n",
       "    <tr>\n",
       "      <th>199</th>\n",
       "      <td>632752278</td>\n",
       "      <td>[헤어플러스]최저가 헤어플러스 단백질 본드 앰플/샴푸/트리트먼트</td>\n",
       "      <td>14,800원</td>\n",
       "      <td>http://item.gmarket.co.kr/Item?goodscode=63275...</td>\n",
       "    </tr>\n",
       "  </tbody>\n",
       "</table>\n",
       "<p>200 rows × 4 columns</p>\n",
       "</div>"
      ],
      "text/plain": [
       "             id                                 title    price  \\\n",
       "0    1919979542   강다니엘 1ST 아트북 - NEVER STANDING STILL  45,000원   \n",
       "1    1911290865              [연세우유]방과후 초코우유 190mlx48입  13,900원   \n",
       "2    1554569037  [놀부부대찌개]놀부 욕심담은 부대찌개 4팩 + 라면사리 2개 세트  18,900원   \n",
       "3    1918908168          [앤듀]여성 구스 롱 다운 점퍼 O184DW010P  28,080원   \n",
       "4    1840147374       [한국투자증권](한국투자증권) 온라인 금융상품권 5만원권  50,000원   \n",
       "..          ...                                   ...      ...   \n",
       "195  1719925155             특가 기모 짚업 이너자켓 가디건 스웨트 자켓D  15,400원   \n",
       "196  1682714054  [아몬드브리즈]아몬드브리즈 뉴트리 플러스 프로틴 190ML 24팩  15,900원   \n",
       "197  1820071305      [순수식품]흑 도라지 배 생강 청 스틱 100포 배도라지청  17,900원   \n",
       "198  1882228295     [흄]여성 다이아퀼팅 넥변형 숏 경량점퍼 FHOWCUE552  33,110원   \n",
       "199   632752278   [헤어플러스]최저가 헤어플러스 단백질 본드 앰플/샴푸/트리트먼트  14,800원   \n",
       "\n",
       "                                                  link  \n",
       "0    http://item.gmarket.co.kr/Item?goodscode=19199...  \n",
       "1    http://item.gmarket.co.kr/Item?goodscode=19112...  \n",
       "2    http://item.gmarket.co.kr/Item?goodscode=15545...  \n",
       "3    http://item.gmarket.co.kr/Item?goodscode=19189...  \n",
       "4    http://item.gmarket.co.kr/Item?goodscode=18401...  \n",
       "..                                                 ...  \n",
       "195  http://item.gmarket.co.kr/Item?goodscode=17199...  \n",
       "196  http://item.gmarket.co.kr/Item?goodscode=16827...  \n",
       "197  http://item.gmarket.co.kr/Item?goodscode=18200...  \n",
       "198  http://item.gmarket.co.kr/Item?goodscode=18822...  \n",
       "199  http://item.gmarket.co.kr/Item?goodscode=63275...  \n",
       "\n",
       "[200 rows x 4 columns]"
      ]
     },
     "execution_count": 105,
     "metadata": {},
     "output_type": "execute_result"
    }
   ],
   "source": [
    "datas=[]\n",
    "for element in elements:\n",
    "    id_data = element.select_one(\"a\").get(\"onclick\")\n",
    "    datas.append({\n",
    "        #\"code\": re.findall(\"[0-9]{10,11}\", id_data),\n",
    "        \"id\": element.select_one('.itemname').get(\"href\").split(\"goodscode=\")[1].split(\"&\")[0],\n",
    "        \"title\": element.select_one(\".itemname\").text,\n",
    "        \"price\": element.select_one(\".s-price\").text.strip().split(\"\\n\")[0],\n",
    "        \"link\": element.select_one('.itemname').get(\"href\"),\n",
    "    })\n",
    "items_df = pd.DataFrame(datas)\n",
    "items_df"
   ]
  },
  {
   "cell_type": "code",
   "execution_count": 106,
   "metadata": {},
   "outputs": [],
   "source": [
    "# 이미지 다운 받기\n",
    "# http://gdimg.gmarket.co.kr/1912468760/still/300"
   ]
  },
  {
   "cell_type": "code",
   "execution_count": 113,
   "metadata": {},
   "outputs": [],
   "source": [
    "def download(title, link):\n",
    "    response = requests.get(link, stream=True)\n",
    "    path = \"datas/{}\".format(title)\n",
    "    with open(path, \"wb\") as f:\n",
    "        for chunk in response.iter_content(chunk_size=1024):\n",
    "            if chunk:\n",
    "                f.write(chunk)"
   ]
  },
  {
   "cell_type": "code",
   "execution_count": 117,
   "metadata": {},
   "outputs": [
    {
     "name": "stdout",
     "output_type": "stream",
     "text": [
      "http://gdimg.gmarket.co.kr/1919979542/still/300 0_강다니엘 1ST 아트북 - NEVER STANDING STILL.png\n",
      "http://gdimg.gmarket.co.kr/1911290865/still/300 1_[연세우유]방과후 초코우유 190mlx48입.png\n",
      "http://gdimg.gmarket.co.kr/1554569037/still/300 2_[놀부부대찌개]놀부 욕심담은 부대찌개 4팩 + 라면사리 2개 세트.png\n",
      "http://gdimg.gmarket.co.kr/1918908168/still/300 3_[앤듀]여성 구스 롱 다운 점퍼 O184DW010P.png\n",
      "http://gdimg.gmarket.co.kr/1840147374/still/300 4_[한국투자증권](한국투자증권) 온라인 금융상품권 5만원권.png\n",
      "http://gdimg.gmarket.co.kr/1914443565/still/300 5_[지프][지프] 신상 맨투맨  플리스  후드집업 초특가 할인전 .png\n",
      "http://gdimg.gmarket.co.kr/1107162855/still/300 6_[프롬산타]3+1 양말롱삭스수면 남자여자학생스니커즈덧신겨울.png\n",
      "http://gdimg.gmarket.co.kr/1916781556/still/300 7_마마손 칼갈이 4중(+가위갈이) 외 리빙50종 +사은품.png\n",
      "http://gdimg.gmarket.co.kr/1806575144/still/300 8_[바다원]바다원 국산 김자반 40gX12봉 돌자반 김가루 파래김.png\n",
      "http://gdimg.gmarket.co.kr/1799318845/still/300 9_[광천김]광천김x카카오프렌즈 전장김10봉 + 카카오장바구니 증정.png\n",
      "http://gdimg.gmarket.co.kr/1232319673/still/300 10_[팬콧키즈]아동 방한 샌들 실내화 부츠 유아 키즈 초등 털 겨울.png\n",
      "http://gdimg.gmarket.co.kr/1111459951/still/300 11_1+1 가을겨울 남자 여자 바지맛집팬츠상의트레이닝.png\n",
      "http://gdimg.gmarket.co.kr/1810952702/still/300 12_[샘표]양조간장 701 1.8L+501 500ml 특별기획.png\n",
      "http://gdimg.gmarket.co.kr/1873616352/still/300 13_[에뜨와]메이슨벤치롱파카(07M555001B).png\n",
      "http://gdimg.gmarket.co.kr/1740934130/still/300 14_[가쯔]PVC 논슬립 철제 바지걸이 20개 옷장 옷걸이 수납행거.png\n",
      "http://gdimg.gmarket.co.kr/1555983157/still/300 15_[청정원]스파게티파스타소스 600gx3 +면500g x2 or파우치증정.png\n",
      "http://gdimg.gmarket.co.kr/1923879894/still/300 16_미국산 소살치살 200g4팩 총800g(k).png\n",
      "http://gdimg.gmarket.co.kr/1829666586/still/300 17_나래굴림만두168g트레이  고기5봉렌지간식찐만두.png\n",
      "http://gdimg.gmarket.co.kr/1852299409/still/300 18_[아이더](신세계마산점)+아이더+ DMW18541 남여 공용 롱 다운 ULAN MAX (울란맥스)   GORE WS DOWN JACKET구스....png\n",
      "http://gdimg.gmarket.co.kr/1911069992/still/300 19_[연세우유]오트밀우유 190mlx48입.png\n",
      "http://gdimg.gmarket.co.kr/1756844529/still/300 20_[타미힐피거]타미힐피거 기모맨투맨 4종 택1_P067079012.png\n",
      "http://gdimg.gmarket.co.kr/1670609306/still/300 21_비니수 가을신상모음전.png\n",
      "http://gdimg.gmarket.co.kr/1884493259/still/300 22_[밀레][밀레] [임영웅이 선택한 ]남성 20FW 신상 엘티원 보아 플리스 자켓 MUPFJ421.png\n",
      "http://gdimg.gmarket.co.kr/1713773465/still/300 23_[숏핑] 담백한 맛  한밀푸드 명가토종순대국 650g x 10팩 세트(들깨가루 증정).png\n",
      "http://gdimg.gmarket.co.kr/1782779895/still/300 24_10월29일(목)부터 순차배송 키즈 원리셈 원리셈 세트TOP사고력 세트 단행본 세트.png\n",
      "http://gdimg.gmarket.co.kr/1481263644/still/300 25_코코블랑 가을신상 블라우스 원피스 가디건.png\n",
      "http://gdimg.gmarket.co.kr/1914672710/still/300 26_[아이더키즈](신세계경기점)[아이더키즈] 키즈다운자켓 큐큐(JMW19511) 오즌(JMW18515) 스테롤(JMW18507) 3종 할인.png\n",
      "http://gdimg.gmarket.co.kr/154043411/still/300 27_[아디다스]아디다스 나이키外 신상 트레이닝 팬츠긴바지 모음.png\n",
      "http://gdimg.gmarket.co.kr/1853380562/still/300 28_(메가스터디)큰별 쌤 최태성의 한국사 수호대 전8권.png\n",
      "http://gdimg.gmarket.co.kr/1863273447/still/300 29_겟레디 마스크 일회용 마스크 국내생산 100매.png\n",
      "http://gdimg.gmarket.co.kr/1485188425/still/300 30_[비버리힐스폴로클럽](1+1)비버리힐스 폴로클럽 멀티이펙트 올인원모이스쳐.png\n",
      "http://gdimg.gmarket.co.kr/1911247247/still/300 31_트임 니트 밴딩 팬츠 세트 투피스 (L0A019).png\n",
      "http://gdimg.gmarket.co.kr/1864626658/still/300 32_KF94 국산 순풍 마스크 50매 식약처인증 의약외품.png\n",
      "http://gdimg.gmarket.co.kr/1284344651/still/300 33_데이뮤즈 원피스트렌치코트자켓가디건청바지롱.png\n",
      "http://gdimg.gmarket.co.kr/1918840005/still/300 34_라브르베르 프랑스 주방세제750ml 3종세트+펌프증정.png\n",
      "http://gdimg.gmarket.co.kr/1913959232/still/300 35_어썸핏 여성 컴포트 기모 팬츠 4종.png\n",
      "http://gdimg.gmarket.co.kr/1917077260/still/300 36_[아이더][아이더] 스테롤 구스 남녀공용 롱 다운 자켓.png\n",
      "http://gdimg.gmarket.co.kr/1496880925/still/300 37_[카누]카누 미니 마일드 아메리카노 100T+20T : 기획상품~.png\n",
      "http://gdimg.gmarket.co.kr/1818182278/still/300 38_KF94 황사 마스크 대형 국산 개별 포장 100매 국산자재.png\n",
      "http://gdimg.gmarket.co.kr/1624900645/still/300 39_[이너리즘]심리스 스포츠 브라탑 4종기획세트노라인팬티 5종.png\n",
      "http://gdimg.gmarket.co.kr/1649456622/still/300 40_[올리비아로렌]FW 가격인하 코트다운자켓 외 최대22%쿠폰.png\n",
      "http://gdimg.gmarket.co.kr/779656750/still/300 41_쏭스타일 신상추가.빅사이즈.롱티.루즈핏.png\n",
      "http://gdimg.gmarket.co.kr/723865608/still/300 42_나영이네농장 맛좋은 감귤 7kg(2S~M)-로얄소과.png\n",
      "http://gdimg.gmarket.co.kr/1711339174/still/300 43_통통생굴 2kg  횟감용 통영산.png\n",
      "http://gdimg.gmarket.co.kr/1101177736/still/300 44_[맥심]맥심 화이트골드 커피믹스 400T : 쿠폰가 36900원~.png\n",
      "http://gdimg.gmarket.co.kr/1784362444/still/300 45_[안다르]20%+12% 안다르 역대급 가을특가 Vol.1.png\n",
      "http://gdimg.gmarket.co.kr/1910406565/still/300 46_[롯데제과]혼합빼빼로10갑SET (초코4갑+아몬드3갑+누드3갑).png\n",
      "http://gdimg.gmarket.co.kr/1321028651/still/300 47_NEW땡큐 화장지 (30롤 x 2팩)  3겹 두루마리 휴지.png\n",
      "http://gdimg.gmarket.co.kr/1806509264/still/300 48_홈쇼핑 남녀 가을겨울 패딩코트 니트가디건 기모바지.png\n",
      "http://gdimg.gmarket.co.kr/1913959294/still/300 49_어썸핏 남성 컴포트 기모 팬츠 3종.png\n",
      "http://gdimg.gmarket.co.kr/1920688523/still/300 50_폴스크릭 최종가 써모라이트 포켓티셔츠 7종SET(남).png\n",
      "http://gdimg.gmarket.co.kr/1615409666/still/300 51_에이블린가을신상원피스티셔츠맨투맨스커트.png\n",
      "http://gdimg.gmarket.co.kr/1791565717/still/300 52_[에버라스트]22%쿠폰 기모 긴팔티 트레이닝 상하복 바지 의류.png\n",
      "http://gdimg.gmarket.co.kr/1505774463/still/300 53_감바스 알 아히요(2인분).png\n",
      "http://gdimg.gmarket.co.kr/495818668/still/300 54_[젤리스푼]아동복아동의류아동경량패딩초등학생옷상하복.png\n",
      "http://gdimg.gmarket.co.kr/825499934/still/300 55_태송 새우볶음밥 300g x10봉.png\n",
      "http://gdimg.gmarket.co.kr/1920769089/still/300 56_하오빵 어린이 중국어(메인북+워크북+플래시CD) 세트 선택구매.png\n",
      "http://gdimg.gmarket.co.kr/1534849667/still/300 57_[일리윤]일리윤 세라마이드 아토 로션 528ML 2개.png\n",
      "http://gdimg.gmarket.co.kr/543168161/still/300 58_수퍼락스2L x 6개 살균 소독 청소.png\n",
      "http://gdimg.gmarket.co.kr/1896838088/still/300 59_룩픽싱 립타투 코랄입술 립스틱 지워지지않는.png\n",
      "http://gdimg.gmarket.co.kr/1677882918/still/300 60_12%쿠폰 빅사이즈 니트터틀넥 3종세트기모 데님팬츠.png\n",
      "http://gdimg.gmarket.co.kr/1853983273/still/300 61_[공식수입원 정품] NEW 피지오겔 DMT 페이셜 크림 방송패키지.png\n",
      "http://gdimg.gmarket.co.kr/1544164687/still/300 62_[나이키키즈]나이키리바이스키즈 주니어 FW 베스트 의류 50종.png\n",
      "http://gdimg.gmarket.co.kr/1813675035/still/300 63_[스케쳐스]스케쳐스 남녀 인기 신발 고워크  런닝화 모음전.png\n",
      "http://gdimg.gmarket.co.kr/1788351680/still/300 64_[뉴트리디데이]프리미엄 저분자 피쉬 콜라겐 타블렛 A++ 2병 6개월분.png\n",
      "http://gdimg.gmarket.co.kr/650715380/still/300 65_[과일나라]제주 자연 핸드크림 5종세트 녹차+마유+동백+유채+우유.png\n",
      "http://gdimg.gmarket.co.kr/1909418502/still/300 66_남자 여자 양털 후리스집업 뽀글이 후드 90kg초반까지.png\n",
      "http://gdimg.gmarket.co.kr/337946354/still/300 67_스위티아 후드티간절기신상기본티루즈핏롱티.png\n",
      "http://gdimg.gmarket.co.kr/1910976645/still/300 68_2020년 경북 햇 부사 사과 5kg(24-30과)가정용.png\n",
      "http://gdimg.gmarket.co.kr/189842449/still/300 69_요즘에트랜드위크12%기모 청바지슬랙스면팬츠3XL.png\n",
      "http://gdimg.gmarket.co.kr/1730901150/still/300 70_시공주니어-프레드릭과 친구들 세트(전10권).png\n",
      "http://gdimg.gmarket.co.kr/1280233513/still/300 71_티메이 가을신상  블라우스 원피스 니트 가디건.png\n",
      "http://gdimg.gmarket.co.kr/894581996/still/300 72_[한립토이스]그랜드 사파리.png\n",
      "http://gdimg.gmarket.co.kr/1101182286/still/300 73_[맥심]맥심 모카골드 커피믹스 400T : 쿠폰가 38900원~.png\n",
      "http://gdimg.gmarket.co.kr/1507570213/still/300 74_국내가공 홍진미 1kg 진미채.png\n",
      "http://gdimg.gmarket.co.kr/1567669633/still/300 75_[웅진]맑게우려낸 누룽지  500ml x 20개입.png\n",
      "http://gdimg.gmarket.co.kr/1840160662/still/300 76_FW 댑 남녀아동 수면잠옷세트바지원피스外 50종택1.png\n",
      "http://gdimg.gmarket.co.kr/1817353791/still/300 77_청주맛집 마을회관  정통수제 양념돼지갈비  1kg.png\n",
      "http://gdimg.gmarket.co.kr/1919051043/still/300 78_[복음자리]복음자리 진심의 딸기청 1kg 과일청 딸기라떼 딸기주스.png\n",
      "http://gdimg.gmarket.co.kr/1895242075/still/300 79_극세사 샤워 가운 호텔 로브 커플 남자 여자 목욕 잠옷.png\n",
      "http://gdimg.gmarket.co.kr/1918613080/still/300 80_[폴햄]폴햄 후드 외 베스트 이너 모음.png\n",
      "http://gdimg.gmarket.co.kr/1107623793/still/300 81_[카페베네]과일청1kg 2개 골라담기유자자몽레몬外.png\n",
      "http://gdimg.gmarket.co.kr/1918137296/still/300 82_[타미힐피거] 남여 공용 겨울기모 맨투맨 6종 택1_P088759037.png\n",
      "http://gdimg.gmarket.co.kr/1436487698/still/300 83_홈쇼핑구성 놀부 부대찌개500gx6팩+라면사리6 외 보쌈.png\n",
      "http://gdimg.gmarket.co.kr/817490134/still/300 84_[콩스콩스]베트남 블루드래곤 로부스타 500gx2봉 원두커피 사은품.png\n",
      "http://gdimg.gmarket.co.kr/1663061984/still/300 85_[키친아트]심플리 1 + 1 프라이팬 내맘대로 골라담기 2P.png\n",
      "http://gdimg.gmarket.co.kr/1305939816/still/300 86_[비비수산]생새우살  대사이즈 1+1 (약 70마리).png\n",
      "http://gdimg.gmarket.co.kr/1890420645/still/300 87_국내산 KF94 아이쿤 4중 마스크 대형 방역 황사 50매.png\n",
      "http://gdimg.gmarket.co.kr/1787305664/still/300 88_[보솜이]보솜이 액션핏 앤모션 팬티 기저귀 4팩 .png\n",
      "http://gdimg.gmarket.co.kr/1725467202/still/300 89_루나샵 겨울신상 5900원~티셔츠맨투맨원피스기모.png\n",
      "http://gdimg.gmarket.co.kr/1503353718/still/300 90_[오뚜기밥]맛있는 오뚜기밥 210g 24개.png\n",
      "http://gdimg.gmarket.co.kr/1693460347/still/300 91_[판테스틱]판테스틱 시카 진정크림  100ml(+행사중).png\n",
      "http://gdimg.gmarket.co.kr/484828506/still/300 92_[아침농산]국산 농부의아침 쌀10kg  2020년산 햅쌀.png\n",
      "http://gdimg.gmarket.co.kr/1600721841/still/300 93_Write Right BeginnerWrite RightWrite Right Paragraph선택세트구매.png\n",
      "http://gdimg.gmarket.co.kr/1806075829/still/300 94_액트투 전자렌지용 팝콘 버터맛 (78g 3개입) 3박스.png\n"
     ]
    },
    {
     "name": "stdout",
     "output_type": "stream",
     "text": [
      "http://gdimg.gmarket.co.kr/908708082/still/300 95_[테슬라]신상입고 테슬라 요가복 요가바지 티셔츠 필라테스복.png\n",
      "http://gdimg.gmarket.co.kr/161267854/still/300 96_업계를 리드하는 기업 3SK택배박스.png\n",
      "http://gdimg.gmarket.co.kr/1728610613/still/300 97_[엔비]메탈 집게핀 헤어 곱창 밴드 머리끈 슈슈 똑딱핀.png\n",
      "http://gdimg.gmarket.co.kr/1882062589/still/300 98_굿케어 KF94 국산 4중 마스크 대형50매 식약처인증.png\n",
      "http://gdimg.gmarket.co.kr/1917976758/still/300 99_국산 올가드베이직 KF94 100매식약청허가9480개별.png\n",
      "http://gdimg.gmarket.co.kr/1126542643/still/300 100_[제이스맘](FW신상입고) 여아구두 털구두 공주구두 굽구두 유아.png\n",
      "http://gdimg.gmarket.co.kr/220228006/still/300 101_[버블트리]~160호여아유아의류아동복주니어원피스레깅스.png\n",
      "http://gdimg.gmarket.co.kr/1681272490/still/300 102_C2Y 후르츠 퍼퓸 대용량 핸드크림 5종 세트.png\n",
      "http://gdimg.gmarket.co.kr/1918737029/still/300 103_[구글플레이]기프트코드 10만원 + 에픽세븐 게임 아이템 증정.png\n",
      "http://gdimg.gmarket.co.kr/488020179/still/300 104_[다우니]초고농축 다우니 섬유유연제 베리베리 1L 3개.png\n",
      "http://gdimg.gmarket.co.kr/1916931117/still/300 105_[베어파우](신세계강남점)베어파우 가을 겨울 모카신 로퍼 6종(총17컬러) 택1.png\n",
      "http://gdimg.gmarket.co.kr/1920688645/still/300 106_폴스크릭 최종가 써모라이트 포켓티셔츠 7종SET(여).png\n",
      "http://gdimg.gmarket.co.kr/1827909935/still/300 107_보랏빛소어린이 이솝우화로 배우는 속담고사성어(4권).png\n",
      "http://gdimg.gmarket.co.kr/1923904289/still/300 108_랑카스트 트레이닝 후디상의 팬츠 택1 100% 면소재.png\n",
      "http://gdimg.gmarket.co.kr/1906105690/still/300 109_단감 달콤 단단한 단감 5kg(35과내외)중소과.png\n",
      "http://gdimg.gmarket.co.kr/776582823/still/300 110_엄마옷로즈맘 인기상품70종세일 5060중년여성의류.png\n",
      "http://gdimg.gmarket.co.kr/221697646/still/300 111_국산가을겨울아동내복실내복주니어내의잠옷.png\n",
      "http://gdimg.gmarket.co.kr/801815493/still/300 112_1+1 트레이닝바지 기모 등산바지 티셔츠 남성 작업복.png\n",
      "http://gdimg.gmarket.co.kr/1860276269/still/300 113_[CW청우]청우 쫀득초코칩 720G 버킷 +사은.png\n",
      "http://gdimg.gmarket.co.kr/153279336/still/300 114_[박스포유]100%직접생산 박스포유 택배박스.png\n",
      "http://gdimg.gmarket.co.kr/1906099641/still/300 115_[에스티로더](신세계강남점)[11] 더블웨어 파운데이션 세트 (+디자이어 정품 랜덤증정).png\n",
      "http://gdimg.gmarket.co.kr/1506425201/still/300 116_[삼육검은콩두유]검은콩 앤 칼슘 190ml x 60팩.png\n",
      "http://gdimg.gmarket.co.kr/1667045420/still/300 117_[무슈제이]클래식 아쿠아 에센스 올인원 155ml 1+1 + 사은품 증정.png\n",
      "http://gdimg.gmarket.co.kr/1804429195/still/300 118_[GNM자연의품격]쏘팔메토 07 옥타코사놀 2박스(총6개월분)전립선 건강.png\n",
      "http://gdimg.gmarket.co.kr/1738317021/still/300 119_[반스]반스 OG 클래식 슬립온 (VN0A45JKT0A).png\n",
      "http://gdimg.gmarket.co.kr/1919668317/still/300 120_미니 보풀 제거기 1+1 외 생활용품 50종+사은품.png\n",
      "http://gdimg.gmarket.co.kr/1490019603/still/300 121_센스물티슈 악어 캡형 100매 10팩+10팩  한장씩톡톡.png\n",
      "http://gdimg.gmarket.co.kr/1910410389/still/300 122_[롯데제과]아몬드빼빼로10갑SET.png\n",
      "http://gdimg.gmarket.co.kr/1877018154/still/300 123_우리같이 일회용 마스크 국내제작 100매 무료배송.png\n",
      "http://gdimg.gmarket.co.kr/336394693/still/300 124_겨울오픈 주니어의류 초등팬츠 새학기특가 방한내의.png\n",
      "http://gdimg.gmarket.co.kr/1507410498/still/300 125_나영이네농장 맛좋은 감귤 7kg(S~M)-로얄과 자연의 맛.png\n",
      "http://gdimg.gmarket.co.kr/1912227495/still/300 126_[샤오미]샤오미 미밴드5 여우미 공식수입 정식 한글판(미개봉).png\n",
      "http://gdimg.gmarket.co.kr/447292392/still/300 127_[카누]카누 미니 마일드 120Tx2개 총240T : 공유의 커피 ~.png\n",
      "http://gdimg.gmarket.co.kr/1523773997/still/300 128_[피에르다르장]피에르다르장 프랑스 만능 국민세제 주방클리너 1개.png\n",
      "http://gdimg.gmarket.co.kr/1918129628/still/300 129_1+1 부사 사과 5kg내외(26-30과내외)가정용.png\n",
      "http://gdimg.gmarket.co.kr/1844635076/still/300 130_[밀레](임영웅이 선택한 밀레)남성 엘티원 보아 플리스 자켓 MUPFJ421.png\n",
      "http://gdimg.gmarket.co.kr/1225137848/still/300 131_[힐링팩토리]캐나다 프로폴리스 + 아연 6개월분 항산화 면연력.png\n",
      "http://gdimg.gmarket.co.kr/1779696398/still/300 132_[테크액체세제]테크 파워 액체세제(겸용) 대용량 8L.png\n",
      "http://gdimg.gmarket.co.kr/1855405611/still/300 133_실속형 육수용 완도 파지 다시마  1kg 식당용 가정용.png\n",
      "http://gdimg.gmarket.co.kr/1896838199/still/300 134_룩픽싱 립타투 레드입술 립스틱 지워지지않는.png\n",
      "http://gdimg.gmarket.co.kr/1674518969/still/300 135_머리가 좋아지는 놀이수학 놀이한글 홈스쿨북 학습지.png\n",
      "http://gdimg.gmarket.co.kr/1907218303/still/300 136_로티샵 8900원 50종2+1사은품가을신상니트원피스.png\n",
      "http://gdimg.gmarket.co.kr/399815051/still/300 137_달리샵 12%추가 쿠폰 필수소장 베스트 총집합.png\n",
      "http://gdimg.gmarket.co.kr/293963256/still/300 138_비앤티박스 택배박스착한가격당일퀵배송최고품질.png\n",
      "http://gdimg.gmarket.co.kr/1311171220/still/300 139_밀크기모 잘하는집밀크세트주니어 잠옷원피스잠옷.png\n",
      "http://gdimg.gmarket.co.kr/1295698550/still/300 140_[지이크](22%) 지이크 FW BEST  정장니트셔츠코트외~78%.png\n",
      "http://gdimg.gmarket.co.kr/1792676376/still/300 141_[컬럼비아]남여 플리스 자켓 C14-WE3220.png\n",
      "http://gdimg.gmarket.co.kr/1920052835/still/300 142_[베어파우][베어파우] 로지(Rosy) 첼시 부츠.png\n",
      "http://gdimg.gmarket.co.kr/1807233477/still/300 143_[에뛰드]UP TO 50% 홈뷰티케어 어워즈.png\n",
      "http://gdimg.gmarket.co.kr/1636469023/still/300 144_[유한양행]해피홈 멸균 스팟패치 72매 2팩 (총 144매).png\n",
      "http://gdimg.gmarket.co.kr/1793107522/still/300 145_[카레여왕]카레여왕분말 108g x 6개 골라담기.png\n",
      "http://gdimg.gmarket.co.kr/576442682/still/300 146_{니트모아}  롱가디건니트폴라원피스빅사이즈.png\n",
      "http://gdimg.gmarket.co.kr/1561051668/still/300 147_스타일윙윙 여자 남자 양말 중목발목덧신아동양말.png\n",
      "http://gdimg.gmarket.co.kr/1890493060/still/300 148_(마모트)남여공용 프리미엄 라인 덕다운 벤치파카 롱패딩 2종택1 1MMPAW9902.png\n",
      "http://gdimg.gmarket.co.kr/720305784/still/300 149_[바세린]바세린 립 테라피 5개  고보습 스틱형 립밤 립글로즈.png\n",
      "http://gdimg.gmarket.co.kr/1890193946/still/300 150_[헤드]FW 아우터 스니커즈 미리 준비하는 겨울나기.png\n",
      "http://gdimg.gmarket.co.kr/1277558140/still/300 151_[프롬산타]3+사은품 양말 선물세트 덧신 남자여자발목중목학생.png\n",
      "http://gdimg.gmarket.co.kr/1817237042/still/300 152_루즈델리 1012%쿠폰 신상 빅사이즈롱원피스팬츠.png\n",
      "http://gdimg.gmarket.co.kr/1103681365/still/300 153_[맥심]모카골드 커피믹스 160T+160T +3단트레이.png\n",
      "http://gdimg.gmarket.co.kr/1899276489/still/300 154_[잘풀리는집]잘풀리는집 순수프리미엄 30M 30롤 리뉴얼 x 2팩.png\n",
      "http://gdimg.gmarket.co.kr/1918735309/still/300 155_[구글플레이]기프트코드 5만원 + 에픽세븐 게임 아이템 증정.png\n",
      "http://gdimg.gmarket.co.kr/1655242371/still/300 156_[구글플레이](카드가능) 기프트코드 10만원  구글 기프트카드.png\n",
      "http://gdimg.gmarket.co.kr/651036497/still/300 157_[또래친구]겨울 균일가no옵션 맨투맨밍크레깅스치랭스.png\n",
      "http://gdimg.gmarket.co.kr/1680591719/still/300 158_[맛있는우유GT]맛있는우유GT 멸균 흰우유 180ml 48팩.png\n",
      "http://gdimg.gmarket.co.kr/1626756511/still/300 159_[BYO]CJ BYO 20억 생유산균 키즈 30포 3개.png\n",
      "http://gdimg.gmarket.co.kr/1490709056/still/300 160_남녀공용 오리털 조끼 베스트 덕다운 경량패딩조끼.png\n",
      "http://gdimg.gmarket.co.kr/1689485378/still/300 161_[노스페이스키즈](대구신세계)NJ3NK55 K’S LIVEN T-BALL COAT 키즈 리븐 티볼 코트 .png\n",
      "http://gdimg.gmarket.co.kr/1895880393/still/300 162_[윌라]윌라 오디오북 무제한 멤버십 6개월권.png\n",
      "http://gdimg.gmarket.co.kr/1924701804/still/300 163_폴스크릭 최종가 경량 패딩재킷(남).png\n",
      "http://gdimg.gmarket.co.kr/1914683977/still/300 164_[가이거][가이거] 일루시온(Illusion) 앵클부츠.png\n",
      "http://gdimg.gmarket.co.kr/1326095557/still/300 165_체이스컬트 FW 아우터 모음전 베스트코트점퍼 외.png\n",
      "http://gdimg.gmarket.co.kr/1835933242/still/300 166_[카파키즈]카파키즈 가을 아동의류티셔츠긴바지운동화아동화.png\n",
      "http://gdimg.gmarket.co.kr/166590237/still/300 167_[BYC]내의내복남자남성여자여성기모겨울발열.png\n",
      "http://gdimg.gmarket.co.kr/1914500349/still/300 168_[일리윤]오일스무딩 크림 200ml 2개 +아토크림 30ml 기획세트.png\n",
      "http://gdimg.gmarket.co.kr/1703351901/still/300 169_[제주삼다수]제주삼다수 500ml 40병  생수전문배송.png\n",
      "http://gdimg.gmarket.co.kr/173366583/still/300 170_가정식 생포기김치10Kg 총각 배추김치 HACCP인증.png\n",
      "http://gdimg.gmarket.co.kr/1918695948/still/300 171_[에이블루]특허받은의자 2020년형 NEW 에이블루 커블체어 와이더 2+1세트.png\n",
      "http://gdimg.gmarket.co.kr/1412177282/still/300 172_1+2 북유럽풍 순면거즈 일러스트행주 면행주 주방타올.png\n",
      "http://gdimg.gmarket.co.kr/1910437018/still/300 173_[롯데제과]혼합빼빼로40갑SET +무선충전기증정(선착순).png\n",
      "http://gdimg.gmarket.co.kr/1854481327/still/300 174_(행사상품)팔도진미_강원도춘천식닭갈비_1kg.png\n",
      "http://gdimg.gmarket.co.kr/671047128/still/300 175_[또래친구]겨울 균일가 싹다 5900 기모맨투맨치랭스터들넥.png\n",
      "http://gdimg.gmarket.co.kr/1543095376/still/300 176_[BYO]CJ BYO 20억 생유산균 30포 x 3개 (총90포)+사은품.png\n",
      "http://gdimg.gmarket.co.kr/1568193709/still/300 177_[일리윤]일리윤 세라마이드아토로션  350ml 3개.png\n",
      "http://gdimg.gmarket.co.kr/1689051767/still/300 178_[너트리]까먹는 껍질 구운캐슈넛 500g x 2개 베트남 특산품.png\n",
      "http://gdimg.gmarket.co.kr/946176130/still/300 179_쁘띠뮤중복할인+겨울기모 상하복 레깅스 팬츠.png\n",
      "http://gdimg.gmarket.co.kr/1817339494/still/300 180_[푸마]나이키푸마미즈노 트레이닝복 세트 48종 택 1.png\n",
      "http://gdimg.gmarket.co.kr/1510637585/still/300 181_[스파클]스파클생수 2L 30병.png\n",
      "http://gdimg.gmarket.co.kr/1782687491/still/300 182_[에쓰오일](S-OIL) 모바일 주유권 5만원권.png\n",
      "http://gdimg.gmarket.co.kr/414344802/still/300 183_HAPPYDAY 핫팩 군용60매포켓100매파스형90매.png\n",
      "http://gdimg.gmarket.co.kr/1924173122/still/300 184_[길벗스쿨]길벗스쿨 기적의 명문장 따라쓰기 3권 세트(논어명심보감속담.고사성어).png\n",
      "http://gdimg.gmarket.co.kr/1575961288/still/300 185_[퍼실]퍼실 프로페셔널 대용량 액체세탁세제9L 드럼일반겸용.png\n",
      "http://gdimg.gmarket.co.kr/1670945051/still/300 186_[한일]EMF 세미극세사 온수매트 싱글.png\n",
      "http://gdimg.gmarket.co.kr/1890202339/still/300 187_[비스카]초음파 안경 세척기 VK-US180Y 시계 귀중품 세척.png\n",
      "http://gdimg.gmarket.co.kr/1886928810/still/300 188_화이트 트러플오일 르반테 250ml 천연 실제트러플첨가.png\n",
      "http://gdimg.gmarket.co.kr/1703834569/still/300 189_특가 핫뜨거 패딩 누빔 뽀글이 짚업자켓 누빔패딩 안감.png\n",
      "http://gdimg.gmarket.co.kr/1914128680/still/300 190_[본죽]전복죽 200g 10개입.png\n"
     ]
    },
    {
     "name": "stdout",
     "output_type": "stream",
     "text": [
      "http://gdimg.gmarket.co.kr/1885867258/still/300 191_폴로 프리미엄 기모 맨투맨 20년FW 신상 남여공용.png\n",
      "http://gdimg.gmarket.co.kr/1807917361/still/300 192_[프렌치카페]프렌치카페 로스터리 컵커피 5종250ml 10+10 골라담기.png\n",
      "http://gdimg.gmarket.co.kr/1686035302/still/300 193_[제주삼다수]제주삼다수 2L 12병생수전문배송.png\n",
      "http://gdimg.gmarket.co.kr/1524397494/still/300 194_제주 노지 감귤 극조생 감귤 2L 대과 10kg 내외.png\n",
      "http://gdimg.gmarket.co.kr/1719925155/still/300 195_특가 기모 짚업 이너자켓 가디건 스웨트 자켓D.png\n",
      "http://gdimg.gmarket.co.kr/1682714054/still/300 196_[아몬드브리즈]아몬드브리즈 뉴트리 플러스 프로틴 190ML 24팩.png\n",
      "http://gdimg.gmarket.co.kr/1820071305/still/300 197_[순수식품]흑 도라지 배 생강 청 스틱 100포 배도라지청.png\n",
      "http://gdimg.gmarket.co.kr/1882228295/still/300 198_[흄]여성 다이아퀼팅 넥변형 숏 경량점퍼 FHOWCUE552.png\n",
      "http://gdimg.gmarket.co.kr/632752278/still/300 199_[헤어플러스]최저가 헤어플러스 단백질 본드 앰플샴푸트리트먼트.png\n"
     ]
    }
   ],
   "source": [
    "for idx, row in items_df.iterrows():\n",
    "    link = \"http://gdimg.gmarket.co.kr/{}/still/300\".format(row['id'])\n",
    "    title = str(idx) + \"_\" + row[\"title\"] + \".png\"\n",
    "    title = title.replace(\"/\", \"\")\n",
    "    print(link, title)\n",
    "    download(title, link)"
   ]
  },
  {
   "cell_type": "code",
   "execution_count": 109,
   "metadata": {},
   "outputs": [
    {
     "data": {
      "text/plain": [
       "'htt'"
      ]
     },
     "execution_count": 109,
     "metadata": {},
     "output_type": "execute_result"
    }
   ],
   "source": []
  },
  {
   "cell_type": "code",
   "execution_count": null,
   "metadata": {},
   "outputs": [],
   "source": []
  },
  {
   "cell_type": "code",
   "execution_count": null,
   "metadata": {},
   "outputs": [],
   "source": []
  },
  {
   "cell_type": "code",
   "execution_count": null,
   "metadata": {},
   "outputs": [],
   "source": []
  }
 ],
 "metadata": {
  "kernelspec": {
   "display_name": "Python 3",
   "language": "python",
   "name": "python3"
  },
  "language_info": {
   "codemirror_mode": {
    "name": "ipython",
    "version": 3
   },
   "file_extension": ".py",
   "mimetype": "text/x-python",
   "name": "python",
   "nbconvert_exporter": "python",
   "pygments_lexer": "ipython3",
   "version": "3.8.3"
  }
 },
 "nbformat": 4,
 "nbformat_minor": 4
}
