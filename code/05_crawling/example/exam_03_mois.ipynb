{
 "cells": [
  {
   "cell_type": "markdown",
   "metadata": {},
   "source": [
    "### 행정안전부 보도자료 데이터 수집\n",
    "- https://mois.go.kr\n",
    "- post 방식 사용\n",
    "- 뉴스 소식 -> 보도자료"
   ]
  },
  {
   "cell_type": "code",
   "execution_count": 1,
   "metadata": {},
   "outputs": [],
   "source": [
    "import requests\n",
    "import pandas as pd\n",
    "from bs4 import BeautifulSoup"
   ]
  },
  {
   "cell_type": "code",
   "execution_count": 10,
   "metadata": {},
   "outputs": [],
   "source": [
    "page = 1\n",
    "params = {\n",
    "    \"nttId\": 0,\n",
    "    \"bbsTyCode\": \"BBST03\",\n",
    "    \"bbsAttrbCode\": \"BBSA03\",\n",
    "    \"authFlag\": \"Y\",\n",
    "    \"pageIndex\": page,\n",
    "    \"cal_url\": \"/sym/cal/EgovNormalCalPopup.do\",\n",
    "    \"searchCnd\": 0,\n",
    "}\n",
    "url = \"https://mois.go.kr/frt/bbs/type010/commonSelectBoardList.do?bbsId=BBSMSTR_000000000008\""
   ]
  },
  {
   "cell_type": "code",
   "execution_count": 14,
   "metadata": {},
   "outputs": [],
   "source": [
    "response = requests.post(url, params = params)"
   ]
  },
  {
   "cell_type": "code",
   "execution_count": 15,
   "metadata": {},
   "outputs": [],
   "source": [
    "dom = BeautifulSoup(response.text, \"html.parser\")"
   ]
  },
  {
   "cell_type": "code",
   "execution_count": 29,
   "metadata": {},
   "outputs": [
    {
     "data": {
      "text/plain": [
       "10"
      ]
     },
     "execution_count": 29,
     "metadata": {},
     "output_type": "execute_result"
    }
   ],
   "source": [
    "#print_area > div.table_wrap.type_01 > form > table > tbody > tr:nth-child(1) > td.l\n",
    "#print_area > div.table_wrap.type_01 > form > table\n",
    "# == .table_style1 mobile\n",
    "\n",
    "elements = dom.select(\".table_style1.mobile > tbody > tr\")\n",
    "len(elements)"
   ]
  },
  {
   "cell_type": "code",
   "execution_count": 33,
   "metadata": {},
   "outputs": [
    {
     "data": {
      "text/html": [
       "<div>\n",
       "<style scoped>\n",
       "    .dataframe tbody tr th:only-of-type {\n",
       "        vertical-align: middle;\n",
       "    }\n",
       "\n",
       "    .dataframe tbody tr th {\n",
       "        vertical-align: top;\n",
       "    }\n",
       "\n",
       "    .dataframe thead th {\n",
       "        text-align: right;\n",
       "    }\n",
       "</style>\n",
       "<table border=\"1\" class=\"dataframe\">\n",
       "  <thead>\n",
       "    <tr style=\"text-align: right;\">\n",
       "      <th></th>\n",
       "      <th>no</th>\n",
       "      <th>title</th>\n",
       "      <th>link</th>\n",
       "      <th>writer</th>\n",
       "      <th>data</th>\n",
       "      <th>pv</th>\n",
       "    </tr>\n",
       "  </thead>\n",
       "  <tbody>\n",
       "    <tr>\n",
       "      <th>8</th>\n",
       "      <td>11406</td>\n",
       "      <td>한국에 거주하는 외국인주민 수 222만 명, 총인구 대비 4.3%</td>\n",
       "      <td>/frt/bbs/type010/commonSelectBoardArticle.do;j...</td>\n",
       "      <td>사회통합지원과</td>\n",
       "      <td>2020.10.29.</td>\n",
       "      <td>473</td>\n",
       "    </tr>\n",
       "    <tr>\n",
       "      <th>9</th>\n",
       "      <td>11405</td>\n",
       "      <td>코로나19 위기 극복을 위한 청사본부 단체헌혈 실시</td>\n",
       "      <td>/frt/bbs/type010/commonSelectBoardArticle.do;j...</td>\n",
       "      <td>관리총괄과</td>\n",
       "      <td>2020.10.29.</td>\n",
       "      <td>415</td>\n",
       "    </tr>\n",
       "  </tbody>\n",
       "</table>\n",
       "</div>"
      ],
      "text/plain": [
       "      no                                 title  \\\n",
       "8  11406  한국에 거주하는 외국인주민 수 222만 명, 총인구 대비 4.3%   \n",
       "9  11405          코로나19 위기 극복을 위한 청사본부 단체헌혈 실시   \n",
       "\n",
       "                                                link   writer         data  \\\n",
       "8  /frt/bbs/type010/commonSelectBoardArticle.do;j...  사회통합지원과  2020.10.29.   \n",
       "9  /frt/bbs/type010/commonSelectBoardArticle.do;j...    관리총괄과  2020.10.29.   \n",
       "\n",
       "    pv  \n",
       "8  473  \n",
       "9  415  "
      ]
     },
     "execution_count": 33,
     "metadata": {},
     "output_type": "execute_result"
    }
   ],
   "source": [
    "datas = []\n",
    "for element in elements:\n",
    "    datas.append({\n",
    "        \"no\": element.select_one(\"td:nth-child(1)\").text.strip(),\n",
    "        \"title\": element.select_one(\"td:nth-child(2)\").text.strip(),\n",
    "        \"link\": element.select_one(\"td:nth-child(2) a\").get(\"href\"),\n",
    "        \"writer\": element.select_one(\"td:nth-child(4)\").text.strip(),\n",
    "        \"data\": element.select_one(\"td:nth-child(5)\").text.strip(),\n",
    "        \"pv\": element.select_one(\"td:nth-child(6)\").text.strip(),\n",
    "    })\n",
    "mois_df = pd.DataFrame(datas)\n",
    "mois_df.tail(2)"
   ]
  },
  {
   "cell_type": "code",
   "execution_count": null,
   "metadata": {},
   "outputs": [],
   "source": []
  },
  {
   "cell_type": "code",
   "execution_count": null,
   "metadata": {},
   "outputs": [],
   "source": []
  },
  {
   "cell_type": "code",
   "execution_count": null,
   "metadata": {},
   "outputs": [],
   "source": []
  },
  {
   "cell_type": "code",
   "execution_count": null,
   "metadata": {},
   "outputs": [],
   "source": []
  },
  {
   "cell_type": "code",
   "execution_count": null,
   "metadata": {},
   "outputs": [],
   "source": []
  }
 ],
 "metadata": {
  "kernelspec": {
   "display_name": "Python 3",
   "language": "python",
   "name": "python3"
  },
  "language_info": {
   "codemirror_mode": {
    "name": "ipython",
    "version": 3
   },
   "file_extension": ".py",
   "mimetype": "text/x-python",
   "name": "python",
   "nbconvert_exporter": "python",
   "pygments_lexer": "ipython3",
   "version": "3.8.3"
  }
 },
 "nbformat": 4,
 "nbformat_minor": 4
}
