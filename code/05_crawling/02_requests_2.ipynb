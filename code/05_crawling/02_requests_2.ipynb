{
 "cells": [
  {
   "cell_type": "markdown",
   "metadata": {},
   "source": [
    "### web crawling\n",
    "- 웹 서비스의 구조: 서버-클라이언트\n",
    "- 크롤링 방법 세가지\n",
    "    - requests: json 동적 페이지\n",
    "        - 네이버 주식 사이트에서 주가 데이터 크롤링\n",
    "            - 시각화(정규화), 상관계수\n",
    "    - requests: html 정적 페이지\n",
    "    - selenium: webdriver\n",
    "- 크롤링 절차\n",
    "    - 웹서비스 분석: URL\n",
    "    - 요청, 응답: str\n",
    "    - str 데이터 파싱(dict, bs obj(css-selector)) 후 데이터 프레임으로 생성"
   ]
  },
  {
   "cell_type": "markdown",
   "metadata": {},
   "source": [
    "###  직방\n",
    "- 동이름을 입력하면 아파트 매물을 데이터 프레임 만들기\n",
    "- robots.txt"
   ]
  },
  {
   "cell_type": "markdown",
   "metadata": {},
   "source": [
    "### 1. 웹서비스 분석:  URL 찾기, 크롤링 전략 세우기\n",
    "- + URL의 특수문자는 인코딩된 데이터 그래서 디코딩해서 값을 줘야함\n",
    "- + geohash: 위도, 경도 값을 문자열 형태로 바꿔주는 패키지\n",
    "- 동이름 입력 -> lat, lng (위도, 경도)\n",
    "- lat, lng -> geohash: geohash 패키지 설치\n",
    "- geohash -> item ids\n",
    "- item ids -> item datas(데이터 프레임)"
   ]
  },
  {
   "cell_type": "code",
   "execution_count": 32,
   "metadata": {},
   "outputs": [
    {
     "data": {
      "text/plain": [
       "({'id': 4094,\n",
       "  'type': 'address',\n",
       "  'name': '성수동1가',\n",
       "  'hint': '',\n",
       "  'description': '서울시 성동구 성수동1가',\n",
       "  'lat': 37.541725158691406,\n",
       "  'lng': 127.04335021972656,\n",
       "  'zoom': 5,\n",
       "  'polygon': [],\n",
       "  '_score': None,\n",
       "  '_source': {'name_length': 5,\n",
       "   'local1': '서울시',\n",
       "   'local2': '성동구',\n",
       "   'local3': '성수동1가',\n",
       "   'web_level': 15,\n",
       "   'web_lat': 37.541725158691406,\n",
       "   'web_lng': 127.04335021972656,\n",
       "   'app_level': 15,\n",
       "   'app_lat': 37.541725158691406,\n",
       "   'app_lng': 127.04335021972656,\n",
       "   '법정동코드': '1120011400'},\n",
       "  'zoom_level': {'google': 15, 'daum': 4},\n",
       "  'zoom_level_v2': {'app': 5, 'web': 4}},\n",
       " 37.541725158691406,\n",
       " 127.04335021972656)"
      ]
     },
     "execution_count": 32,
     "metadata": {},
     "output_type": "execute_result"
    }
   ],
   "source": [
    "# 동이름 -> 위도경도\n",
    "addr = '성수동'\n",
    "# url = 'https://apis.zigbang.com/v2/search?q=%EC%84%B1%EC%88%98%EB%8F%99&serviceType=%EC%95%84%ED%8C%8C%ED%8A%B8'.format(addr)\n",
    "    # 디코딩 필요한 URL\n",
    "url = 'https://apis.zigbang.com/v2/search?q={}&serviceType=아파트'.format(addr)\n",
    "response = requests.get(url)\n",
    "data = response.json()['items'][0]\n",
    "lat, lng = data['lat'], data['lng']\n",
    "data, lat, lng"
   ]
  },
  {
   "cell_type": "code",
   "execution_count": 7,
   "metadata": {},
   "outputs": [],
   "source": [
    "# 위도 경도 데이터를 가지고 geohash 데이터를 가져옴\n",
    "# !pip install geohash2\n",
    "import geohash2"
   ]
  },
  {
   "cell_type": "code",
   "execution_count": 33,
   "metadata": {},
   "outputs": [
    {
     "data": {
      "text/plain": [
       "('wydmd', 37.541725158691406, 127.04335021972656)"
      ]
     },
     "execution_count": 33,
     "metadata": {},
     "output_type": "execute_result"
    }
   ],
   "source": [
    "# precision: 작을수록 큰범위, 클수록 작은 범위\n",
    "geohash = geohash2.encode(lat, lng, precision=5)\n",
    "geohash, lat, lng"
   ]
  },
  {
   "cell_type": "code",
   "execution_count": 37,
   "metadata": {},
   "outputs": [
    {
     "data": {
      "text/plain": [
       "(152, 152, [19722, 19990, 19929])"
      ]
     },
     "execution_count": 37,
     "metadata": {},
     "output_type": "execute_result"
    }
   ],
   "source": [
    "# geohash -> item ids\n",
    "# url = 'https://apis.zigbang.com/v2/items?deposit_gteq=0&domain=zigbang&geohash=wydm6&rent_gteq=0&sales_type_in=%EC%A0%84%EC%84%B8%7C%EC%9B%94%EC%84%B8&service_type_eq=%EC%9B%90%EB%A3%B8'\n",
    "url = 'https://apis.zigbang.com/property/apartments/location/v3?e=&geohash={}\\\n",
    "&markerType=large&n=&q=type=sales,price=0~-1,floorArea=0~-1&s=&serviceType[0]=apt&serviceType[1]=offer&w='.format(geohash)\n",
    "response = requests.get(url)\n",
    "datas = response.json()['filtered']\n",
    "ids = [data['id'] for data in datas]\n",
    "len(datas), len(ids), ids[:3]"
   ]
  },
  {
   "cell_type": "code",
   "execution_count": 40,
   "metadata": {},
   "outputs": [
    {
     "data": {
      "text/plain": [
       "{'name': 'BadRequestError',\n",
       " 'code': 400,\n",
       " 'message': [{'target': {'id': '[19722]',\n",
       "    'accept-encoding': 'gzip',\n",
       "    'host': 'apis-origin.zigbang.com',\n",
       "    'user-agent': 'python-requests/2.24.0',\n",
       "    'via': '1.1 c2fabe4c8485f75646a8199d0d11a3e5.cloudfront.net (CloudFront)',\n",
       "    'x-amz-cf-id': '3s5-Xn27GzMLW2mug7a7OR9kbWjzI-w4xWquGUpdLG0LvIHbWYQ6jA==',\n",
       "    'x-amzn-trace-id': 'Root=1-5f97b3ca-2c9328507711d5ba5e596c44',\n",
       "    'x-forwarded-for': '106.242.79.230, 13.124.199.233',\n",
       "    'x-forwarded-port': '443',\n",
       "    'x-forwarded-proto': 'https',\n",
       "    'x-apigateway-event': '%7B%22resource%22%3A%22%2F%7Bproxy%2B%7D%22%2C%22path%22%3A%22%2Fv2%2Fdanjis%2F%255B19722%255D%22%2C%22httpMethod%22%3A%22GET%22%2C%22headers%22%3A%7B%22Accept-Encoding%22%3A%22gzip%22%2C%22Host%22%3A%22apis-origin.zigbang.com%22%2C%22User-Agent%22%3A%22python-requests%2F2.24.0%22%2C%22Via%22%3A%221.1%20c2fabe4c8485f75646a8199d0d11a3e5.cloudfront.net%20(CloudFront)%22%2C%22X-Amz-Cf-Id%22%3A%223s5-Xn27GzMLW2mug7a7OR9kbWjzI-w4xWquGUpdLG0LvIHbWYQ6jA%3D%3D%22%2C%22X-Amzn-Trace-Id%22%3A%22Root%3D1-5f97b3ca-2c9328507711d5ba5e596c44%22%2C%22X-Forwarded-For%22%3A%22106.242.79.230%2C%2013.124.199.233%22%2C%22X-Forwarded-Port%22%3A%22443%22%2C%22X-Forwarded-Proto%22%3A%22https%22%7D%2C%22multiValueHeaders%22%3A%7B%22Accept-Encoding%22%3A%5B%22gzip%22%5D%2C%22Host%22%3A%5B%22apis-origin.zigbang.com%22%5D%2C%22User-Agent%22%3A%5B%22python-requests%2F2.24.0%22%5D%2C%22Via%22%3A%5B%221.1%20c2fabe4c8485f75646a8199d0d11a3e5.cloudfront.net%20(CloudFront)%22%5D%2C%22X-Amz-Cf-Id%22%3A%5B%223s5-Xn27GzMLW2mug7a7OR9kbWjzI-w4xWquGUpdLG0LvIHbWYQ6jA%3D%3D%22%5D%2C%22X-Amzn-Trace-Id%22%3A%5B%22Root%3D1-5f97b3ca-2c9328507711d5ba5e596c44%22%5D%2C%22X-Forwarded-For%22%3A%5B%22106.242.79.230%2C%2013.124.199.233%22%5D%2C%22X-Forwarded-Port%22%3A%5B%22443%22%5D%2C%22X-Forwarded-Proto%22%3A%5B%22https%22%5D%7D%2C%22queryStringParameters%22%3Anull%2C%22multiValueQueryStringParameters%22%3Anull%2C%22pathParameters%22%3A%7B%22proxy%22%3A%22v2%2Fdanjis%2F%255B19722%255D%22%7D%2C%22stageVariables%22%3A%7B%22stage%22%3A%22prod%22%7D%2C%22requestContext%22%3A%7B%22resourceId%22%3A%221nibyw%22%2C%22resourcePath%22%3A%22%2F%7Bproxy%2B%7D%22%2C%22httpMethod%22%3A%22GET%22%2C%22extendedRequestId%22%3A%22VDkHmGGYtjMFjaw%3D%22%2C%22requestTime%22%3A%2227%2FOct%2F2020%3A05%3A44%3A42%20%2B0000%22%2C%22path%22%3A%22%2Fv2%2Fdanjis%2F%255B19722%255D%22%2C%22accountId%22%3A%22768556645518%22%2C%22protocol%22%3A%22HTTP%2F1.1%22%2C%22stage%22%3A%22Prod%22%2C%22domainPrefix%22%3A%22apis-origin%22%2C%22requestTimeEpoch%22%3A1603777482188%2C%22requestId%22%3A%2209d14761-9ef3-405d-a043-8adcd0a1b98a%22%2C%22identity%22%3A%7B%22cognitoIdentityPoolId%22%3Anull%2C%22accountId%22%3Anull%2C%22cognitoIdentityId%22%3Anull%2C%22caller%22%3Anull%2C%22sourceIp%22%3A%22106.242.79.230%22%2C%22principalOrgId%22%3Anull%2C%22accessKey%22%3Anull%2C%22cognitoAuthenticationType%22%3Anull%2C%22cognitoAuthenticationProvider%22%3Anull%2C%22userArn%22%3Anull%2C%22userAgent%22%3A%22python-requests%2F2.24.0%22%2C%22user%22%3Anull%7D%2C%22domainName%22%3A%22apis-origin.zigbang.com%22%2C%22apiId%22%3A%229pdaldbbii%22%7D%2C%22isBase64Encoded%22%3Afalse%7D',\n",
       "    'x-apigateway-context': '%7B%22callbackWaitsForEmptyEventLoop%22%3Atrue%2C%22functionVersion%22%3A%22837%22%2C%22functionName%22%3A%22zigbang-api2-zigbang-com-prod%22%2C%22memoryLimitInMB%22%3A%221024%22%2C%22logGroupName%22%3A%22%2Faws%2Flambda%2Fzigbang-api2-zigbang-com-prod%22%2C%22logStreamName%22%3A%222020%2F10%2F27%2F%5B837%5D891988c210674996bd79617a3b900a06%22%2C%22invokedFunctionArn%22%3A%22arn%3Aaws%3Alambda%3Aap-northeast-1%3A768556645518%3Afunction%3Azigbang-api2-zigbang-com-prod%3Aprod%22%2C%22awsRequestId%22%3A%2225fb57b5-db84-4088-871d-8b5c01f696e4%22%7D',\n",
       "    'connection': 'close'},\n",
       "   'value': '[19722]',\n",
       "   'property': 'id',\n",
       "   'children': [],\n",
       "   'constraints': {'isNumber': 'id must be a number'}}]}"
      ]
     },
     "execution_count": 40,
     "metadata": {},
     "output_type": "execute_result"
    }
   ],
   "source": [
    "# ids -> items (매물정보)\n",
    "ids_str = str(ids[:1]).replace(\" \", \"\")\n",
    "\n",
    "url = 'https://apis.zigbang.com/v2/danjis/{ids}'.format(ids=ids_str)\n",
    "response = requests.get(url)\n",
    "datas = response.json()\n",
    "datas"
   ]
  },
  {
   "cell_type": "code",
   "execution_count": null,
   "metadata": {},
   "outputs": [],
   "source": []
  },
  {
   "cell_type": "code",
   "execution_count": null,
   "metadata": {},
   "outputs": [],
   "source": []
  },
  {
   "cell_type": "code",
   "execution_count": null,
   "metadata": {},
   "outputs": [],
   "source": []
  },
  {
   "cell_type": "code",
   "execution_count": null,
   "metadata": {},
   "outputs": [],
   "source": []
  },
  {
   "cell_type": "code",
   "execution_count": null,
   "metadata": {},
   "outputs": [],
   "source": []
  },
  {
   "cell_type": "code",
   "execution_count": null,
   "metadata": {},
   "outputs": [],
   "source": []
  }
 ],
 "metadata": {
  "kernelspec": {
   "display_name": "Python 3",
   "language": "python",
   "name": "python3"
  },
  "language_info": {
   "codemirror_mode": {
    "name": "ipython",
    "version": 3
   },
   "file_extension": ".py",
   "mimetype": "text/x-python",
   "name": "python",
   "nbconvert_exporter": "python",
   "pygments_lexer": "ipython3",
   "version": "3.8.3"
  }
 },
 "nbformat": 4,
 "nbformat_minor": 4
}
