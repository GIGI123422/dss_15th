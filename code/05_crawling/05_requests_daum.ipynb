{
 "cells": [
  {
   "cell_type": "markdown",
   "metadata": {},
   "source": [
    "### Daum에서 환율 정보 크롤링\n",
    "- https://finance.daum.net/exchanges\n",
    "- fake_useragent\n",
    "    - pip install fake_useragent"
   ]
  },
  {
   "cell_type": "code",
   "execution_count": 7,
   "metadata": {},
   "outputs": [],
   "source": [
    "from fake_useragent import UserAgent"
   ]
  },
  {
   "cell_type": "code",
   "execution_count": 8,
   "metadata": {},
   "outputs": [
    {
     "name": "stderr",
     "output_type": "stream",
     "text": [
      "Error occurred during loading data. Trying to use cache server https://fake-useragent.herokuapp.com/browsers/0.1.11\n",
      "Traceback (most recent call last):\n",
      "  File \"C:\\ProgramData\\Anaconda3\\lib\\site-packages\\fake_useragent\\utils.py\", line 164, in load\n",
      "    browsers_dict[browser_key] = get_browser_versions(\n",
      "  File \"C:\\ProgramData\\Anaconda3\\lib\\site-packages\\fake_useragent\\utils.py\", line 143, in get_browser_versions\n",
      "    raise FakeUserAgentError(\n",
      "fake_useragent.errors.FakeUserAgentError: No browsers version found for Chrome\n"
     ]
    },
    {
     "data": {
      "text/plain": [
       "'Mozilla/5.0 (Windows NT 6.1; WOW64) AppleWebKit/537.36 (KHTML, like Gecko) Chrome/29.0.1547.62 Safari/537.36'"
      ]
     },
     "execution_count": 8,
     "metadata": {},
     "output_type": "execute_result"
    }
   ],
   "source": [
    "UserAgent().chrome"
   ]
  },
  {
   "cell_type": "code",
   "execution_count": 4,
   "metadata": {},
   "outputs": [
    {
     "data": {
      "text/plain": [
       "<Response [403]>"
      ]
     },
     "execution_count": 4,
     "metadata": {},
     "output_type": "execute_result"
    }
   ],
   "source": [
    "# user-agent 정보가 현재 python으로 가는데, chrome 웹브라우저로 바꿔줘야함\n",
    "url = 'https://finance.daum.net/api/exchanges/summaries'\n",
    "response = requests.get(url)\n",
    "response\n",
    "# 결과: <Response [403]> --> 접속안됨"
   ]
  },
  {
   "cell_type": "code",
   "execution_count": 12,
   "metadata": {},
   "outputs": [
    {
     "data": {
      "text/plain": [
       "<Response [200]>"
      ]
     },
     "execution_count": 12,
     "metadata": {},
     "output_type": "execute_result"
    }
   ],
   "source": [
    "url = 'https://finance.daum.net/api/exchanges/summaries'\n",
    "headers = {\n",
    "    \"user-agent\": UserAgent().chrome,\n",
    "    \"referer\": \"https://finance.daum.net/exchanges\",\n",
    "}\n",
    "response = requests.get(url, headers=headers)\n",
    "response"
   ]
  },
  {
   "cell_type": "code",
   "execution_count": 13,
   "metadata": {},
   "outputs": [
    {
     "data": {
      "text/html": [
       "<div>\n",
       "<style scoped>\n",
       "    .dataframe tbody tr th:only-of-type {\n",
       "        vertical-align: middle;\n",
       "    }\n",
       "\n",
       "    .dataframe tbody tr th {\n",
       "        vertical-align: top;\n",
       "    }\n",
       "\n",
       "    .dataframe thead th {\n",
       "        text-align: right;\n",
       "    }\n",
       "</style>\n",
       "<table border=\"1\" class=\"dataframe\">\n",
       "  <thead>\n",
       "    <tr style=\"text-align: right;\">\n",
       "      <th></th>\n",
       "      <th>symbolCode</th>\n",
       "      <th>date</th>\n",
       "      <th>currencyCode</th>\n",
       "      <th>currencyName</th>\n",
       "      <th>currencyUnit</th>\n",
       "      <th>country</th>\n",
       "      <th>region</th>\n",
       "      <th>name</th>\n",
       "      <th>recurrenceCount</th>\n",
       "      <th>basePrice</th>\n",
       "      <th>...</th>\n",
       "      <th>changeRate</th>\n",
       "      <th>cashBuyingPrice</th>\n",
       "      <th>cashSellingPrice</th>\n",
       "      <th>ttBuyingPrice</th>\n",
       "      <th>ttSellingPrice</th>\n",
       "      <th>tcBuyingPrice</th>\n",
       "      <th>fcSellingPrice</th>\n",
       "      <th>exchangeCommission</th>\n",
       "      <th>usDollarRate</th>\n",
       "      <th>chartImageUrl</th>\n",
       "    </tr>\n",
       "  </thead>\n",
       "  <tbody>\n",
       "    <tr>\n",
       "      <th>0</th>\n",
       "      <td>FRX.KRWUSD</td>\n",
       "      <td>2020-10-28 15:09:14</td>\n",
       "      <td>USD</td>\n",
       "      <td>달러</td>\n",
       "      <td>1</td>\n",
       "      <td>미국</td>\n",
       "      <td>{'korName': '아메리카', 'engName': 'America'}</td>\n",
       "      <td>미국 (KRW/USD)</td>\n",
       "      <td>211</td>\n",
       "      <td>1130.80</td>\n",
       "      <td>...</td>\n",
       "      <td>0.003817</td>\n",
       "      <td>1150.58</td>\n",
       "      <td>1111.02</td>\n",
       "      <td>1119.80</td>\n",
       "      <td>1141.80</td>\n",
       "      <td>None</td>\n",
       "      <td>None</td>\n",
       "      <td>1.9946</td>\n",
       "      <td>1.0000</td>\n",
       "      <td>{'day': 'https://t1.daumcdn.net/finance/chart/...</td>\n",
       "    </tr>\n",
       "    <tr>\n",
       "      <th>1</th>\n",
       "      <td>FRX.KRWJPY</td>\n",
       "      <td>2020-10-28 15:09:13</td>\n",
       "      <td>JPY</td>\n",
       "      <td>엔</td>\n",
       "      <td>100</td>\n",
       "      <td>일본</td>\n",
       "      <td>{'korName': '아시아', 'engName': 'Asia'}</td>\n",
       "      <td>일본 (KRW/JPY100)</td>\n",
       "      <td>211</td>\n",
       "      <td>1084.91</td>\n",
       "      <td>...</td>\n",
       "      <td>0.008056</td>\n",
       "      <td>1103.89</td>\n",
       "      <td>1065.93</td>\n",
       "      <td>1074.28</td>\n",
       "      <td>1095.54</td>\n",
       "      <td>None</td>\n",
       "      <td>None</td>\n",
       "      <td>1.8913</td>\n",
       "      <td>0.9594</td>\n",
       "      <td>{'day': 'https://t1.daumcdn.net/finance/chart/...</td>\n",
       "    </tr>\n",
       "  </tbody>\n",
       "</table>\n",
       "<p>2 rows × 22 columns</p>\n",
       "</div>"
      ],
      "text/plain": [
       "   symbolCode                 date currencyCode currencyName  currencyUnit  \\\n",
       "0  FRX.KRWUSD  2020-10-28 15:09:14          USD           달러             1   \n",
       "1  FRX.KRWJPY  2020-10-28 15:09:13          JPY            엔           100   \n",
       "\n",
       "  country                                     region             name  \\\n",
       "0      미국  {'korName': '아메리카', 'engName': 'America'}     미국 (KRW/USD)   \n",
       "1      일본      {'korName': '아시아', 'engName': 'Asia'}  일본 (KRW/JPY100)   \n",
       "\n",
       "   recurrenceCount  basePrice  ... changeRate  cashBuyingPrice  \\\n",
       "0              211    1130.80  ...   0.003817          1150.58   \n",
       "1              211    1084.91  ...   0.008056          1103.89   \n",
       "\n",
       "   cashSellingPrice  ttBuyingPrice  ttSellingPrice  tcBuyingPrice  \\\n",
       "0           1111.02        1119.80         1141.80           None   \n",
       "1           1065.93        1074.28         1095.54           None   \n",
       "\n",
       "   fcSellingPrice exchangeCommission usDollarRate  \\\n",
       "0            None             1.9946       1.0000   \n",
       "1            None             1.8913       0.9594   \n",
       "\n",
       "                                       chartImageUrl  \n",
       "0  {'day': 'https://t1.daumcdn.net/finance/chart/...  \n",
       "1  {'day': 'https://t1.daumcdn.net/finance/chart/...  \n",
       "\n",
       "[2 rows x 22 columns]"
      ]
     },
     "execution_count": 13,
     "metadata": {},
     "output_type": "execute_result"
    }
   ],
   "source": [
    "data = response.json()['data']\n",
    "result_df=pd.DataFrame(data)\n",
    "result_df.head(2)"
   ]
  },
  {
   "cell_type": "code",
   "execution_count": null,
   "metadata": {},
   "outputs": [],
   "source": []
  },
  {
   "cell_type": "code",
   "execution_count": null,
   "metadata": {},
   "outputs": [],
   "source": []
  },
  {
   "cell_type": "code",
   "execution_count": null,
   "metadata": {},
   "outputs": [],
   "source": []
  },
  {
   "cell_type": "code",
   "execution_count": null,
   "metadata": {},
   "outputs": [],
   "source": []
  },
  {
   "cell_type": "code",
   "execution_count": null,
   "metadata": {},
   "outputs": [],
   "source": []
  },
  {
   "cell_type": "code",
   "execution_count": null,
   "metadata": {},
   "outputs": [],
   "source": []
  },
  {
   "cell_type": "code",
   "execution_count": null,
   "metadata": {},
   "outputs": [],
   "source": []
  }
 ],
 "metadata": {
  "kernelspec": {
   "display_name": "Python 3",
   "language": "python",
   "name": "python3"
  },
  "language_info": {
   "codemirror_mode": {
    "name": "ipython",
    "version": 3
   },
   "file_extension": ".py",
   "mimetype": "text/x-python",
   "name": "python",
   "nbconvert_exporter": "python",
   "pygments_lexer": "ipython3",
   "version": "3.8.3"
  }
 },
 "nbformat": 4,
 "nbformat_minor": 4
}
