{
 "cells": [
  {
   "cell_type": "code",
   "execution_count": 34,
   "metadata": {},
   "outputs": [],
   "source": [
    "import requests\n",
    "from selenium import webdriver\n",
    "from bs4 import BeautifulSoup\n"
   ]
  },
  {
   "cell_type": "code",
   "execution_count": 5,
   "metadata": {},
   "outputs": [],
   "source": [
    "category2={\n",
    "    100: \"정치\",\n",
    "    101: \"경제\",\n",
    "    102: \"사회\",\n",
    "    103: \"생활/문화\",\n",
    "    104: \"세계\",\n",
    "    105: \"IT/과학\",\n",
    "}"
   ]
  },
  {
   "cell_type": "code",
   "execution_count": 96,
   "metadata": {},
   "outputs": [],
   "source": [
    "categories = [\"society\", \"politics\", \"economic\", \"foreign\", \"culture\", \"entertain\", \"sports\", \"digital\"]"
   ]
  },
  {
   "cell_type": "code",
   "execution_count": 41,
   "metadata": {},
   "outputs": [],
   "source": [
    "category, date, page = \"digital\", 20201108, 1\n",
    "\n",
    "url = \"https://news.daum.net/breakingnews/{}?page={}&regDate={}\".format(category, page, date)"
   ]
  },
  {
   "cell_type": "code",
   "execution_count": 42,
   "metadata": {},
   "outputs": [],
   "source": [
    "driver = webdriver.Chrome()\n",
    "driver.get(url)"
   ]
  },
  {
   "cell_type": "code",
   "execution_count": 52,
   "metadata": {},
   "outputs": [
    {
     "data": {
      "text/plain": [
       "15"
      ]
     },
     "execution_count": 52,
     "metadata": {},
     "output_type": "execute_result"
    }
   ],
   "source": [
    "articles = driver.find_elements_by_css_selector(\n",
    "    \"div.box_etc > ul > li > div > strong > a\")\n",
    "len(articles)\n",
    "#mArticle > div.box_etc > ul > li:nth-child(1) > div > strong > a"
   ]
  },
  {
   "cell_type": "code",
   "execution_count": 54,
   "metadata": {},
   "outputs": [
    {
     "data": {
      "text/plain": [
       "'펀진, 인식률 99.97% 얼굴인식 알고리즘 KISA 인증 획득'"
      ]
     },
     "execution_count": 54,
     "metadata": {},
     "output_type": "execute_result"
    }
   ],
   "source": [
    "articles[1].text"
   ]
  },
  {
   "cell_type": "code",
   "execution_count": 55,
   "metadata": {},
   "outputs": [
    {
     "data": {
      "text/plain": [
       "('DIP-경북대, 빅데이터 생태계 활성화 협약', 'https://v.daum.net/v/20201108220118834')"
      ]
     },
     "execution_count": 55,
     "metadata": {},
     "output_type": "execute_result"
    }
   ],
   "source": [
    "title = articles[0].text\n",
    "link = articles[0].get_attribute(\"href\")\n",
    "\n",
    "title, link"
   ]
  },
  {
   "cell_type": "code",
   "execution_count": 66,
   "metadata": {},
   "outputs": [],
   "source": [
    "ls = []\n",
    "for article in articles:\n",
    "    ls.append({\n",
    "        \"title\": article.text,\n",
    "        \"link\": article.get_attribute(\"href\"),\n",
    "    })\n",
    "    \n",
    "main_df = pd.DataFrame(ls)"
   ]
  },
  {
   "cell_type": "code",
   "execution_count": 74,
   "metadata": {},
   "outputs": [
    {
     "data": {
      "text/plain": [
       "'https://v.daum.net/v/20201108214201628'"
      ]
     },
     "execution_count": 74,
     "metadata": {},
     "output_type": "execute_result"
    }
   ],
   "source": [
    "main_df[\"link\"][3]"
   ]
  },
  {
   "cell_type": "code",
   "execution_count": 85,
   "metadata": {},
   "outputs": [
    {
     "data": {
      "text/plain": [
       "<Response [200]>"
      ]
     },
     "execution_count": 85,
     "metadata": {},
     "output_type": "execute_result"
    }
   ],
   "source": [
    "response = requests.get(main_df[\"link\"][5])\n",
    "response"
   ]
  },
  {
   "cell_type": "code",
   "execution_count": 86,
   "metadata": {},
   "outputs": [
    {
     "data": {
      "text/plain": [
       "'[경향신문] 조 바이든 미국 민주당 대선후보가 2020년 미 대선에서 승리하며 미국 ‘빅테크 업계’가 긴장하고 있다. 바이든 당선자가 이끌 미국의 새 행정부가 정보기술(IT) 대기업들에 대한 반독점 정책을 강화해 규제가 강화될 것이라는 우려가 큰 상황에서 민주당이 실리콘밸리와 돈독한 관계를 유지해온 만큼 최악의 상황까지는 가지 않을 것이라는 일말의 기대도 제기된다. 바이든 당선자가 주요 공약으로 내세운 법인세 강화도 거대 ‘IT 공룡’들엔 악재가 될 것으로 전망된다.8일 제46대 미국 대통령에 바이든 후보가 당선되면서 전통적으로 민주당을 지지해온 미국 IT업계가 들썩이고 있다. 가장 관심이 모아지는 이슈는 구글·페이스북·아마존·애플 등 IT ‘빅4’ 기업들에 대한 반독점 규제다.바이든 당선자가 이끄는 민주당은 거대 IT 기업들의 반독점 이슈를 눈여겨보고 있다. 지난달 미국 하원 법사위원회 소속 반독점위원회는 구글·애플·페이스북·아마존의 영향력 남용과 거대 플랫폼의 구조적 분리, 반독점법 강화 등을 담은 보고서를 내놨다. 바이든 당선자 역시 과거 언론 인터뷰에서 페이스북 등 실리콘밸리의 거대 IT 기업 해체 논의에 대해 면밀히 검토해봐야 할 문제라고 언급하는 등 IT 공룡들에 대한 반독점 규제를 지지해왔다. 여기에 코로나19로 빈익빈 부익부가 심화되는 상황에서 빅테크 기업들이 부를 독점하는 대상으로 인식되면서 새로 출범할 바이든 행정부가 이들 기업에 대한 규제 강도를 높일 것이라는 관측이 나온다.인터넷 기업들의 책임도 강화될 것으로 전망된다. 바이든 당선자는 올 1월 뉴욕타임스 인터뷰에서 온라인 플랫폼 기업이 이용자가 올린 게시물에 대한 법적 책임을 면제받도록 하는 ‘통신품위법(CDA) 230조’를 폐지해야 한다고 주장했다. 기존에는 구글과 페이스북 등 소셜미디어를 운영하는 기업들이 자사 플랫폼에 게재되는 허위 또는 명예훼손 콘텐츠에 대한 책임을 지지 않았지만 향후 면책 범위가 축소되면 가짜뉴스와 명예훼손성 게시글에 대한 소셜 기업들의 책임 부담이 발생할 수 있다.거대 IT 기업들에 실질적으로 가장 큰 영향이 있을 것으로 보이는 정책은 법인세다. 바이든 당선자는 법인세 최고 세율을 21%에서 28%로 올리고 기업들의 국외 소득에 대한 증세를 추진하겠다고 공언했다. 뱅크오브아메리카 글로벌리서치에 따르면 ‘바이든표’ 법인세 인상으로 IT, 통신서비스 분야 기업들의 수익이 10% 이상 줄어들 것으로 보인다. 특히 IT 기업들은 국외 매출의 비중이 높아 다른 업종보다 타격이 클 것으로 전망된다.바이든 당선자는 또한 1억달러 이상 수입을 가진 기업들에 대해 15% 최소 세금을 별도로 과세한다는 방침도 밝힌 바 있다. 이 또한 IT 공룡들의 순이익에 부정적인 영향을 미칠 가능성이 높다.다만 바이든 대통령 시대의 IT업계가 우울할 것이라고 단정하기 어렵다는 시각도 있다. 중국과 디지털 패권전쟁을 벌이고 있는 상황에서 미국 토종 IT 기업들의 날개를 꺾는 것이 쉽지 않을 것이라는 이유에서다. 실리콘밸리가 민주당 텃밭인 만큼 IT 공룡들의 기업 분할이라는 가혹한 조치까지는 없을 것이라는 전망도 나온다. 공화당이 상원 다수파를 지켜내며 법인세 인상과 규제 강화에 제동이 걸릴 수 있다는 점도 IT 공룡들엔 긍정적인 요소다.노정연 기자 dana_fm@kyunghyang.com'"
      ]
     },
     "execution_count": 86,
     "metadata": {},
     "output_type": "execute_result"
    }
   ],
   "source": [
    "dom = BeautifulSoup(response.content, \"html.parser\")\n",
    "content = dom.select_one(\"#harmonyContainer > section\").text.replace('\\n', '')\n",
    "#harmonyContainer > section > p:nth-child(2)\n",
    "content"
   ]
  },
  {
   "cell_type": "code",
   "execution_count": 98,
   "metadata": {},
   "outputs": [],
   "source": [
    "def get_articles(category, date, page):\n",
    "    url = \"https://news.daum.net/breakingnews/{}?page={}&regDate={}\".format(category, page, date)\n",
    "    driver = webdriver.Chrome()\n",
    "    driver.get(url)\n",
    "    articles = driver.find_elements_by_css_selector(\"div.box_etc > ul > li > div > strong > a\")\n",
    "    \n",
    "    ls = []\n",
    "    for article in articles:\n",
    "        link = article.get_attribute(\"href\")\n",
    "        response = requests.get(link)\n",
    "        dom = BeautifulSoup(response.content, \"html.parser\")\n",
    "        content = dom.select_one(\"#harmonyContainer > section\").text.replace('\\n', '').replace(\"\\'\", '')\n",
    "        ls.append({\n",
    "            \"title\": article.text,\n",
    "            \"link\": link,\n",
    "            \"content\": content,\n",
    "            \"category\": category,\n",
    "        })\n",
    "    driver.quit()\n",
    "    return pd.DataFrame(ls)"
   ]
  },
  {
   "cell_type": "code",
   "execution_count": 99,
   "metadata": {},
   "outputs": [
    {
     "name": "stdout",
     "output_type": "stream",
     "text": [
      "society 1 2 3 4 5 \n",
      "politics 1 2 3 4 5 \n",
      "economic 1 2 3 4 5 \n",
      "foreign 1 2 3 4 5 \n",
      "culture 1 2 3 4 5 \n",
      "entertain 1 2 3 4 5 \n",
      "sports 1 2 3 4 5 \n",
      "digital 1 2 3 4 5 \n"
     ]
    },
    {
     "data": {
      "text/html": [
       "<div>\n",
       "<style scoped>\n",
       "    .dataframe tbody tr th:only-of-type {\n",
       "        vertical-align: middle;\n",
       "    }\n",
       "\n",
       "    .dataframe tbody tr th {\n",
       "        vertical-align: top;\n",
       "    }\n",
       "\n",
       "    .dataframe thead th {\n",
       "        text-align: right;\n",
       "    }\n",
       "</style>\n",
       "<table border=\"1\" class=\"dataframe\">\n",
       "  <thead>\n",
       "    <tr style=\"text-align: right;\">\n",
       "      <th></th>\n",
       "      <th>title</th>\n",
       "      <th>link</th>\n",
       "      <th>content</th>\n",
       "      <th>category</th>\n",
       "    </tr>\n",
       "  </thead>\n",
       "  <tbody>\n",
       "    <tr>\n",
       "      <th>595</th>\n",
       "      <td>셀트리온 '휴미라' 바이오시밀러, 임상시험서 효과·안전성 입증</td>\n",
       "      <td>https://v.daum.net/v/20201108170902920</td>\n",
       "      <td>셀트리온이 미국 류머티즘학회(ACR)에서 자가면역질환 치료제 휴미라의 바이오시밀러(...</td>\n",
       "      <td>digital</td>\n",
       "    </tr>\n",
       "    <tr>\n",
       "      <th>596</th>\n",
       "      <td>[신SW상품대상추천작]갈래요모빌리티 '갈래요'</td>\n",
       "      <td>https://v.daum.net/v/20201108170115737</td>\n",
       "      <td>갈래요모빌리티(대표 이계혁)는 택시를 이용하는 대리기사 간 온·오프라인연계(O2O)...</td>\n",
       "      <td>digital</td>\n",
       "    </tr>\n",
       "    <tr>\n",
       "      <th>597</th>\n",
       "      <td>[신SW상품대상추천작]이파피루스 '모터센스'</td>\n",
       "      <td>https://v.daum.net/v/20201108170113735</td>\n",
       "      <td>이파피루스(대표 김정희)는 스마트 공장 구축 일환으로 모터 고장을 미리 예측하고 대...</td>\n",
       "      <td>digital</td>\n",
       "    </tr>\n",
       "    <tr>\n",
       "      <th>598</th>\n",
       "      <td>[신SW상품대상추천작]윅스콘 'WG-210'</td>\n",
       "      <td>https://v.daum.net/v/20201108170109731</td>\n",
       "      <td>윅스콘(대표 박태준)은 통신망 장애와 품질 저하 시 자동으로 유·무선 통신망을 전환...</td>\n",
       "      <td>digital</td>\n",
       "    </tr>\n",
       "    <tr>\n",
       "      <th>599</th>\n",
       "      <td>'구글 인앱결제 방지법'에 추가규제 수두룩</td>\n",
       "      <td>https://v.daum.net/v/20201108165905643</td>\n",
       "      <td>이른바 ‘구글 인앱결제 방지법’ 마련을 위한 국회 공청회가 9일 열린다. 여당은 연...</td>\n",
       "      <td>digital</td>\n",
       "    </tr>\n",
       "  </tbody>\n",
       "</table>\n",
       "</div>"
      ],
      "text/plain": [
       "                                  title  \\\n",
       "595  셀트리온 '휴미라' 바이오시밀러, 임상시험서 효과·안전성 입증   \n",
       "596           [신SW상품대상추천작]갈래요모빌리티 '갈래요'   \n",
       "597            [신SW상품대상추천작]이파피루스 '모터센스'   \n",
       "598            [신SW상품대상추천작]윅스콘 'WG-210'   \n",
       "599             '구글 인앱결제 방지법'에 추가규제 수두룩   \n",
       "\n",
       "                                       link  \\\n",
       "595  https://v.daum.net/v/20201108170902920   \n",
       "596  https://v.daum.net/v/20201108170115737   \n",
       "597  https://v.daum.net/v/20201108170113735   \n",
       "598  https://v.daum.net/v/20201108170109731   \n",
       "599  https://v.daum.net/v/20201108165905643   \n",
       "\n",
       "                                               content category  \n",
       "595  셀트리온이 미국 류머티즘학회(ACR)에서 자가면역질환 치료제 휴미라의 바이오시밀러(...  digital  \n",
       "596  갈래요모빌리티(대표 이계혁)는 택시를 이용하는 대리기사 간 온·오프라인연계(O2O)...  digital  \n",
       "597  이파피루스(대표 김정희)는 스마트 공장 구축 일환으로 모터 고장을 미리 예측하고 대...  digital  \n",
       "598  윅스콘(대표 박태준)은 통신망 장애와 품질 저하 시 자동으로 유·무선 통신망을 전환...  digital  \n",
       "599  이른바 ‘구글 인앱결제 방지법’ 마련을 위한 국회 공청회가 9일 열린다. 여당은 연...  digital  "
      ]
     },
     "execution_count": 99,
     "metadata": {},
     "output_type": "execute_result"
    }
   ],
   "source": [
    "dfs = []\n",
    "date = 20201108\n",
    "for category in categories:\n",
    "    print(category, end=' ')\n",
    "    for page in range(1, 6):\n",
    "        print(page, end=' ')\n",
    "        df = get_articles(category, date, page)\n",
    "        dfs.append(df)\n",
    "    print()\n",
    "articles_df = pd.concat(dfs, ignore_index=True)\n",
    "articles_df.tail()"
   ]
  },
  {
   "cell_type": "code",
   "execution_count": 95,
   "metadata": {},
   "outputs": [
    {
     "data": {
      "text/plain": [
       "'            김종인 국민의힘 비대위원장이 지난 6일 오후 서울 마포구 제일라아트홀에서 열린 국민의힘 \\'서울 시민후보 찾기 공청회\\'에서 인사말을 하고 있다.(자료사진) ⓒ데일리안 홍금표 기자           김종인 국민의힘 비상대책위원장이 8일 안철수 국민의당 대표의 신당 창당 제안을 일축했다.김 위원장은 이날 서울 여의도 한 식당에서 중진의원들과의 만찬이 끝난 뒤 기자들과 만나 \"혼자 하면 하는 것이지 어떻게 막겠나. 자기가 (창당) 한다는데\"라고 말했다.앞서 안 대표는 지난 6일국민의힘과 국민의당 의원들이 함께 참여하는 국회의원 연구모임 \\'국민미래포럼\\' 비공개 간담회에서 \"지지 기반을 넓히고 (야권을 향한) 비호감을 줄일 방법의 하나가 새로운 플랫폼, 사실 새로운 정당\"이라고 말한 것으로 전해졌다.김 위원은 내년 4월 보궐선거와 관련해 중진 의원들과 어떤 이야기를 나눴는지를 묻는 질문에는 \"우리가 내년에 보궐선거를 어떻게 대처해야 하는지 의견을 나눴다\"며 \"특별히 당부하거나 한 얘기는 없었다. 총력을 다해서 보궐선거를 맞이해야 한다\"고 답했다.데일리안 이슬기 기자 (seulkee@dailian.co.kr)'"
      ]
     },
     "execution_count": 95,
     "metadata": {},
     "output_type": "execute_result"
    }
   ],
   "source": []
  },
  {
   "cell_type": "code",
   "execution_count": null,
   "metadata": {},
   "outputs": [],
   "source": []
  }
 ],
 "metadata": {
  "kernelspec": {
   "display_name": "Python 3",
   "language": "python",
   "name": "python3"
  },
  "language_info": {
   "codemirror_mode": {
    "name": "ipython",
    "version": 3
   },
   "file_extension": ".py",
   "mimetype": "text/x-python",
   "name": "python",
   "nbconvert_exporter": "python",
   "pygments_lexer": "ipython3",
   "version": "3.8.3"
  }
 },
 "nbformat": 4,
 "nbformat_minor": 4
}
