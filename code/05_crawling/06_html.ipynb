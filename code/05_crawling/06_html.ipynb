{
 "cells": [
  {
   "cell_type": "markdown",
   "metadata": {},
   "source": [
    "### 1. HTML\n",
    "- Hyper Text Markup Language의 약자\n",
    "- 웹 문서를 작성하는 마크업 언어\n",
    "- 웹 페이지를 구성하는 언어\n",
    "    - HTML: 화면의 레이아웃이나 텍스트\n",
    "    - CSS: 화면의 색상 크기등의 스타일을 담당\n",
    "        - css selector 활용하여 다룸\n",
    "    - Javascript: 화면의 클릭, 드래그 등등의 이벤트"
   ]
  },
  {
   "cell_type": "markdown",
   "metadata": {},
   "source": [
    "#### 1-1. HTML의 구성요소\n",
    "- Document: 페이지 전체를 의미\n",
    "- Element: \n",
    "    - 계층적 구조로 이루어져 있으며 모여서 Document를 이룸\n",
    "    - 시작 태그와 끝 태그로 구성\n",
    "        - ex) `<div> ~ </div>`\n",
    "- Tag: \n",
    "    - 시작 태그와 끝 태그로 엘리먼트를 구성\n",
    "    - 시작 태그에는 여러가지 속성값들이 들어있습니다.\n",
    "    - 태그와 태그 사이에는 문자열 데이터를 가질수 있습니다.\n",
    "    - 태그의 이름에 따라서 태그의 목적이 달라집니다.\n",
    "- Attribute\n",
    "    - 시작 태그에 포함되는 속성 값\n",
    "    - id, class: 엘리먼트를 선택하기 위한 목적으로 만들어진 속성값\n",
    "    - 기타 등등\n",
    "-"
   ]
  },
  {
   "cell_type": "code",
   "execution_count": 3,
   "metadata": {},
   "outputs": [
    {
     "data": {
      "text/html": [
       "<div class='wrapper'>\n",
       "    <button id='btn-1' type='button'>HTML 1</button>\n",
       "    <button id='btn-2' type='button' style='color:red'>HTML 2</button>\n",
       "</div>\n"
      ],
      "text/plain": [
       "<IPython.core.display.HTML object>"
      ]
     },
     "metadata": {},
     "output_type": "display_data"
    }
   ],
   "source": [
    "%%html\n",
    "<div class='wrapper'>\n",
    "    <button id='btn-1' type='button'>HTML 1</button>\n",
    "    <button id='btn-2' type='button' style='color:red'>HTML 2</button>\n",
    "</div>"
   ]
  },
  {
   "cell_type": "markdown",
   "metadata": {},
   "source": [
    "#### 1-2 속성값\n",
    "- id: 웹페이지에서 유일한 값\n",
    "- class:\n",
    "    - 웹 페이지 내에서 여러가지의 값 사용이 가능\n",
    "    - 하나의 엘리먼트에 여러가지 값 사용이 가능"
   ]
  },
  {
   "cell_type": "markdown",
   "metadata": {},
   "source": [
    "#### 1-3 태그의 종류\n",
    "- Head: 제목을 나타낼때 사용\n",
    "     - `<h1>...</h1>`: h1 ~ h6, 숫자가 높을수록 글자가 작아짐\n",
    "- p: 한줄의 문자열을 출력하기 위한 태그, `</p>`: \\n\n",
    "- span: 한 블럭의 문자열을 출력, `</span>`: ' '(띄어쓰기)\n",
    "- div: 레이아웃을 나타내는 태그, 가장 많이 사용\n",
    "    - 개발자 모드에서 div묶여있는 것들이 한 레이아웃에 잡힘\n",
    "- table: 로우와 컬럼이 있는 테이블 모양을 나타낼때 사용되는 태그\n",
    "- ul, li: 리스트를 나타내는 태그\n",
    "- a: \n",
    "    - 링크를 출력하는 태그\n",
    "    - href 속성값에 이동할 URL 데이터를 넣습니다.\n",
    "    - target: `_blank` 새 탭에 페이지로 접속, 없으면 현재 페이지로 접속\n",
    "- iframe: 외부 URL 링크의 페이지를 보여주기 위한 태그\n",
    "- input: \n",
    "    - text\n",
    "    - password\n",
    "    - radio\n",
    "        - name =\"\" : name 값을 같게 하면 그룹핑 되어 하나만 체크됨\n",
    "    - checkbox"
   ]
  },
  {
   "cell_type": "code",
   "execution_count": 7,
   "metadata": {},
   "outputs": [
    {
     "data": {
      "text/html": [
       "# head\n",
       "<h1>python</h1>\n",
       "<h6>python</h6>\n"
      ],
      "text/plain": [
       "<IPython.core.display.HTML object>"
      ]
     },
     "metadata": {},
     "output_type": "display_data"
    }
   ],
   "source": [
    "%%html\n",
    "# head\n",
    "<h1>python</h1>\n",
    "<h6>python</h6>"
   ]
  },
  {
   "cell_type": "code",
   "execution_count": 10,
   "metadata": {},
   "outputs": [
    {
     "data": {
      "text/html": [
       "<p>파이썬은재미있습니다.</p1>\n",
       "<p>정말요?</p1>\n"
      ],
      "text/plain": [
       "<IPython.core.display.HTML object>"
      ]
     },
     "metadata": {},
     "output_type": "display_data"
    }
   ],
   "source": [
    "%%html\n",
    "<p>파이썬은재미있습니다.</p1>\n",
    "<p>정말요?</p1>"
   ]
  },
  {
   "cell_type": "code",
   "execution_count": 11,
   "metadata": {},
   "outputs": [
    {
     "data": {
      "text/html": [
       "<span>파이썬은 재미있습니다.</span>\n",
       "<span>정말요?</span>\n"
      ],
      "text/plain": [
       "<IPython.core.display.HTML object>"
      ]
     },
     "metadata": {},
     "output_type": "display_data"
    }
   ],
   "source": [
    "%%html\n",
    "<span>파이썬은 재미있습니다.</span>\n",
    "<span>정말요?</span>"
   ]
  },
  {
   "cell_type": "code",
   "execution_count": 13,
   "metadata": {},
   "outputs": [
    {
     "data": {
      "text/html": [
       "<div>\n",
       "    <p>html 1</p>\n",
       "    <p>html 2</p>\n",
       "</div>\n",
       "<div>\n",
       "    <p>html 3</p>\n",
       "</div>\n"
      ],
      "text/plain": [
       "<IPython.core.display.HTML object>"
      ]
     },
     "metadata": {},
     "output_type": "display_data"
    }
   ],
   "source": [
    "%%html\n",
    "<div>\n",
    "    <p>html 1</p>\n",
    "    <p>html 2</p>\n",
    "</div>\n",
    "<div>\n",
    "    <p>html 3</p>\n",
    "</div>"
   ]
  },
  {
   "cell_type": "code",
   "execution_count": 14,
   "metadata": {},
   "outputs": [
    {
     "data": {
      "text/html": [
       "<table>\n",
       "    <caption>테이블 제목</caption>\n",
       "    <thead>\n",
       "        <tr>\n",
       "            <th>코드</th>\n",
       "            <th>회사명</th>\n",
       "        </tr>\n",
       "    </thead>\n",
       "    <tbody>\n",
       "        <tr>\n",
       "            <td>0001</td>\n",
       "            <td>삼성전자</td>\n",
       "        </tr>\n",
       "        <tr>\n",
       "            <td>0002</td>\n",
       "            <td>SK하이닉스</td>\n",
       "        </tr>\n",
       "    </tbody>\n",
       "</table>\n"
      ],
      "text/plain": [
       "<IPython.core.display.HTML object>"
      ]
     },
     "metadata": {},
     "output_type": "display_data"
    }
   ],
   "source": [
    "%%html\n",
    "<table>\n",
    "    <caption>테이블 제목</caption>\n",
    "    <thead>\n",
    "        <tr>\n",
    "            <th>코드</th>\n",
    "            <th>회사명</th>\n",
    "        </tr>\n",
    "    </thead>\n",
    "    <tbody>\n",
    "        <tr>\n",
    "            <td>0001</td>\n",
    "            <td>삼성전자</td>\n",
    "        </tr>\n",
    "        <tr>\n",
    "            <td>0002</td>\n",
    "            <td>SK하이닉스</td>\n",
    "        </tr>\n",
    "    </tbody>\n",
    "</table>"
   ]
  },
  {
   "cell_type": "code",
   "execution_count": 15,
   "metadata": {},
   "outputs": [
    {
     "data": {
      "text/html": [
       "<ul>\n",
       "    <li>data 1</li>\n",
       "    <li>data 2</li>\n",
       "    <li>data 3</li>\n",
       "</ul>\n"
      ],
      "text/plain": [
       "<IPython.core.display.HTML object>"
      ]
     },
     "metadata": {},
     "output_type": "display_data"
    }
   ],
   "source": [
    "%%html\n",
    "<ul>\n",
    "    <li>data 1</li>\n",
    "    <li>data 2</li>\n",
    "    <li>data 3</li>\n",
    "</ul>"
   ]
  },
  {
   "cell_type": "code",
   "execution_count": 18,
   "metadata": {},
   "outputs": [
    {
     "data": {
      "text/html": [
       "<a href=\"https://www.naver.com\" target=\"_blank\">네이버</a>\n"
      ],
      "text/plain": [
       "<IPython.core.display.HTML object>"
      ]
     },
     "metadata": {},
     "output_type": "display_data"
    }
   ],
   "source": [
    "%%html\n",
    "<a href=\"https://www.naver.com\" target=\"_blank\">네이버</a>"
   ]
  },
  {
   "cell_type": "code",
   "execution_count": 21,
   "metadata": {},
   "outputs": [
    {
     "data": {
      "text/html": [
       "<img class=\"mt-2 mb-2\" src=\"/images/navbar_beta_logo.png\">\n"
      ],
      "text/plain": [
       "<IPython.core.display.HTML object>"
      ]
     },
     "metadata": {},
     "output_type": "display_data"
    }
   ],
   "source": [
    "%%html\n",
    "<img class=\"mt-2 mb-2\" src=\"/images/navbar_beta_logo.png\">"
   ]
  },
  {
   "cell_type": "code",
   "execution_count": 26,
   "metadata": {},
   "outputs": [
    {
     "data": {
      "text/html": [
       "<iframe src=\"http://www.gukbi.com/Course/View.asp?idx=53599\" width=\"100%\" height=\"400px;\"></iframe>\n"
      ],
      "text/plain": [
       "<IPython.core.display.HTML object>"
      ]
     },
     "metadata": {},
     "output_type": "display_data"
    }
   ],
   "source": [
    "%%html\n",
    "<iframe src=\"http://www.gukbi.com/Course/View.asp?idx=53599\" width=\"100%\" height=\"400px;\"></iframe>"
   ]
  },
  {
   "cell_type": "code",
   "execution_count": 28,
   "metadata": {},
   "outputs": [
    {
     "data": {
      "text/html": [
       "<input type=\"text\"></input>\n",
       "<input type=\"password\" placeholder=\"비밀번호\"></input>\n",
       "<input type=\"radio\" name=\"data\">radio 1</input>\n",
       "<input type=\"radio\" name=\"data\">radio 2</input>\n",
       "<input type=\"checkbox\">checkbox 1</input>\n"
      ],
      "text/plain": [
       "<IPython.core.display.HTML object>"
      ]
     },
     "metadata": {},
     "output_type": "display_data"
    }
   ],
   "source": [
    "%%html\n",
    "<input type=\"text\"></input>\n",
    "<input type=\"password\" placeholder=\"비밀번호\"></input>\n",
    "<input type=\"radio\" name=\"data\">radio 1</input>\n",
    "<input type=\"radio\" name=\"data\">radio 2</input>\n",
    "<input type=\"checkbox\">checkbox 1</input>"
   ]
  },
  {
   "cell_type": "markdown",
   "metadata": {},
   "source": [
    "#### 1-3-2 태그의 종류\n",
    "- select, option: 옵션을 선택할 수 있는 드랍다운 형태의 태그"
   ]
  },
  {
   "cell_type": "code",
   "execution_count": 29,
   "metadata": {},
   "outputs": [
    {
     "data": {
      "text/html": [
       "<select>\n",
       "    <option>data 1</option>\n",
       "    <option>data 2</option>\n",
       "</select>\n"
      ],
      "text/plain": [
       "<IPython.core.display.HTML object>"
      ]
     },
     "metadata": {},
     "output_type": "display_data"
    }
   ],
   "source": [
    "%%html\n",
    "<select>\n",
    "    <option>data 1</option>\n",
    "    <option>data 2</option>\n",
    "</select>"
   ]
  },
  {
   "cell_type": "code",
   "execution_count": null,
   "metadata": {},
   "outputs": [],
   "source": []
  },
  {
   "cell_type": "code",
   "execution_count": null,
   "metadata": {},
   "outputs": [],
   "source": []
  },
  {
   "cell_type": "code",
   "execution_count": null,
   "metadata": {},
   "outputs": [],
   "source": []
  },
  {
   "cell_type": "code",
   "execution_count": null,
   "metadata": {},
   "outputs": [],
   "source": []
  },
  {
   "cell_type": "code",
   "execution_count": null,
   "metadata": {},
   "outputs": [],
   "source": []
  },
  {
   "cell_type": "code",
   "execution_count": null,
   "metadata": {},
   "outputs": [],
   "source": []
  },
  {
   "cell_type": "code",
   "execution_count": null,
   "metadata": {},
   "outputs": [],
   "source": []
  },
  {
   "cell_type": "code",
   "execution_count": null,
   "metadata": {},
   "outputs": [],
   "source": []
  },
  {
   "cell_type": "code",
   "execution_count": null,
   "metadata": {},
   "outputs": [],
   "source": []
  }
 ],
 "metadata": {
  "kernelspec": {
   "display_name": "Python 3",
   "language": "python",
   "name": "python3"
  },
  "language_info": {
   "codemirror_mode": {
    "name": "ipython",
    "version": 3
   },
   "file_extension": ".py",
   "mimetype": "text/x-python",
   "name": "python",
   "nbconvert_exporter": "python",
   "pygments_lexer": "ipython3",
   "version": "3.8.3"
  }
 },
 "nbformat": 4,
 "nbformat_minor": 4
}
