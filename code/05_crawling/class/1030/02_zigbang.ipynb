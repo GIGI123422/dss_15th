{
 "cells": [
  {
   "cell_type": "markdown",
   "metadata": {},
   "source": [
    "### Zigbang\n",
    "- 동이름 입력하면 원룸 매물정보 가져오기\n",
    "- !pip install geohash2\n",
    "- 절차\n",
    "    - 1. 동이름 > 위도, 경도\n",
    "    - 2. 위도, 경도 > geohash\n",
    "    - 3. geohash > item_ids\n",
    "    - 4. item_ids > item datas"
   ]
  },
  {
   "cell_type": "code",
   "execution_count": 2,
   "metadata": {},
   "outputs": [],
   "source": [
    "import geohash2"
   ]
  },
  {
   "cell_type": "code",
   "execution_count": 3,
   "metadata": {},
   "outputs": [],
   "source": [
    "# 동이름 > 위도, 경도\n",
    "\n",
    "addr = \"신길동\"\n",
    "url = \"https://apis.zigbang.com/v2/search?q={}&serviceType=원룸\".format(addr)\n",
    "response = requests.get(url)\n",
    "data = response.json()[\"items\"][1]\n",
    "lat, lng = data[\"lat\"], data[\"lng\"]\n",
    "lat, lng"
   ]
  },
  {
   "cell_type": "code",
   "execution_count": null,
   "metadata": {},
   "outputs": [],
   "source": [
    "# 2. 위도, 경도 > geohash"
   ]
  },
  {
   "cell_type": "code",
   "execution_count": 16,
   "metadata": {},
   "outputs": [
    {
     "data": {
      "text/plain": [
       "'wydm2'"
      ]
     },
     "execution_count": 16,
     "metadata": {},
     "output_type": "execute_result"
    }
   ],
   "source": [
    "geohash = geohash2.encode(lat, lng, 5)\n",
    "geohash"
   ]
  },
  {
   "cell_type": "code",
   "execution_count": null,
   "metadata": {},
   "outputs": [],
   "source": [
    "# 3. geohash > item_ids"
   ]
  },
  {
   "cell_type": "code",
   "execution_count": 17,
   "metadata": {},
   "outputs": [
    {
     "data": {
      "text/plain": [
       "<Response [200]>"
      ]
     },
     "execution_count": 17,
     "metadata": {},
     "output_type": "execute_result"
    }
   ],
   "source": [
    "url = \"https://apis.zigbang.com/v2/items?deposit_gteq=0&domain=zigbang&geohash={}\\\n",
    "&rent_gteq=0&sales_type_in=전세|월세&service_type_eq=원룸\".format(geohash)\n",
    "response = requests.get(url)\n",
    "response"
   ]
  },
  {
   "cell_type": "code",
   "execution_count": 21,
   "metadata": {},
   "outputs": [
    {
     "data": {
      "text/plain": [
       "(1553, [24187857, 24385765, 24500582])"
      ]
     },
     "execution_count": 21,
     "metadata": {},
     "output_type": "execute_result"
    }
   ],
   "source": [
    "datas = response.json()[\"items\"]\n",
    "ids = [data[\"item_id\"] for data in datas]\n",
    "len(ids), ids[:3]"
   ]
  },
  {
   "cell_type": "code",
   "execution_count": null,
   "metadata": {},
   "outputs": [],
   "source": [
    "# 4. item_ids > item datas"
   ]
  },
  {
   "cell_type": "code",
   "execution_count": 33,
   "metadata": {},
   "outputs": [
    {
     "data": {
      "text/plain": [
       "<Response [200]>"
      ]
     },
     "execution_count": 33,
     "metadata": {},
     "output_type": "execute_result"
    }
   ],
   "source": [
    "# 포스터 방식에서 쿼리문은 params로 추가해줌\n",
    "params={\n",
    "    \"domain\": \"zigbang\",\n",
    "    \"item_ids\": ids[:100],\n",
    "    \"withCoalition\": \"true\",\n",
    "}\n",
    "url = \"https://apis.zigbang.com/v2/items/list\"\n",
    "\n",
    "response = requests.post(url, data=params)\n",
    "response"
   ]
  },
  {
   "cell_type": "code",
   "execution_count": 34,
   "metadata": {},
   "outputs": [
    {
     "data": {
      "text/plain": [
       "{'section_type': None,\n",
       " 'item_id': 24187857,\n",
       " 'images_thumbnail': 'https://ic.zigbang.com/ic/items/24187857/1.jpg',\n",
       " 'sales_type': '월세',\n",
       " 'sales_title': '월세',\n",
       " 'deposit': 200,\n",
       " 'rent': 38,\n",
       " 'size_m2': 23.14,\n",
       " '공급면적': {'m2': 23.14, 'p': '7'},\n",
       " '전용면적': {'m2': 23.14, 'p': '7'},\n",
       " '계약면적': None,\n",
       " 'room_type_title': None,\n",
       " 'floor': '3',\n",
       " 'floor_string': '3',\n",
       " 'building_floor': '5',\n",
       " 'title': '남향/애견/단기/가능한 참 착한방 (English)',\n",
       " 'is_first_movein': None,\n",
       " 'room_type': '01',\n",
       " 'address': '관악구 봉천동',\n",
       " 'random_location': {'lat': 37.48511192926532, 'lng': 126.93509195966001},\n",
       " 'is_zzim': False,\n",
       " 'status': True,\n",
       " 'service_type': '원룸',\n",
       " 'tags': [],\n",
       " 'address1': '서울시 관악구 봉천동',\n",
       " 'address2': None,\n",
       " 'address3': None,\n",
       " 'manage_cost': '6',\n",
       " 'reg_date': '2020-10-19T23:22:30+09:00',\n",
       " 'is_new': False}"
      ]
     },
     "execution_count": 34,
     "metadata": {},
     "output_type": "execute_result"
    }
   ],
   "source": [
    "items = response.json()[\"items\"]\n",
    "items[0]"
   ]
  },
  {
   "cell_type": "code",
   "execution_count": 35,
   "metadata": {},
   "outputs": [
    {
     "data": {
      "text/html": [
       "<div>\n",
       "<style scoped>\n",
       "    .dataframe tbody tr th:only-of-type {\n",
       "        vertical-align: middle;\n",
       "    }\n",
       "\n",
       "    .dataframe tbody tr th {\n",
       "        vertical-align: top;\n",
       "    }\n",
       "\n",
       "    .dataframe thead th {\n",
       "        text-align: right;\n",
       "    }\n",
       "</style>\n",
       "<table border=\"1\" class=\"dataframe\">\n",
       "  <thead>\n",
       "    <tr style=\"text-align: right;\">\n",
       "      <th></th>\n",
       "      <th>address</th>\n",
       "      <th>address1</th>\n",
       "      <th>address2</th>\n",
       "      <th>address3</th>\n",
       "      <th>building_floor</th>\n",
       "      <th>deposit</th>\n",
       "      <th>floor</th>\n",
       "      <th>floor_string</th>\n",
       "      <th>images_thumbnail</th>\n",
       "      <th>is_first_movein</th>\n",
       "      <th>...</th>\n",
       "      <th>sales_type</th>\n",
       "      <th>section_type</th>\n",
       "      <th>service_type</th>\n",
       "      <th>size_m2</th>\n",
       "      <th>status</th>\n",
       "      <th>tags</th>\n",
       "      <th>title</th>\n",
       "      <th>계약면적</th>\n",
       "      <th>공급면적</th>\n",
       "      <th>전용면적</th>\n",
       "    </tr>\n",
       "  </thead>\n",
       "  <tbody>\n",
       "    <tr>\n",
       "      <th>96</th>\n",
       "      <td>관악구 봉천동</td>\n",
       "      <td>서울시 관악구 봉천동</td>\n",
       "      <td>None</td>\n",
       "      <td>None</td>\n",
       "      <td>4</td>\n",
       "      <td>5000</td>\n",
       "      <td>1</td>\n",
       "      <td>1</td>\n",
       "      <td>https://ic.zigbang.com/ic/items/24553632/1.jpg</td>\n",
       "      <td>None</td>\n",
       "      <td>...</td>\n",
       "      <td>전세</td>\n",
       "      <td>None</td>\n",
       "      <td>원룸</td>\n",
       "      <td>21.49</td>\n",
       "      <td>True</td>\n",
       "      <td>[추천]</td>\n",
       "      <td>🌞서울대입구역🌞저렴한풀옵션원룸전세🌞사이즈굳굳🌞</td>\n",
       "      <td>None</td>\n",
       "      <td>{'m2': 21.49, 'p': '6.5'}</td>\n",
       "      <td>{'m2': 21.49, 'p': '6.5'}</td>\n",
       "    </tr>\n",
       "    <tr>\n",
       "      <th>97</th>\n",
       "      <td>관악구 신림동</td>\n",
       "      <td>서울시 관악구 신림동</td>\n",
       "      <td>None</td>\n",
       "      <td>None</td>\n",
       "      <td>6</td>\n",
       "      <td>100</td>\n",
       "      <td>1</td>\n",
       "      <td>1</td>\n",
       "      <td>https://ic.zigbang.com/ic/items/24536115/1.jpg</td>\n",
       "      <td>None</td>\n",
       "      <td>...</td>\n",
       "      <td>월세</td>\n",
       "      <td>None</td>\n",
       "      <td>원룸</td>\n",
       "      <td>18.00</td>\n",
       "      <td>True</td>\n",
       "      <td>[추천]</td>\n",
       "      <td>@초 저가 역세권원룸@ 이쁘고 깔끔하고 안전하기까지!!</td>\n",
       "      <td>None</td>\n",
       "      <td>{'m2': 18, 'p': '5.4'}</td>\n",
       "      <td>{'m2': 18, 'p': '5.4'}</td>\n",
       "    </tr>\n",
       "    <tr>\n",
       "      <th>98</th>\n",
       "      <td>관악구 신림동</td>\n",
       "      <td>서울시 관악구 신림동</td>\n",
       "      <td>None</td>\n",
       "      <td>None</td>\n",
       "      <td>8</td>\n",
       "      <td>7000</td>\n",
       "      <td>6</td>\n",
       "      <td>6</td>\n",
       "      <td>https://ic.zigbang.com/ic/items/24517748/1.jpg</td>\n",
       "      <td>None</td>\n",
       "      <td>...</td>\n",
       "      <td>월세</td>\n",
       "      <td>None</td>\n",
       "      <td>원룸</td>\n",
       "      <td>21.49</td>\n",
       "      <td>True</td>\n",
       "      <td>[추천]</td>\n",
       "      <td>★무융자 건물★ -청년대출 가능-</td>\n",
       "      <td>None</td>\n",
       "      <td>{'m2': 21.49, 'p': '6.5'}</td>\n",
       "      <td>{'m2': 21.49, 'p': '6.5'}</td>\n",
       "    </tr>\n",
       "    <tr>\n",
       "      <th>99</th>\n",
       "      <td>관악구 신림동</td>\n",
       "      <td>서울시 관악구 신림동</td>\n",
       "      <td>None</td>\n",
       "      <td>None</td>\n",
       "      <td>10</td>\n",
       "      <td>8000</td>\n",
       "      <td>7</td>\n",
       "      <td>7</td>\n",
       "      <td>https://ic.zigbang.com/ic/items/24219502/1.jpg</td>\n",
       "      <td>None</td>\n",
       "      <td>...</td>\n",
       "      <td>월세</td>\n",
       "      <td>None</td>\n",
       "      <td>원룸</td>\n",
       "      <td>31.23</td>\n",
       "      <td>True</td>\n",
       "      <td>[추천]</td>\n",
       "      <td>💕신림역 도보 2분!💕대출로 고민하지마시고 월세오세요!</td>\n",
       "      <td>None</td>\n",
       "      <td>{'m2': 31.23, 'p': '9.4'}</td>\n",
       "      <td>{'m2': 31.23, 'p': '9.4'}</td>\n",
       "    </tr>\n",
       "  </tbody>\n",
       "</table>\n",
       "<p>4 rows × 30 columns</p>\n",
       "</div>"
      ],
      "text/plain": [
       "    address     address1 address2 address3 building_floor  deposit floor  \\\n",
       "96  관악구 봉천동  서울시 관악구 봉천동     None     None              4     5000     1   \n",
       "97  관악구 신림동  서울시 관악구 신림동     None     None              6      100     1   \n",
       "98  관악구 신림동  서울시 관악구 신림동     None     None              8     7000     6   \n",
       "99  관악구 신림동  서울시 관악구 신림동     None     None             10     8000     7   \n",
       "\n",
       "   floor_string                                images_thumbnail  \\\n",
       "96            1  https://ic.zigbang.com/ic/items/24553632/1.jpg   \n",
       "97            1  https://ic.zigbang.com/ic/items/24536115/1.jpg   \n",
       "98            6  https://ic.zigbang.com/ic/items/24517748/1.jpg   \n",
       "99            7  https://ic.zigbang.com/ic/items/24219502/1.jpg   \n",
       "\n",
       "   is_first_movein  ...  sales_type  section_type  service_type size_m2  \\\n",
       "96            None  ...          전세          None            원룸   21.49   \n",
       "97            None  ...          월세          None            원룸   18.00   \n",
       "98            None  ...          월세          None            원룸   21.49   \n",
       "99            None  ...          월세          None            원룸   31.23   \n",
       "\n",
       "   status  tags                           title  계약면적  \\\n",
       "96   True  [추천]       🌞서울대입구역🌞저렴한풀옵션원룸전세🌞사이즈굳굳🌞  None   \n",
       "97   True  [추천]  @초 저가 역세권원룸@ 이쁘고 깔끔하고 안전하기까지!!  None   \n",
       "98   True  [추천]              ★무융자 건물★ -청년대출 가능-  None   \n",
       "99   True  [추천]  💕신림역 도보 2분!💕대출로 고민하지마시고 월세오세요!  None   \n",
       "\n",
       "                         공급면적                       전용면적  \n",
       "96  {'m2': 21.49, 'p': '6.5'}  {'m2': 21.49, 'p': '6.5'}  \n",
       "97     {'m2': 18, 'p': '5.4'}     {'m2': 18, 'p': '5.4'}  \n",
       "98  {'m2': 21.49, 'p': '6.5'}  {'m2': 21.49, 'p': '6.5'}  \n",
       "99  {'m2': 31.23, 'p': '9.4'}  {'m2': 31.23, 'p': '9.4'}  \n",
       "\n",
       "[4 rows x 30 columns]"
      ]
     },
     "execution_count": 35,
     "metadata": {},
     "output_type": "execute_result"
    }
   ],
   "source": [
    "items_df = pd.DataFrame(items)\n",
    "items_df.tail(4)"
   ]
  },
  {
   "cell_type": "code",
   "execution_count": null,
   "metadata": {},
   "outputs": [],
   "source": [
    "# 필요한 컬럼만 필터링 \n",
    "# Pandas는 컬럼이 20개 넘어가면 ...으로 생략함"
   ]
  },
  {
   "cell_type": "code",
   "execution_count": 36,
   "metadata": {},
   "outputs": [],
   "source": [
    "pd.options.display.max_columns = len(items_df)"
   ]
  },
  {
   "cell_type": "code",
   "execution_count": 37,
   "metadata": {},
   "outputs": [
    {
     "data": {
      "text/html": [
       "<div>\n",
       "<style scoped>\n",
       "    .dataframe tbody tr th:only-of-type {\n",
       "        vertical-align: middle;\n",
       "    }\n",
       "\n",
       "    .dataframe tbody tr th {\n",
       "        vertical-align: top;\n",
       "    }\n",
       "\n",
       "    .dataframe thead th {\n",
       "        text-align: right;\n",
       "    }\n",
       "</style>\n",
       "<table border=\"1\" class=\"dataframe\">\n",
       "  <thead>\n",
       "    <tr style=\"text-align: right;\">\n",
       "      <th></th>\n",
       "      <th>address</th>\n",
       "      <th>address1</th>\n",
       "      <th>address2</th>\n",
       "      <th>address3</th>\n",
       "      <th>building_floor</th>\n",
       "      <th>deposit</th>\n",
       "      <th>floor</th>\n",
       "      <th>floor_string</th>\n",
       "      <th>images_thumbnail</th>\n",
       "      <th>is_first_movein</th>\n",
       "      <th>is_new</th>\n",
       "      <th>is_zzim</th>\n",
       "      <th>item_id</th>\n",
       "      <th>manage_cost</th>\n",
       "      <th>random_location</th>\n",
       "      <th>reg_date</th>\n",
       "      <th>rent</th>\n",
       "      <th>room_type</th>\n",
       "      <th>room_type_title</th>\n",
       "      <th>sales_title</th>\n",
       "      <th>sales_type</th>\n",
       "      <th>section_type</th>\n",
       "      <th>service_type</th>\n",
       "      <th>size_m2</th>\n",
       "      <th>status</th>\n",
       "      <th>tags</th>\n",
       "      <th>title</th>\n",
       "      <th>계약면적</th>\n",
       "      <th>공급면적</th>\n",
       "      <th>전용면적</th>\n",
       "    </tr>\n",
       "  </thead>\n",
       "  <tbody>\n",
       "    <tr>\n",
       "      <th>98</th>\n",
       "      <td>관악구 신림동</td>\n",
       "      <td>서울시 관악구 신림동</td>\n",
       "      <td>None</td>\n",
       "      <td>None</td>\n",
       "      <td>8</td>\n",
       "      <td>7000</td>\n",
       "      <td>6</td>\n",
       "      <td>6</td>\n",
       "      <td>https://ic.zigbang.com/ic/items/24517748/1.jpg</td>\n",
       "      <td>None</td>\n",
       "      <td>False</td>\n",
       "      <td>False</td>\n",
       "      <td>24517748</td>\n",
       "      <td>8</td>\n",
       "      <td>{'lat': 37.486098529259436, 'lng': 126.9251824...</td>\n",
       "      <td>2020-10-27T15:44:48+09:00</td>\n",
       "      <td>10</td>\n",
       "      <td>01</td>\n",
       "      <td>None</td>\n",
       "      <td>월세</td>\n",
       "      <td>월세</td>\n",
       "      <td>None</td>\n",
       "      <td>원룸</td>\n",
       "      <td>21.49</td>\n",
       "      <td>True</td>\n",
       "      <td>[추천]</td>\n",
       "      <td>★무융자 건물★ -청년대출 가능-</td>\n",
       "      <td>None</td>\n",
       "      <td>{'m2': 21.49, 'p': '6.5'}</td>\n",
       "      <td>{'m2': 21.49, 'p': '6.5'}</td>\n",
       "    </tr>\n",
       "    <tr>\n",
       "      <th>99</th>\n",
       "      <td>관악구 신림동</td>\n",
       "      <td>서울시 관악구 신림동</td>\n",
       "      <td>None</td>\n",
       "      <td>None</td>\n",
       "      <td>10</td>\n",
       "      <td>8000</td>\n",
       "      <td>7</td>\n",
       "      <td>7</td>\n",
       "      <td>https://ic.zigbang.com/ic/items/24219502/1.jpg</td>\n",
       "      <td>None</td>\n",
       "      <td>False</td>\n",
       "      <td>False</td>\n",
       "      <td>24219502</td>\n",
       "      <td>13</td>\n",
       "      <td>{'lat': 37.485595223836725, 'lng': 126.9309417...</td>\n",
       "      <td>2020-10-05T21:13:47+09:00</td>\n",
       "      <td>20</td>\n",
       "      <td>02</td>\n",
       "      <td>None</td>\n",
       "      <td>월세</td>\n",
       "      <td>월세</td>\n",
       "      <td>None</td>\n",
       "      <td>원룸</td>\n",
       "      <td>31.23</td>\n",
       "      <td>True</td>\n",
       "      <td>[추천]</td>\n",
       "      <td>💕신림역 도보 2분!💕대출로 고민하지마시고 월세오세요!</td>\n",
       "      <td>None</td>\n",
       "      <td>{'m2': 31.23, 'p': '9.4'}</td>\n",
       "      <td>{'m2': 31.23, 'p': '9.4'}</td>\n",
       "    </tr>\n",
       "  </tbody>\n",
       "</table>\n",
       "</div>"
      ],
      "text/plain": [
       "    address     address1 address2 address3 building_floor  deposit floor  \\\n",
       "98  관악구 신림동  서울시 관악구 신림동     None     None              8     7000     6   \n",
       "99  관악구 신림동  서울시 관악구 신림동     None     None             10     8000     7   \n",
       "\n",
       "   floor_string                                images_thumbnail  \\\n",
       "98            6  https://ic.zigbang.com/ic/items/24517748/1.jpg   \n",
       "99            7  https://ic.zigbang.com/ic/items/24219502/1.jpg   \n",
       "\n",
       "   is_first_movein  is_new  is_zzim   item_id manage_cost  \\\n",
       "98            None   False    False  24517748           8   \n",
       "99            None   False    False  24219502          13   \n",
       "\n",
       "                                      random_location  \\\n",
       "98  {'lat': 37.486098529259436, 'lng': 126.9251824...   \n",
       "99  {'lat': 37.485595223836725, 'lng': 126.9309417...   \n",
       "\n",
       "                     reg_date  rent room_type room_type_title sales_title  \\\n",
       "98  2020-10-27T15:44:48+09:00    10        01            None          월세   \n",
       "99  2020-10-05T21:13:47+09:00    20        02            None          월세   \n",
       "\n",
       "   sales_type section_type service_type  size_m2  status  tags  \\\n",
       "98         월세         None           원룸    21.49    True  [추천]   \n",
       "99         월세         None           원룸    31.23    True  [추천]   \n",
       "\n",
       "                             title  계약면적                       공급면적  \\\n",
       "98              ★무융자 건물★ -청년대출 가능-  None  {'m2': 21.49, 'p': '6.5'}   \n",
       "99  💕신림역 도보 2분!💕대출로 고민하지마시고 월세오세요!  None  {'m2': 31.23, 'p': '9.4'}   \n",
       "\n",
       "                         전용면적  \n",
       "98  {'m2': 21.49, 'p': '6.5'}  \n",
       "99  {'m2': 31.23, 'p': '9.4'}  "
      ]
     },
     "execution_count": 37,
     "metadata": {},
     "output_type": "execute_result"
    }
   ],
   "source": [
    "items_df.tail(2)"
   ]
  },
  {
   "cell_type": "code",
   "execution_count": null,
   "metadata": {},
   "outputs": [],
   "source": [
    "# 5. 데이터 전처리"
   ]
  },
  {
   "cell_type": "code",
   "execution_count": 41,
   "metadata": {},
   "outputs": [
    {
     "ename": "SyntaxError",
     "evalue": "invalid syntax (<ipython-input-41-2f1f85b5e19d>, line 6)",
     "output_type": "error",
     "traceback": [
      "\u001b[0;36m  File \u001b[0;32m\"<ipython-input-41-2f1f85b5e19d>\"\u001b[0;36m, line \u001b[0;32m6\u001b[0m\n\u001b[0;31m    result_df.reset_index(drop=True, inplace=True)\u001b[0m\n\u001b[0m            ^\u001b[0m\n\u001b[0;31mSyntaxError\u001b[0m\u001b[0;31m:\u001b[0m invalid syntax\n"
     ]
    }
   ],
   "source": [
    "columns = [\"item_id\", \"sales_type\", \"deposit\", \"rent\", \"size_m2\",\n",
    "          \"floor\", \"building_floor\", \"title\", \"address\",\n",
    "           \"manage_cost\", \"random_location\"]\n",
    "result_df = item_df[columns]\n",
    "result_df = result_df[result_df[\"address\"].str.contains(addr)\n",
    "result_df.reset_index(drop=True, inplace=True)"
   ]
  },
  {
   "cell_type": "code",
   "execution_count": null,
   "metadata": {},
   "outputs": [],
   "source": [
    "result_df = result_df[result_df[\"addr\"]]"
   ]
  },
  {
   "cell_type": "code",
   "execution_count": 39,
   "metadata": {},
   "outputs": [],
   "source": [
    "# 함수로 만들기"
   ]
  },
  {
   "cell_type": "code",
   "execution_count": 40,
   "metadata": {},
   "outputs": [],
   "source": [
    "def crawling_oneroom(addr):\n",
    "    \n",
    "    # 1. 동이름 > 위도, 경도\n",
    "    url = \"https://apis.zigbang.com/v2/search?q={}&serviceType=원룸\".format(addr)\n",
    "    response = requests.get(url)\n",
    "    data = response.json()[\"items\"][0]\n",
    "    lat, lng = data[\"lat\"], data[\"lng\"]\n",
    "    \n",
    "    # 2. 위도, 경도 > geohash\n",
    "    geohash = geohash2.encode(lat, lng, 5)\n",
    "    \n",
    "    # 3. geohash > item_ids\n",
    "    url = \"https://apis.zigbang.com/v2/items?\\\n",
    "deposit_gteq=0&domain=zigbang&geohash={}\\\n",
    "&rent_gteq=0&sales_type_in=전세|월세&service_type_eq=원룸\".format(geohash)\n",
    "    response = requests.get(url)\n",
    "    datas = response.json()[\"items\"]\n",
    "    ids = [data[\"item_id\"] for data in datas]\n",
    "    \n",
    "    # 4. item_ids > item datas\n",
    "    url = \"https://apis.zigbang.com/v2/items/list\"\n",
    "    params = {\n",
    "        \"domain\": \"zigbang\",\n",
    "        \"item_ids\": ids,\n",
    "        \"withCoalition\": \"true\",\n",
    "    }\n",
    "    response = requests.post(url, data=params)\n",
    "    items = response.json()[\"items\"]\n",
    "    item_df = pd.DataFrame(items)\n",
    "    \n",
    "    # 5. 데이터 전처리\n",
    "    columns = [\"item_id\", \"sales_type\", \"deposit\", \"rent\", \"size_m2\",\n",
    "          \"floor\", \"building_floor\", \"title\", \"address\",\n",
    "           \"manage_cost\", \"random_location\"]\n",
    "    result_df = item_df[columns]\n",
    "    result_df = result_df[result_df[\"address\"].str.contains(addr)]\n",
    "    result_df.reset_index(drop=True, inplace=True)\n",
    "    \n",
    "    return result_df"
   ]
  },
  {
   "cell_type": "code",
   "execution_count": null,
   "metadata": {},
   "outputs": [],
   "source": []
  },
  {
   "cell_type": "code",
   "execution_count": null,
   "metadata": {},
   "outputs": [],
   "source": []
  },
  {
   "cell_type": "code",
   "execution_count": null,
   "metadata": {},
   "outputs": [],
   "source": []
  },
  {
   "cell_type": "code",
   "execution_count": null,
   "metadata": {},
   "outputs": [],
   "source": []
  },
  {
   "cell_type": "code",
   "execution_count": null,
   "metadata": {},
   "outputs": [],
   "source": []
  },
  {
   "cell_type": "code",
   "execution_count": null,
   "metadata": {},
   "outputs": [],
   "source": []
  },
  {
   "cell_type": "code",
   "execution_count": null,
   "metadata": {},
   "outputs": [],
   "source": []
  },
  {
   "cell_type": "code",
   "execution_count": null,
   "metadata": {},
   "outputs": [],
   "source": []
  },
  {
   "cell_type": "code",
   "execution_count": null,
   "metadata": {},
   "outputs": [],
   "source": []
  }
 ],
 "metadata": {
  "kernelspec": {
   "display_name": "Python 3",
   "language": "python",
   "name": "python3"
  },
  "language_info": {
   "codemirror_mode": {
    "name": "ipython",
    "version": 3
   },
   "file_extension": ".py",
   "mimetype": "text/x-python",
   "name": "python",
   "nbconvert_exporter": "python",
   "pygments_lexer": "ipython3",
   "version": "3.6.9"
  }
 },
 "nbformat": 4,
 "nbformat_minor": 4
}
