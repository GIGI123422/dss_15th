{
 "cells": [
  {
   "cell_type": "markdown",
   "metadata": {},
   "source": [
    "### xpath"
   ]
  },
  {
   "cell_type": "markdown",
   "metadata": {},
   "source": [
    "#### 기존 방법\n",
    "- 1. 웹 서비스 분석: URL\n",
    "- 2. URL > Request, Response: HTML(str)\n",
    "- 3. HTML(str) > bs_obj(parsing) > bs_obj - css selector : DF\n",
    "- BeautifulSoup: css selector를 사용할수 있는 함수를 제공"
   ]
  },
  {
   "cell_type": "code",
   "execution_count": 2,
   "metadata": {},
   "outputs": [],
   "source": [
    "import scrapy \n",
    "from scrapy.http import TextResponse"
   ]
  },
  {
   "cell_type": "code",
   "execution_count": 3,
   "metadata": {},
   "outputs": [],
   "source": [
    "# 1. URL 분석"
   ]
  },
  {
   "cell_type": "code",
   "execution_count": 6,
   "metadata": {},
   "outputs": [
    {
     "name": "stdout",
     "output_type": "stream",
     "text": [
      "https://search.naver.com/search.naver?where=nexearch&sm=top_hty&fbm=1&ie=utf8&query=삼성전자\n"
     ]
    }
   ],
   "source": [
    "keyword = '삼성전자'\n",
    "url = 'https://search.naver.com/search.naver?where=nexearch&sm=top_hty&fbm=1&ie=utf8&query={}'.format(keyword)\n",
    "print(url)"
   ]
  },
  {
   "cell_type": "code",
   "execution_count": 4,
   "metadata": {},
   "outputs": [],
   "source": [
    "# 2. req, resp"
   ]
  },
  {
   "cell_type": "code",
   "execution_count": 8,
   "metadata": {},
   "outputs": [
    {
     "data": {
      "text/plain": [
       "<Response [200]>"
      ]
     },
     "execution_count": 8,
     "metadata": {},
     "output_type": "execute_result"
    }
   ],
   "source": [
    "resp = requests.get(url)\n",
    "resp"
   ]
  },
  {
   "cell_type": "code",
   "execution_count": 5,
   "metadata": {},
   "outputs": [],
   "source": [
    "# 3. resp -> TextResponse obj -> xpath 사용: DF"
   ]
  },
  {
   "cell_type": "code",
   "execution_count": null,
   "metadata": {},
   "outputs": [],
   "source": []
  },
  {
   "cell_type": "markdown",
   "metadata": {},
   "source": [
    "#### xpath 문법\n",
    "- `//*[@id=\"nx_right_related_keywords\"]/div/div[2]/ul/li[1]`\n",
    "- `//`: 가장 상위 엘리먼트\n",
    "- `*`: 모든 하위 엘리먼트에서 찾음\n",
    "- `[@id=\"nx_right_related_keywords\"]`: 속성값의 키:id, value: nx_right_related_keywords\n",
    "- `/`: 한단계 하위 엘리먼트에서 찾음\n",
    "- `[]`\n",
    "    - 속성값으로 엘리먼트 찾기\n",
    "    - 숫자가 오면 몇 번째 앨리먼트를 의미"
   ]
  },
  {
   "cell_type": "code",
   "execution_count": 9,
   "metadata": {},
   "outputs": [
    {
     "data": {
      "text/plain": [
       "<200 https://search.naver.com/search.naver?where=nexearch&sm=top_hty&fbm=1&ie=utf8&query=%EC%82%BC%EC%84%B1%EC%A0%84%EC%9E%90>"
      ]
     },
     "execution_count": 9,
     "metadata": {},
     "output_type": "execute_result"
    }
   ],
   "source": [
    "tr_obj = TextResponse(resp.url, body=resp.text, encoding='utf-8')\n",
    "tr_obj"
   ]
  },
  {
   "cell_type": "code",
   "execution_count": 10,
   "metadata": {},
   "outputs": [
    {
     "data": {
      "text/plain": [
       "10"
      ]
     },
     "execution_count": 10,
     "metadata": {},
     "output_type": "execute_result"
    }
   ],
   "source": [
    "selector = '//*[@id=\"nx_right_related_keywords\"]/div/div[2]/ul/li'\n",
    "datas = tr_obj.xpath(selector)\n",
    "len(datas)"
   ]
  },
  {
   "cell_type": "code",
   "execution_count": 12,
   "metadata": {},
   "outputs": [
    {
     "data": {
      "text/plain": [
       "(scrapy.selector.unified.Selector,\n",
       " <Selector xpath='//*[@id=\"nx_right_related_keywords\"]/div/div[2]/ul/li' data='<li class=\"item\"> <a class=\"keyword\" ...'>)"
      ]
     },
     "execution_count": 12,
     "metadata": {},
     "output_type": "execute_result"
    }
   ],
   "source": [
    "type(datas[0]), datas[0]"
   ]
  },
  {
   "cell_type": "code",
   "execution_count": 20,
   "metadata": {},
   "outputs": [
    {
     "data": {
      "text/plain": [
       "['삼성전자우']"
      ]
     },
     "execution_count": 20,
     "metadata": {},
     "output_type": "execute_result"
    }
   ],
   "source": [
    "datas[0].xpath('a/div/text()').extract()"
   ]
  },
  {
   "cell_type": "code",
   "execution_count": 22,
   "metadata": {},
   "outputs": [
    {
     "data": {
      "text/plain": [
       "['삼성전자우',\n",
       " '대한항공',\n",
       " '카카오',\n",
       " 'sk하이닉스',\n",
       " '삼성',\n",
       " '현대자동차',\n",
       " '삼성바이오로직스',\n",
       " '하이닉스',\n",
       " '코스피',\n",
       " '셀트리온']"
      ]
     },
     "execution_count": 22,
     "metadata": {},
     "output_type": "execute_result"
    }
   ],
   "source": [
    "# 한번에\n",
    "datas = tr_obj.xpath('//*[@id=\"nx_right_related_keywords\"]/div/div[2]/ul/li/\\\n",
    "                     a/div/text()').extract()\n",
    "datas"
   ]
  },
  {
   "cell_type": "code",
   "execution_count": null,
   "metadata": {},
   "outputs": [],
   "source": []
  }
 ],
 "metadata": {
  "kernelspec": {
   "display_name": "Python 3",
   "language": "python",
   "name": "python3"
  },
  "language_info": {
   "codemirror_mode": {
    "name": "ipython",
    "version": 3
   },
   "file_extension": ".py",
   "mimetype": "text/x-python",
   "name": "python",
   "nbconvert_exporter": "python",
   "pygments_lexer": "ipython3",
   "version": "3.8.3"
  }
 },
 "nbformat": 4,
 "nbformat_minor": 4
}
