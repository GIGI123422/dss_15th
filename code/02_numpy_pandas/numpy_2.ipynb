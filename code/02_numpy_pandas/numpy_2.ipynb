{
 "cells": [
  {
   "cell_type": "markdown",
   "metadata": {},
   "source": [
    "###  Summary\n",
    "- numpy: 선형대수를 빠르게 연산해주는 패키지\n",
    "- 행열의 생성 1: ndarray, np.array(iterable)\n",
    "- 행열의 생성 2: ones, zeros\n",
    "- 행열 데이터 선택: array[x,y,z]\n",
    "- 행열 데이터 수정\n",
    "    - 행열 데이터를 선택\n",
    "    - =,> (값(scalar, vector, matrix))\n",
    "    - 브로드 캐스팅 개념\n",
    "- arange: list에서 사용하는 range, but 결과 type: ndarray"
   ]
  },
  {
   "cell_type": "markdown",
   "metadata": {},
   "source": [
    "### quiz \n",
    "- 100 ~ 130 까지 랜덤한 숫자를 가지는 8*8 행렬을 만들고,\n",
    "- 3의 배수는 fiz, 5의 배수는 buz, 3과 5의 배수는 fbz 문자 변환 \n",
    "- 위의 조건에 맞지 않는 데이터느 ㄴ랜덤하게 생성된 정수로 출력\n",
    "- 랜덤한 행렬 데이터\n",
    "\n",
    "```\n",
    "datas = np.random.randint(100, 130, size=(8, 8))\n",
    "```\n",
    "- 데이터 타입이 정수 -> 문자열: ndarray.astype()"
   ]
  },
  {
   "cell_type": "code",
   "execution_count": 4,
   "metadata": {},
   "outputs": [],
   "source": [
    "import numpy as np"
   ]
  },
  {
   "cell_type": "code",
   "execution_count": 49,
   "metadata": {},
   "outputs": [
    {
     "data": {
      "text/plain": [
       "array([[122, 106, 114, 104, 129, 105, 128, 122],\n",
       "       [103, 106, 111, 105, 108, 119, 117, 106],\n",
       "       [104, 107, 104, 115, 121, 101, 105, 106],\n",
       "       [113, 124, 119, 106, 128, 116, 104, 108],\n",
       "       [111, 102, 106, 129, 106, 118, 122, 124],\n",
       "       [118, 100, 124, 108, 124, 113, 114, 117],\n",
       "       [113, 106, 116, 107, 121, 125, 122, 128],\n",
       "       [121, 113, 109, 102, 102, 110, 105, 123]])"
      ]
     },
     "execution_count": 49,
     "metadata": {},
     "output_type": "execute_result"
    }
   ],
   "source": [
    "datas = np.random.randint(100, 130, (8, 8))\n",
    "datas"
   ]
  },
  {
   "cell_type": "code",
   "execution_count": 50,
   "metadata": {},
   "outputs": [
    {
     "data": {
      "text/plain": [
       "array([1, 3])"
      ]
     },
     "execution_count": 50,
     "metadata": {},
     "output_type": "execute_result"
    }
   ],
   "source": [
    "data1 = np.array([1,2,3])\n",
    "data2 = [True, False, True]\n",
    "data1[data2]"
   ]
  },
  {
   "cell_type": "code",
   "execution_count": 51,
   "metadata": {},
   "outputs": [],
   "source": [
    "# 3의 배수, 5의 배수, 15의 배수 위치값에 대한 T, F matrix 생성\n",
    "# 확인: datas[datas % 3 == 0]\n",
    "idx_3 = datas % 3 == 0\n",
    "idx_5 = datas % 5 == 0\n",
    "idx_15 = datas % 15 == 0"
   ]
  },
  {
   "cell_type": "code",
   "execution_count": 52,
   "metadata": {},
   "outputs": [],
   "source": [
    "# 데이터의 타입을 str로 변환\n",
    "result = datas.astype(\"str\")"
   ]
  },
  {
   "cell_type": "code",
   "execution_count": 53,
   "metadata": {},
   "outputs": [],
   "source": [
    "# T, F matrix를 이용하여 특정 조건의 데이터를 선택 후 브로드 캐스팅하게 값을 대입\n",
    "result[idx_3] = \"fiz\"\n",
    "result[idx_5] = \"buz\"\n",
    "result[idx_15] = \"fbz\""
   ]
  },
  {
   "cell_type": "code",
   "execution_count": 54,
   "metadata": {},
   "outputs": [
    {
     "data": {
      "text/plain": [
       "array([['122', '106', 'fiz', '104', 'fiz', 'fbz', '128', '122'],\n",
       "       ['103', '106', 'fiz', 'fbz', 'fiz', '119', 'fiz', '106'],\n",
       "       ['104', '107', '104', 'buz', '121', '101', 'fbz', '106'],\n",
       "       ['113', '124', '119', '106', '128', '116', '104', 'fiz'],\n",
       "       ['fiz', 'fiz', '106', 'fiz', '106', '118', '122', '124'],\n",
       "       ['118', 'buz', '124', 'fiz', '124', '113', 'fiz', 'fiz'],\n",
       "       ['113', '106', '116', '107', '121', 'buz', '122', '128'],\n",
       "       ['121', '113', '109', 'fiz', 'fiz', 'buz', 'fbz', 'fiz']],\n",
       "      dtype='<U11')"
      ]
     },
     "execution_count": 54,
     "metadata": {},
     "output_type": "execute_result"
    }
   ],
   "source": [
    "result"
   ]
  },
  {
   "cell_type": "markdown",
   "metadata": {},
   "source": [
    "### Quiz\n",
    "- 1~ 20까지 랜덤한 숫자를 가지는 5*5 행렬 생성\n",
    "- 최대값에는 MAX, 최소값에는 MIN 문자열이 들어가도록 치환하는 코드\n",
    "- 최대값과 최소값 함수\n",
    "\n",
    "```\n",
    "np.min(ndarray), np.max(ndarray)\n",
    "```"
   ]
  },
  {
   "cell_type": "code",
   "execution_count": 55,
   "metadata": {},
   "outputs": [],
   "source": [
    "import numpy as np"
   ]
  },
  {
   "cell_type": "code",
   "execution_count": 59,
   "metadata": {},
   "outputs": [
    {
     "data": {
      "text/plain": [
       "array([[ 6, 19,  4, 16,  6],\n",
       "       [10,  1, 12, 16,  3],\n",
       "       [ 2, 10, 14, 12, 18],\n",
       "       [ 6, 12, 19, 14, 13],\n",
       "       [ 1, 18, 13,  2, 17]])"
      ]
     },
     "execution_count": 59,
     "metadata": {},
     "output_type": "execute_result"
    }
   ],
   "source": [
    "datas = np.random.randint(1,20, size=(5,5))\n",
    "datas"
   ]
  },
  {
   "cell_type": "code",
   "execution_count": 67,
   "metadata": {},
   "outputs": [],
   "source": [
    "idx_min, idx_max = datas == np.min(datas), datas == np.max(datas)"
   ]
  },
  {
   "cell_type": "code",
   "execution_count": 68,
   "metadata": {},
   "outputs": [
    {
     "data": {
      "text/plain": [
       "array([['6', '19', '4', '16', '6'],\n",
       "       ['10', '1', '12', '16', '3'],\n",
       "       ['2', '10', '14', '12', '18'],\n",
       "       ['6', '12', '19', '14', '13'],\n",
       "       ['1', '18', '13', '2', '17']], dtype='<U11')"
      ]
     },
     "execution_count": 68,
     "metadata": {},
     "output_type": "execute_result"
    }
   ],
   "source": [
    "result = datas.astype(\"str\")\n",
    "result"
   ]
  },
  {
   "cell_type": "code",
   "execution_count": 69,
   "metadata": {},
   "outputs": [],
   "source": [
    "result[idx_min] = \"MIN\"\n",
    "result[idx_max] = \"MAX\""
   ]
  },
  {
   "cell_type": "code",
   "execution_count": 70,
   "metadata": {},
   "outputs": [
    {
     "data": {
      "text/plain": [
       "array([['6', 'MAX', '4', '16', '6'],\n",
       "       ['10', 'MIN', '12', '16', '3'],\n",
       "       ['2', '10', '14', '12', '18'],\n",
       "       ['6', '12', 'MAX', '14', '13'],\n",
       "       ['MIN', '18', '13', '2', '17']], dtype='<U11')"
      ]
     },
     "execution_count": 70,
     "metadata": {},
     "output_type": "execute_result"
    }
   ],
   "source": [
    "result"
   ]
  },
  {
   "cell_type": "markdown",
   "metadata": {},
   "source": [
    "### 1. linspace, logspace 함수\n",
    "- linspace: 설정한 범위에서 선형적으로 분할한 위치의 값을 출력\n",
    "- logspace: 설정한 범위에서 로그로 분할한 위치의 값을 출력\n",
    "    - `np.logspace(np.log10(age_30), np.log10(age_60), 4)`"
   ]
  },
  {
   "cell_type": "code",
   "execution_count": 71,
   "metadata": {},
   "outputs": [
    {
     "data": {
      "text/plain": [
       "array([  0.,  25.,  50.,  75., 100.])"
      ]
     },
     "execution_count": 71,
     "metadata": {},
     "output_type": "execute_result"
    }
   ],
   "source": [
    "# linspace\n",
    "np.linspace(0, 100, 5)"
   ]
  },
  {
   "cell_type": "code",
   "execution_count": 73,
   "metadata": {},
   "outputs": [
    {
     "data": {
      "text/plain": [
       "array([  100.,  1000., 10000.])"
      ]
     },
     "execution_count": 73,
     "metadata": {},
     "output_type": "execute_result"
    }
   ],
   "source": [
    "# logspace\n",
    "# log10(x1)=2, log10(x2)=3, log10(x3)=4\n",
    "np.logspace(2, 4, 3)"
   ]
  },
  {
   "cell_type": "code",
   "execution_count": null,
   "metadata": {},
   "outputs": [],
   "source": [
    "# 30세에 연봉이 $100000 이고 60세의 연봉이 $1000000 일때\n",
    "# 연봉이 선형으로 증가, 지수함수로 증가하는 두 경우에서의 40세, 50세 연봉을 출력"
   ]
  },
  {
   "cell_type": "code",
   "execution_count": 74,
   "metadata": {},
   "outputs": [],
   "source": [
    "age_30 = 100000\n",
    "age_60 = 1000000"
   ]
  },
  {
   "cell_type": "code",
   "execution_count": 75,
   "metadata": {},
   "outputs": [
    {
     "data": {
      "text/plain": [
       "array([ 100000.,  400000.,  700000., 1000000.])"
      ]
     },
     "execution_count": 75,
     "metadata": {},
     "output_type": "execute_result"
    }
   ],
   "source": [
    "np.linspace(age_30, age_60, 4)"
   ]
  },
  {
   "cell_type": "code",
   "execution_count": 76,
   "metadata": {},
   "outputs": [
    {
     "data": {
      "text/plain": [
       "array([ 100000.        ,  215443.46900319,  464158.88336128,\n",
       "       1000000.        ])"
      ]
     },
     "execution_count": 76,
     "metadata": {},
     "output_type": "execute_result"
    }
   ],
   "source": [
    "np.logspace(np.log10(age_30), np.log10(age_60), 4)"
   ]
  },
  {
   "cell_type": "markdown",
   "metadata": {},
   "source": [
    "### 2. numpy random\n",
    "- seed: 랜덤값을 설정값\n",
    "- rand: 균등분포로 난수를 발생 0~1 사이의 값\n",
    "- randn: 정규분포로 난수를 발생\n",
    "- randint: 균등분포로 정수값을 발생\n",
    "- shuffle: 행렬 데이터를 섞어 줍니다.\n",
    "- choice: 특정 확률로 데이터를 선택\n",
    "- unique: 행열에 몇번나왔는지 확인"
   ]
  },
  {
   "cell_type": "code",
   "execution_count": 78,
   "metadata": {},
   "outputs": [
    {
     "data": {
      "text/plain": [
       "(array([47, 22, 82, 19, 85, 15, 89, 74, 26, 11]),\n",
       " array([47, 22, 82, 19, 85, 15, 89, 74, 26, 11]),\n",
       " array([50, 25, 82, 32, 53, 92, 85, 17, 44, 59]))"
      ]
     },
     "execution_count": 78,
     "metadata": {},
     "output_type": "execute_result"
    }
   ],
   "source": [
    "# seed\n",
    "np.random.seed(1)\n",
    "result1 = np.random.randint(10, 100, 10)\n",
    "\n",
    "np.random.seed(1)\n",
    "result2 = np.random.randint(10, 100, 10)\n",
    "\n",
    "np.random.seed(2)\n",
    "result3 = np.random.randint(10, 100, 10)\n",
    "\n",
    "result1, result2, result3"
   ]
  },
  {
   "cell_type": "code",
   "execution_count": 80,
   "metadata": {},
   "outputs": [
    {
     "data": {
      "text/plain": [
       "(array([0.85397529, 0.49423684, 0.84656149, 0.07964548, 0.50524609,\n",
       "        0.0652865 , 0.42812233, 0.09653092, 0.12715997, 0.59674531]),\n",
       " array([-0.33882197, -0.23618403, -0.63765501, -1.18761229, -1.42121723,\n",
       "        -0.1534952 , -0.26905696,  2.23136679, -2.43476758,  0.1127265 ]))"
      ]
     },
     "execution_count": 80,
     "metadata": {},
     "output_type": "execute_result"
    }
   ],
   "source": [
    "# rand\n",
    "np.random.rand(10), np.random.randn(10)"
   ]
  },
  {
   "cell_type": "code",
   "execution_count": 82,
   "metadata": {},
   "outputs": [
    {
     "data": {
      "text/plain": [
       "array([[9, 3, 7, 6],\n",
       "       [7, 7, 7, 4],\n",
       "       [9, 3, 2, 5]])"
      ]
     },
     "execution_count": 82,
     "metadata": {},
     "output_type": "execute_result"
    }
   ],
   "source": [
    "# shuffle\n",
    "r = np.random.randint(1, 10, (3,4))\n",
    "r"
   ]
  },
  {
   "cell_type": "code",
   "execution_count": 88,
   "metadata": {},
   "outputs": [
    {
     "data": {
      "text/plain": [
       "array([[9, 3, 2, 5],\n",
       "       [9, 3, 7, 6],\n",
       "       [7, 7, 7, 4]])"
      ]
     },
     "execution_count": 88,
     "metadata": {},
     "output_type": "execute_result"
    }
   ],
   "source": [
    "np.random.shuffle(r)\n",
    "r"
   ]
  },
  {
   "cell_type": "code",
   "execution_count": 89,
   "metadata": {},
   "outputs": [
    {
     "data": {
      "text/plain": [
       "array([4, 4, 4, 3, 4, 2, 2, 3, 2, 0])"
      ]
     },
     "execution_count": 89,
     "metadata": {},
     "output_type": "execute_result"
    }
   ],
   "source": [
    "# choice\n",
    "np.random.choice(5, 10, p=[0.1, 0, 0.4, 0.2, 0.3])"
   ]
  },
  {
   "cell_type": "code",
   "execution_count": 91,
   "metadata": {},
   "outputs": [
    {
     "name": "stdout",
     "output_type": "stream",
     "text": [
      "[2 3 4 5 6 7 9]\n",
      "[1 2 1 1 1 4 2]\n"
     ]
    }
   ],
   "source": [
    "# unique\n",
    "numbers, counts = np.unique(r, return_counts=True)\n",
    "print(numbers)\n",
    "print(counts)"
   ]
  },
  {
   "cell_type": "markdown",
   "metadata": {},
   "source": [
    "### 3. 행렬데이터의 결합\n",
    "- concatenate\n",
    "- 매개변수중 axis=0(default): 세로결합, axis=1: 가로결합"
   ]
  },
  {
   "cell_type": "code",
   "execution_count": 99,
   "metadata": {},
   "outputs": [
    {
     "data": {
      "text/plain": [
       "(array([[0, 7, 1],\n",
       "        [8, 9, 0]]),\n",
       " array([[7, 0],\n",
       "        [5, 2],\n",
       "        [5, 1]]),\n",
       " array([[3, 3, 1],\n",
       "        [8, 6, 8],\n",
       "        [1, 5, 7]]))"
      ]
     },
     "execution_count": 99,
     "metadata": {},
     "output_type": "execute_result"
    }
   ],
   "source": [
    "na1 = np.random.randint(10, size=(2, 3))\n",
    "na2 = np.random.randint(10, size=(3, 2))\n",
    "na3 = np.random.randint(10, size=(3, 3))\n",
    "na1, na2, na3"
   ]
  },
  {
   "cell_type": "code",
   "execution_count": 100,
   "metadata": {},
   "outputs": [
    {
     "data": {
      "text/plain": [
       "array([[0, 7, 1],\n",
       "       [8, 9, 0],\n",
       "       [3, 3, 1],\n",
       "       [8, 6, 8],\n",
       "       [1, 5, 7]])"
      ]
     },
     "execution_count": 100,
     "metadata": {},
     "output_type": "execute_result"
    }
   ],
   "source": [
    "# 세로 결합\n",
    "np.concatenate((na1,na3))"
   ]
  },
  {
   "cell_type": "code",
   "execution_count": 101,
   "metadata": {},
   "outputs": [
    {
     "data": {
      "text/plain": [
       "array([[7, 0, 3, 3, 1],\n",
       "       [5, 2, 8, 6, 8],\n",
       "       [5, 1, 1, 5, 7]])"
      ]
     },
     "execution_count": 101,
     "metadata": {},
     "output_type": "execute_result"
    }
   ],
   "source": [
    "# 가로결합\n",
    "np.concatenate((na2,na3), axis=1)"
   ]
  },
  {
   "cell_type": "code",
   "execution_count": null,
   "metadata": {},
   "outputs": [],
   "source": []
  },
  {
   "cell_type": "code",
   "execution_count": null,
   "metadata": {},
   "outputs": [],
   "source": []
  },
  {
   "cell_type": "code",
   "execution_count": null,
   "metadata": {},
   "outputs": [],
   "source": []
  }
 ],
 "metadata": {
  "kernelspec": {
   "display_name": "Python 3",
   "language": "python",
   "name": "python3"
  },
  "language_info": {
   "codemirror_mode": {
    "name": "ipython",
    "version": 3
   },
   "file_extension": ".py",
   "mimetype": "text/x-python",
   "name": "python",
   "nbconvert_exporter": "python",
   "pygments_lexer": "ipython3",
   "version": "3.8.3"
  }
 },
 "nbformat": 4,
 "nbformat_minor": 4
}
