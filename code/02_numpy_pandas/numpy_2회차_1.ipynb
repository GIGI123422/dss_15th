{
 "cells": [
  {
   "cell_type": "markdown",
   "metadata": {},
   "source": [
    "### Numpy\n",
    "- 데이터는 행열로 표현\n",
    "- 행열 데이터 빠르게 계산을 해야 합니다.\n",
    "- 행열 데이터 생성, 수정, 곗ㄴ등을 빠르게 처리해주는 패키지\n",
    "- 특징\n",
    "    - C,C++, 포트란로 작성\n",
    "    - 선형 대수학을 빠르게 연산\n",
    "        - 스칼라, 벡터, 매트릭스"
   ]
  },
  {
   "cell_type": "markdown",
   "metadata": {},
   "source": [
    "### Summary\n",
    "- Numpy 란?\n",
    "    - 다차원 배열을 쉽게 처리하고 효율적으로 사용할수 있도록 지원한 파이썬 패키지\n",
    "    - 이외 에도 수치계산을 위해 효율적으로 구현된 기능 제공\n",
    "    - C의 배열\n",
    "- 데이터 선택\n",
    "    - array[1,2] = array[1][2]\n",
    "    - array2[array2 > 7]\n",
    "- 브로드 캐스팅\n",
    "    - array2[0] = 0 행 일괄 변경 가능\n",
    "- 행열의 생성\n",
    "    - np.array()\n",
    "        - np.array([1,2,3]): 아규먼트: 리스트 or 튜플\n",
    "    - np.arange() : 아규먼트는 range와 동일, type: ndarray\n",
    "        ```\n",
    "        np.arange(5) # [0, 1, 2, 3, 4]\n",
    "        np.arange(5,10) # [5, 6, 7, 8, 9]\n",
    "        np.arange(1, 11,2) # [1, 3, 5, 7, 9]\n",
    "        ```\n",
    "    - np.ones() : dtype = none\n",
    "        - np.ones((4, 3, 2), dtype = int)\n",
    "            - 3행 2열의 배열을 4개 만들고 데이터는 전부 1로 넣어줌\n",
    "    - np.zeros() : dtype = float\n",
    "        - np.zeros((2, 3))\n",
    "            - 아규먼트는 ones와 비슷, 2행 3열의 배열에 데이터 전부 0\n",
    "    - np.random.randint(100, 130, size=(8, 8))\n",
    "    - np.linspace(0, 100, 5, dtype = int) # [  0,  25,  50,  75, 100]\n",
    "        - 설정한 범위에서 선형적으로 분할한 위치의 값을 출력\n",
    "    - np.logspace(2, 4, 3, dtype = int) # [  100,  1000, 10000]\n",
    "        - log10(x1)=2, log10(x2)=3, log10(x3)=4\n",
    "        - 설정한 범위에서 로그로 분할한 위치의 값을 출력\n",
    "- 변수\n",
    "    - dtype : numpy array 의 데이터의 type 반환\n",
    "    - shape : numpy array 의 obejct dimension 구성을 tuple 형태로 반환\n",
    "    - ndim : 차원 반환\n",
    "    - size : data 의 개수\n",
    "    ```\n",
    "    float64\n",
    "    (4,)\n",
    "    1\n",
    "    4\n",
    "    ```\n",
    "- 다양한 함수\n",
    "    - data.reshape(): 행열 변형, Array 의 shape 의 크기를 변경함 (이때, element 의 갯수는 동일)\n",
    "        - size 만 같다면 다차원으로 자유로이 변형가능\n",
    "    - data.astype(\"int\"): 행열의 자료형 변환\n",
    "    - np.min(datas), np.max(datas)\n",
    "    - numpy.unique(arr, return_index, return_inverse, return_counts):\n",
    "        - 입력된 배열에서 중복되지 않는 고유한 요소들의 배열을 리턴\n",
    "        - arr: 1차원 배열이 아니면 병합\n",
    "        - return_index: 값이 True면 입력 배열의 요소들의 인덱스들을 리턴\n",
    "        - return_inverse: 값이 True면 입력 배열을 재구성할 떄 쓰이는 고유 배열의 인덱스들을 반환\n",
    "        - return_counts: 값이 True면 중복 되지 않는 요소들이 입력 배열에 나타난 회 수를 리턴\n",
    "- 결합\n",
    "    - np.concatenate((na1, na3)) 세로로 결합\n",
    "    - np.concatenate((na2, na3), axis=1)\n",
    "    - np.c_[np.array([1,2,3]), np.array([4,5,6])]\n",
    "        - c_[]: 두개의 배열을 열의 형태로 바꾼뒤 더한다\n",
    "        \n",
    "        ```\n",
    "        [[1, 4],\n",
    "       [2, 5],\n",
    "       [3, 6]]\n",
    "        ```\n",
    "     - np.r_[np.array([1,2,3]), np.array([4,5,6])]\n",
    "         - r_[]: 행의 형태로 더한다\n",
    "         - 결과: [1, 2, 3, 4, 5, 6]\n",
    "- numpy random\n",
    "    - seed : 랜덤값을 설정값, 챔스 조 추첨하듯 같은 시드권에서는 같은 값이 나옴\n",
    "    \n",
    "        ```\n",
    "        np.random.seed(1)\n",
    "        result2 = np.random.randint(10, 100, 10)\n",
    "\n",
    "        np.random.seed(2)\n",
    "        result3 = np.random.randint(10, 100, 10)\n",
    "        ``` \n",
    "    - rand : 균등분포로 0 ~ 1사이 난수를 발생\n",
    "        - np.random.rand(3)\n",
    "        - result => [0.29323324, 0.31151808, 0.58479854]\n",
    "    - randn : 정규분포로 난수를 발생\n",
    "    - randint : 균등분포로 정수값을 발생\n",
    "        - np.random.randint(1, 10, (3, 4))\n",
    "    - suffle : 행렬 데이터를 섞어 줍니다.\n",
    "        - np.random.shuffle(np)\n",
    "    - choice : 특정 확률로 데이터를 선택\n",
    "        - np.random.choice(5, 10, p=[0.1, 0, 0.4, 0.2, 0.3])\n",
    "    "
   ]
  },
  {
   "cell_type": "code",
   "execution_count": 24,
   "metadata": {},
   "outputs": [
    {
     "data": {
      "text/plain": [
       "(numpy.ndarray, array([1, 2, 3]))"
      ]
     },
     "execution_count": 24,
     "metadata": {},
     "output_type": "execute_result"
    }
   ],
   "source": [
    "# 행렬 데이터 생성\n",
    "# ndarray : 한가지 데이터 타입만 값으로 사용이 가능\n",
    "array = np.array([1,2,3])\n",
    "type(array), array"
   ]
  },
  {
   "cell_type": "code",
   "execution_count": 25,
   "metadata": {},
   "outputs": [
    {
     "data": {
      "text/plain": [
       "(array([[1, 2, 3],\n",
       "        [4, 5, 6]]),\n",
       " 2,\n",
       " (2, 3))"
      ]
     },
     "execution_count": 25,
     "metadata": {},
     "output_type": "execute_result"
    }
   ],
   "source": [
    "array2 = np.array(\n",
    "    [[1, 2, 3],\n",
    "    [4, 5, 6]]\n",
    ")\n",
    "array2, array2.ndim, array2.shape"
   ]
  },
  {
   "cell_type": "code",
   "execution_count": 26,
   "metadata": {},
   "outputs": [
    {
     "data": {
      "text/plain": [
       "array([[1, 2],\n",
       "       [3, 4],\n",
       "       [5, 6]])"
      ]
     },
     "execution_count": 26,
     "metadata": {},
     "output_type": "execute_result"
    }
   ],
   "source": [
    "# 행렬의 모양(shape) 변경하기\n",
    "array2.reshape(3,2)"
   ]
  },
  {
   "cell_type": "code",
   "execution_count": 27,
   "metadata": {},
   "outputs": [],
   "source": [
    "# 행렬 데이터의 선택: offsef index"
   ]
  },
  {
   "cell_type": "code",
   "execution_count": 28,
   "metadata": {},
   "outputs": [
    {
     "data": {
      "text/plain": [
       "array([4, 5, 6])"
      ]
     },
     "execution_count": 28,
     "metadata": {},
     "output_type": "execute_result"
    }
   ],
   "source": [
    "array2[1][::1]"
   ]
  },
  {
   "cell_type": "code",
   "execution_count": 29,
   "metadata": {},
   "outputs": [
    {
     "data": {
      "text/plain": [
       "6"
      ]
     },
     "execution_count": 29,
     "metadata": {},
     "output_type": "execute_result"
    }
   ],
   "source": [
    "array2[1,2] # array2[1][2]"
   ]
  },
  {
   "cell_type": "code",
   "execution_count": 30,
   "metadata": {},
   "outputs": [],
   "source": [
    "# 데이터 수정"
   ]
  },
  {
   "cell_type": "code",
   "execution_count": 31,
   "metadata": {},
   "outputs": [
    {
     "data": {
      "text/plain": [
       "(numpy.ndarray, numpy.ndarray, numpy.int32)"
      ]
     },
     "execution_count": 31,
     "metadata": {},
     "output_type": "execute_result"
    }
   ],
   "source": [
    "array2[0][1] = 7\n",
    "type(array2), type(array2[0]), type(array2[0][0])"
   ]
  },
  {
   "cell_type": "code",
   "execution_count": 32,
   "metadata": {},
   "outputs": [
    {
     "name": "stdout",
     "output_type": "stream",
     "text": [
      "[[0 0 0]\n",
      " [4 5 6]]\n"
     ]
    }
   ],
   "source": [
    "# 브로드캐스팅\n",
    "array2[0] = 0 # 행의 데이터 일괄 변경 가능\n",
    "print(array2)"
   ]
  },
  {
   "cell_type": "code",
   "execution_count": 34,
   "metadata": {},
   "outputs": [
    {
     "data": {
      "text/plain": [
       "array([[ 9, 10, 11],\n",
       "       [ 4,  5,  6]])"
      ]
     },
     "execution_count": 34,
     "metadata": {},
     "output_type": "execute_result"
    }
   ],
   "source": [
    "array2[0] = [9,10,11]\n",
    "array2"
   ]
  },
  {
   "cell_type": "code",
   "execution_count": 37,
   "metadata": {},
   "outputs": [],
   "source": [
    "#  조건으로 선택\n",
    "idx = array2 > 7"
   ]
  },
  {
   "cell_type": "code",
   "execution_count": 50,
   "metadata": {},
   "outputs": [
    {
     "data": {
      "text/plain": [
       "array([ 9, 10, 11])"
      ]
     },
     "execution_count": 50,
     "metadata": {},
     "output_type": "execute_result"
    }
   ],
   "source": [
    "array2[array2 > 7]"
   ]
  },
  {
   "cell_type": "code",
   "execution_count": 44,
   "metadata": {},
   "outputs": [
    {
     "data": {
      "text/plain": [
       "(array([[[0., 0., 0.],\n",
       "         [0., 0., 0.]],\n",
       " \n",
       "        [[0., 0., 0.],\n",
       "         [0., 0., 0.]],\n",
       " \n",
       "        [[0., 0., 0.],\n",
       "         [0., 0., 0.]]]),\n",
       " dtype('float64'))"
      ]
     },
     "execution_count": 44,
     "metadata": {},
     "output_type": "execute_result"
    }
   ],
   "source": [
    "# 행렬데이터의 생성 2\n",
    "# np.zeros((2, 3)) -> 0으로 가득찬 2행 3열\n",
    "# np.ones((4, 3, 2)) -> 3행 2열 4개\n",
    "# dtype: 자료형 반환\n",
    "# data.astype(자료형): 자료형 변경\n",
    "data = np.zeros((2, 3))\n",
    "data, data.dtype"
   ]
  },
  {
   "cell_type": "code",
   "execution_count": 46,
   "metadata": {},
   "outputs": [
    {
     "data": {
      "text/plain": [
       "array([[[0, 0, 0],\n",
       "        [0, 0, 0]],\n",
       "\n",
       "       [[0, 0, 0],\n",
       "        [0, 0, 0]],\n",
       "\n",
       "       [[0, 0, 0],\n",
       "        [0, 0, 0]]])"
      ]
     },
     "execution_count": 46,
     "metadata": {},
     "output_type": "execute_result"
    }
   ],
   "source": [
    "data = data.astype(\"int\")\n",
    "data"
   ]
  },
  {
   "cell_type": "code",
   "execution_count": 49,
   "metadata": {},
   "outputs": [
    {
     "data": {
      "text/plain": [
       "array([[[1, 1, 1],\n",
       "        [1, 1, 1],\n",
       "        [1, 1, 1]],\n",
       "\n",
       "       [[1, 1, 1],\n",
       "        [1, 1, 1],\n",
       "        [1, 1, 1]],\n",
       "\n",
       "       [[1, 1, 1],\n",
       "        [1, 1, 1],\n",
       "        [1, 1, 1]]])"
      ]
     },
     "execution_count": 49,
     "metadata": {},
     "output_type": "execute_result"
    }
   ],
   "source": [
    "data = np.ones((3, 3, 3), dtype = int)\n",
    "data"
   ]
  },
  {
   "cell_type": "code",
   "execution_count": 48,
   "metadata": {},
   "outputs": [
    {
     "data": {
      "text/plain": [
       "array([1, 3, 5, 7, 9])"
      ]
     },
     "execution_count": 48,
     "metadata": {},
     "output_type": "execute_result"
    }
   ],
   "source": [
    "# 행열 데이터 생성 3\n",
    "# np.arrange\n",
    "np.arange(5) # [0, 1, 2, 3, 4]\n",
    "np.arange(5,10) # [5, 6, 7, 8, 9]\n",
    "np.arange(1, 11,2) # [1, 3, 5, 7, 9]"
   ]
  },
  {
   "cell_type": "code",
   "execution_count": null,
   "metadata": {},
   "outputs": [],
   "source": []
  },
  {
   "cell_type": "code",
   "execution_count": null,
   "metadata": {},
   "outputs": [],
   "source": []
  }
 ],
 "metadata": {
  "kernelspec": {
   "display_name": "Python 3",
   "language": "python",
   "name": "python3"
  },
  "language_info": {
   "codemirror_mode": {
    "name": "ipython",
    "version": 3
   },
   "file_extension": ".py",
   "mimetype": "text/x-python",
   "name": "python",
   "nbconvert_exporter": "python",
   "pygments_lexer": "ipython3",
   "version": "3.8.3"
  }
 },
 "nbformat": 4,
 "nbformat_minor": 4
}
